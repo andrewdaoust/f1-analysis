{
 "cells": [
  {
   "cell_type": "code",
   "execution_count": 1,
   "id": "3b4cb6c1-c310-48ae-998a-8a7d63c3c131",
   "metadata": {},
   "outputs": [],
   "source": [
    "%load_ext autoreload\n",
    "%autoreload 2"
   ]
  },
  {
   "cell_type": "code",
   "execution_count": 2,
   "id": "04718dbc-d6fa-4840-9cb4-6f1ec2703646",
   "metadata": {},
   "outputs": [
    {
     "data": {
      "text/html": [
       "\n",
       "    <div class=\"bk-root\">\n",
       "        <a href=\"https://bokeh.org\" target=\"_blank\" class=\"bk-logo bk-logo-small bk-logo-notebook\"></a>\n",
       "        <span id=\"1002\">Loading BokehJS ...</span>\n",
       "    </div>"
      ]
     },
     "metadata": {},
     "output_type": "display_data"
    },
    {
     "data": {
      "application/javascript": [
       "\n",
       "(function(root) {\n",
       "  function now() {\n",
       "    return new Date();\n",
       "  }\n",
       "\n",
       "  const force = true;\n",
       "\n",
       "  if (typeof root._bokeh_onload_callbacks === \"undefined\" || force === true) {\n",
       "    root._bokeh_onload_callbacks = [];\n",
       "    root._bokeh_is_loading = undefined;\n",
       "  }\n",
       "\n",
       "  const JS_MIME_TYPE = 'application/javascript';\n",
       "  const HTML_MIME_TYPE = 'text/html';\n",
       "  const EXEC_MIME_TYPE = 'application/vnd.bokehjs_exec.v0+json';\n",
       "  const CLASS_NAME = 'output_bokeh rendered_html';\n",
       "\n",
       "  /**\n",
       "   * Render data to the DOM node\n",
       "   */\n",
       "  function render(props, node) {\n",
       "    const script = document.createElement(\"script\");\n",
       "    node.appendChild(script);\n",
       "  }\n",
       "\n",
       "  /**\n",
       "   * Handle when an output is cleared or removed\n",
       "   */\n",
       "  function handleClearOutput(event, handle) {\n",
       "    const cell = handle.cell;\n",
       "\n",
       "    const id = cell.output_area._bokeh_element_id;\n",
       "    const server_id = cell.output_area._bokeh_server_id;\n",
       "    // Clean up Bokeh references\n",
       "    if (id != null && id in Bokeh.index) {\n",
       "      Bokeh.index[id].model.document.clear();\n",
       "      delete Bokeh.index[id];\n",
       "    }\n",
       "\n",
       "    if (server_id !== undefined) {\n",
       "      // Clean up Bokeh references\n",
       "      const cmd_clean = \"from bokeh.io.state import curstate; print(curstate().uuid_to_server['\" + server_id + \"'].get_sessions()[0].document.roots[0]._id)\";\n",
       "      cell.notebook.kernel.execute(cmd_clean, {\n",
       "        iopub: {\n",
       "          output: function(msg) {\n",
       "            const id = msg.content.text.trim();\n",
       "            if (id in Bokeh.index) {\n",
       "              Bokeh.index[id].model.document.clear();\n",
       "              delete Bokeh.index[id];\n",
       "            }\n",
       "          }\n",
       "        }\n",
       "      });\n",
       "      // Destroy server and session\n",
       "      const cmd_destroy = \"import bokeh.io.notebook as ion; ion.destroy_server('\" + server_id + \"')\";\n",
       "      cell.notebook.kernel.execute(cmd_destroy);\n",
       "    }\n",
       "  }\n",
       "\n",
       "  /**\n",
       "   * Handle when a new output is added\n",
       "   */\n",
       "  function handleAddOutput(event, handle) {\n",
       "    const output_area = handle.output_area;\n",
       "    const output = handle.output;\n",
       "\n",
       "    // limit handleAddOutput to display_data with EXEC_MIME_TYPE content only\n",
       "    if ((output.output_type != \"display_data\") || (!Object.prototype.hasOwnProperty.call(output.data, EXEC_MIME_TYPE))) {\n",
       "      return\n",
       "    }\n",
       "\n",
       "    const toinsert = output_area.element.find(\".\" + CLASS_NAME.split(' ')[0]);\n",
       "\n",
       "    if (output.metadata[EXEC_MIME_TYPE][\"id\"] !== undefined) {\n",
       "      toinsert[toinsert.length - 1].firstChild.textContent = output.data[JS_MIME_TYPE];\n",
       "      // store reference to embed id on output_area\n",
       "      output_area._bokeh_element_id = output.metadata[EXEC_MIME_TYPE][\"id\"];\n",
       "    }\n",
       "    if (output.metadata[EXEC_MIME_TYPE][\"server_id\"] !== undefined) {\n",
       "      const bk_div = document.createElement(\"div\");\n",
       "      bk_div.innerHTML = output.data[HTML_MIME_TYPE];\n",
       "      const script_attrs = bk_div.children[0].attributes;\n",
       "      for (let i = 0; i < script_attrs.length; i++) {\n",
       "        toinsert[toinsert.length - 1].firstChild.setAttribute(script_attrs[i].name, script_attrs[i].value);\n",
       "        toinsert[toinsert.length - 1].firstChild.textContent = bk_div.children[0].textContent\n",
       "      }\n",
       "      // store reference to server id on output_area\n",
       "      output_area._bokeh_server_id = output.metadata[EXEC_MIME_TYPE][\"server_id\"];\n",
       "    }\n",
       "  }\n",
       "\n",
       "  function register_renderer(events, OutputArea) {\n",
       "\n",
       "    function append_mime(data, metadata, element) {\n",
       "      // create a DOM node to render to\n",
       "      const toinsert = this.create_output_subarea(\n",
       "        metadata,\n",
       "        CLASS_NAME,\n",
       "        EXEC_MIME_TYPE\n",
       "      );\n",
       "      this.keyboard_manager.register_events(toinsert);\n",
       "      // Render to node\n",
       "      const props = {data: data, metadata: metadata[EXEC_MIME_TYPE]};\n",
       "      render(props, toinsert[toinsert.length - 1]);\n",
       "      element.append(toinsert);\n",
       "      return toinsert\n",
       "    }\n",
       "\n",
       "    /* Handle when an output is cleared or removed */\n",
       "    events.on('clear_output.CodeCell', handleClearOutput);\n",
       "    events.on('delete.Cell', handleClearOutput);\n",
       "\n",
       "    /* Handle when a new output is added */\n",
       "    events.on('output_added.OutputArea', handleAddOutput);\n",
       "\n",
       "    /**\n",
       "     * Register the mime type and append_mime function with output_area\n",
       "     */\n",
       "    OutputArea.prototype.register_mime_type(EXEC_MIME_TYPE, append_mime, {\n",
       "      /* Is output safe? */\n",
       "      safe: true,\n",
       "      /* Index of renderer in `output_area.display_order` */\n",
       "      index: 0\n",
       "    });\n",
       "  }\n",
       "\n",
       "  // register the mime type if in Jupyter Notebook environment and previously unregistered\n",
       "  if (root.Jupyter !== undefined) {\n",
       "    const events = require('base/js/events');\n",
       "    const OutputArea = require('notebook/js/outputarea').OutputArea;\n",
       "\n",
       "    if (OutputArea.prototype.mime_types().indexOf(EXEC_MIME_TYPE) == -1) {\n",
       "      register_renderer(events, OutputArea);\n",
       "    }\n",
       "  }\n",
       "\n",
       "  \n",
       "  if (typeof (root._bokeh_timeout) === \"undefined\" || force === true) {\n",
       "    root._bokeh_timeout = Date.now() + 5000;\n",
       "    root._bokeh_failed_load = false;\n",
       "  }\n",
       "\n",
       "  const NB_LOAD_WARNING = {'data': {'text/html':\n",
       "     \"<div style='background-color: #fdd'>\\n\"+\n",
       "     \"<p>\\n\"+\n",
       "     \"BokehJS does not appear to have successfully loaded. If loading BokehJS from CDN, this \\n\"+\n",
       "     \"may be due to a slow or bad network connection. Possible fixes:\\n\"+\n",
       "     \"</p>\\n\"+\n",
       "     \"<ul>\\n\"+\n",
       "     \"<li>re-rerun `output_notebook()` to attempt to load from CDN again, or</li>\\n\"+\n",
       "     \"<li>use INLINE resources instead, as so:</li>\\n\"+\n",
       "     \"</ul>\\n\"+\n",
       "     \"<code>\\n\"+\n",
       "     \"from bokeh.resources import INLINE\\n\"+\n",
       "     \"output_notebook(resources=INLINE)\\n\"+\n",
       "     \"</code>\\n\"+\n",
       "     \"</div>\"}};\n",
       "\n",
       "  function display_loaded() {\n",
       "    const el = document.getElementById(\"1002\");\n",
       "    if (el != null) {\n",
       "      el.textContent = \"BokehJS is loading...\";\n",
       "    }\n",
       "    if (root.Bokeh !== undefined) {\n",
       "      if (el != null) {\n",
       "        el.textContent = \"BokehJS \" + root.Bokeh.version + \" successfully loaded.\";\n",
       "      }\n",
       "    } else if (Date.now() < root._bokeh_timeout) {\n",
       "      setTimeout(display_loaded, 100)\n",
       "    }\n",
       "  }\n",
       "\n",
       "\n",
       "  function run_callbacks() {\n",
       "    try {\n",
       "      root._bokeh_onload_callbacks.forEach(function(callback) {\n",
       "        if (callback != null)\n",
       "          callback();\n",
       "      });\n",
       "    } finally {\n",
       "      delete root._bokeh_onload_callbacks\n",
       "    }\n",
       "    console.debug(\"Bokeh: all callbacks have finished\");\n",
       "  }\n",
       "\n",
       "  function load_libs(css_urls, js_urls, callback) {\n",
       "    if (css_urls == null) css_urls = [];\n",
       "    if (js_urls == null) js_urls = [];\n",
       "\n",
       "    root._bokeh_onload_callbacks.push(callback);\n",
       "    if (root._bokeh_is_loading > 0) {\n",
       "      console.debug(\"Bokeh: BokehJS is being loaded, scheduling callback at\", now());\n",
       "      return null;\n",
       "    }\n",
       "    if (js_urls == null || js_urls.length === 0) {\n",
       "      run_callbacks();\n",
       "      return null;\n",
       "    }\n",
       "    console.debug(\"Bokeh: BokehJS not loaded, scheduling load and callback at\", now());\n",
       "    root._bokeh_is_loading = css_urls.length + js_urls.length;\n",
       "\n",
       "    function on_load() {\n",
       "      root._bokeh_is_loading--;\n",
       "      if (root._bokeh_is_loading === 0) {\n",
       "        console.debug(\"Bokeh: all BokehJS libraries/stylesheets loaded\");\n",
       "        run_callbacks()\n",
       "      }\n",
       "    }\n",
       "\n",
       "    function on_error(url) {\n",
       "      console.error(\"failed to load \" + url);\n",
       "    }\n",
       "\n",
       "    for (let i = 0; i < css_urls.length; i++) {\n",
       "      const url = css_urls[i];\n",
       "      const element = document.createElement(\"link\");\n",
       "      element.onload = on_load;\n",
       "      element.onerror = on_error.bind(null, url);\n",
       "      element.rel = \"stylesheet\";\n",
       "      element.type = \"text/css\";\n",
       "      element.href = url;\n",
       "      console.debug(\"Bokeh: injecting link tag for BokehJS stylesheet: \", url);\n",
       "      document.body.appendChild(element);\n",
       "    }\n",
       "\n",
       "    for (let i = 0; i < js_urls.length; i++) {\n",
       "      const url = js_urls[i];\n",
       "      const element = document.createElement('script');\n",
       "      element.onload = on_load;\n",
       "      element.onerror = on_error.bind(null, url);\n",
       "      element.async = false;\n",
       "      element.src = url;\n",
       "      console.debug(\"Bokeh: injecting script tag for BokehJS library: \", url);\n",
       "      document.head.appendChild(element);\n",
       "    }\n",
       "  };\n",
       "\n",
       "  function inject_raw_css(css) {\n",
       "    const element = document.createElement(\"style\");\n",
       "    element.appendChild(document.createTextNode(css));\n",
       "    document.body.appendChild(element);\n",
       "  }\n",
       "\n",
       "  \n",
       "  const js_urls = [\"https://cdn.bokeh.org/bokeh/release/bokeh-2.4.2.min.js\", \"https://cdn.bokeh.org/bokeh/release/bokeh-gl-2.4.2.min.js\", \"https://cdn.bokeh.org/bokeh/release/bokeh-widgets-2.4.2.min.js\", \"https://cdn.bokeh.org/bokeh/release/bokeh-tables-2.4.2.min.js\", \"https://cdn.bokeh.org/bokeh/release/bokeh-mathjax-2.4.2.min.js\"];\n",
       "  const css_urls = [];\n",
       "  \n",
       "\n",
       "  const inline_js = [\n",
       "    function(Bokeh) {\n",
       "      Bokeh.set_log_level(\"info\");\n",
       "    },\n",
       "    function(Bokeh) {\n",
       "    \n",
       "    \n",
       "    }\n",
       "  ];\n",
       "\n",
       "  function run_inline_js() {\n",
       "    \n",
       "    if (root.Bokeh !== undefined || force === true) {\n",
       "      \n",
       "    for (let i = 0; i < inline_js.length; i++) {\n",
       "      inline_js[i].call(root, root.Bokeh);\n",
       "    }\n",
       "    if (force === true) {\n",
       "        display_loaded();\n",
       "      }} else if (Date.now() < root._bokeh_timeout) {\n",
       "      setTimeout(run_inline_js, 100);\n",
       "    } else if (!root._bokeh_failed_load) {\n",
       "      console.log(\"Bokeh: BokehJS failed to load within specified timeout.\");\n",
       "      root._bokeh_failed_load = true;\n",
       "    } else if (force !== true) {\n",
       "      const cell = $(document.getElementById(\"1002\")).parents('.cell').data().cell;\n",
       "      cell.output_area.append_execute_result(NB_LOAD_WARNING)\n",
       "    }\n",
       "\n",
       "  }\n",
       "\n",
       "  if (root._bokeh_is_loading === 0) {\n",
       "    console.debug(\"Bokeh: BokehJS loaded, going straight to plotting\");\n",
       "    run_inline_js();\n",
       "  } else {\n",
       "    load_libs(css_urls, js_urls, function() {\n",
       "      console.debug(\"Bokeh: BokehJS plotting callback run at\", now());\n",
       "      run_inline_js();\n",
       "    });\n",
       "  }\n",
       "}(window));"
      ],
      "application/vnd.bokehjs_load.v0+json": "\n(function(root) {\n  function now() {\n    return new Date();\n  }\n\n  const force = true;\n\n  if (typeof root._bokeh_onload_callbacks === \"undefined\" || force === true) {\n    root._bokeh_onload_callbacks = [];\n    root._bokeh_is_loading = undefined;\n  }\n\n  \n\n  \n  if (typeof (root._bokeh_timeout) === \"undefined\" || force === true) {\n    root._bokeh_timeout = Date.now() + 5000;\n    root._bokeh_failed_load = false;\n  }\n\n  const NB_LOAD_WARNING = {'data': {'text/html':\n     \"<div style='background-color: #fdd'>\\n\"+\n     \"<p>\\n\"+\n     \"BokehJS does not appear to have successfully loaded. If loading BokehJS from CDN, this \\n\"+\n     \"may be due to a slow or bad network connection. Possible fixes:\\n\"+\n     \"</p>\\n\"+\n     \"<ul>\\n\"+\n     \"<li>re-rerun `output_notebook()` to attempt to load from CDN again, or</li>\\n\"+\n     \"<li>use INLINE resources instead, as so:</li>\\n\"+\n     \"</ul>\\n\"+\n     \"<code>\\n\"+\n     \"from bokeh.resources import INLINE\\n\"+\n     \"output_notebook(resources=INLINE)\\n\"+\n     \"</code>\\n\"+\n     \"</div>\"}};\n\n  function display_loaded() {\n    const el = document.getElementById(\"1002\");\n    if (el != null) {\n      el.textContent = \"BokehJS is loading...\";\n    }\n    if (root.Bokeh !== undefined) {\n      if (el != null) {\n        el.textContent = \"BokehJS \" + root.Bokeh.version + \" successfully loaded.\";\n      }\n    } else if (Date.now() < root._bokeh_timeout) {\n      setTimeout(display_loaded, 100)\n    }\n  }\n\n\n  function run_callbacks() {\n    try {\n      root._bokeh_onload_callbacks.forEach(function(callback) {\n        if (callback != null)\n          callback();\n      });\n    } finally {\n      delete root._bokeh_onload_callbacks\n    }\n    console.debug(\"Bokeh: all callbacks have finished\");\n  }\n\n  function load_libs(css_urls, js_urls, callback) {\n    if (css_urls == null) css_urls = [];\n    if (js_urls == null) js_urls = [];\n\n    root._bokeh_onload_callbacks.push(callback);\n    if (root._bokeh_is_loading > 0) {\n      console.debug(\"Bokeh: BokehJS is being loaded, scheduling callback at\", now());\n      return null;\n    }\n    if (js_urls == null || js_urls.length === 0) {\n      run_callbacks();\n      return null;\n    }\n    console.debug(\"Bokeh: BokehJS not loaded, scheduling load and callback at\", now());\n    root._bokeh_is_loading = css_urls.length + js_urls.length;\n\n    function on_load() {\n      root._bokeh_is_loading--;\n      if (root._bokeh_is_loading === 0) {\n        console.debug(\"Bokeh: all BokehJS libraries/stylesheets loaded\");\n        run_callbacks()\n      }\n    }\n\n    function on_error(url) {\n      console.error(\"failed to load \" + url);\n    }\n\n    for (let i = 0; i < css_urls.length; i++) {\n      const url = css_urls[i];\n      const element = document.createElement(\"link\");\n      element.onload = on_load;\n      element.onerror = on_error.bind(null, url);\n      element.rel = \"stylesheet\";\n      element.type = \"text/css\";\n      element.href = url;\n      console.debug(\"Bokeh: injecting link tag for BokehJS stylesheet: \", url);\n      document.body.appendChild(element);\n    }\n\n    for (let i = 0; i < js_urls.length; i++) {\n      const url = js_urls[i];\n      const element = document.createElement('script');\n      element.onload = on_load;\n      element.onerror = on_error.bind(null, url);\n      element.async = false;\n      element.src = url;\n      console.debug(\"Bokeh: injecting script tag for BokehJS library: \", url);\n      document.head.appendChild(element);\n    }\n  };\n\n  function inject_raw_css(css) {\n    const element = document.createElement(\"style\");\n    element.appendChild(document.createTextNode(css));\n    document.body.appendChild(element);\n  }\n\n  \n  const js_urls = [\"https://cdn.bokeh.org/bokeh/release/bokeh-2.4.2.min.js\", \"https://cdn.bokeh.org/bokeh/release/bokeh-gl-2.4.2.min.js\", \"https://cdn.bokeh.org/bokeh/release/bokeh-widgets-2.4.2.min.js\", \"https://cdn.bokeh.org/bokeh/release/bokeh-tables-2.4.2.min.js\", \"https://cdn.bokeh.org/bokeh/release/bokeh-mathjax-2.4.2.min.js\"];\n  const css_urls = [];\n  \n\n  const inline_js = [\n    function(Bokeh) {\n      Bokeh.set_log_level(\"info\");\n    },\n    function(Bokeh) {\n    \n    \n    }\n  ];\n\n  function run_inline_js() {\n    \n    if (root.Bokeh !== undefined || force === true) {\n      \n    for (let i = 0; i < inline_js.length; i++) {\n      inline_js[i].call(root, root.Bokeh);\n    }\n    if (force === true) {\n        display_loaded();\n      }} else if (Date.now() < root._bokeh_timeout) {\n      setTimeout(run_inline_js, 100);\n    } else if (!root._bokeh_failed_load) {\n      console.log(\"Bokeh: BokehJS failed to load within specified timeout.\");\n      root._bokeh_failed_load = true;\n    } else if (force !== true) {\n      const cell = $(document.getElementById(\"1002\")).parents('.cell').data().cell;\n      cell.output_area.append_execute_result(NB_LOAD_WARNING)\n    }\n\n  }\n\n  if (root._bokeh_is_loading === 0) {\n    console.debug(\"Bokeh: BokehJS loaded, going straight to plotting\");\n    run_inline_js();\n  } else {\n    load_libs(css_urls, js_urls, function() {\n      console.debug(\"Bokeh: BokehJS plotting callback run at\", now());\n      run_inline_js();\n    });\n  }\n}(window));"
     },
     "metadata": {},
     "output_type": "display_data"
    }
   ],
   "source": [
    "import fastf1\n",
    "from bokeh.io import output_notebook\n",
    "import ff1_helpers\n",
    "\n",
    "cache_dir = '/Users/daoust.andrew/Code/f1-analysis/cache'\n",
    "fastf1.Cache.enable_cache(cache_dir)\n",
    "\n",
    "output_notebook()"
   ]
  },
  {
   "cell_type": "code",
   "execution_count": 4,
   "id": "a4d9ea22-83b5-4dcd-b05f-6f928c546514",
   "metadata": {},
   "outputs": [],
   "source": [
    "# Load sessions\n",
    "\n",
    "# session = fastf1.get_session(2022, 'Imola', 'R')\n",
    "# session.load()\n",
    "\n",
    "# q_session = fastf1.get_session(2022, 'Imola', 'Q')\n",
    "# q_session.load()\n",
    "\n",
    "# miami_q_session = fastf1.get_session(2022, 'Miami', 'Q')\n",
    "# miami_q_session.load()\n",
    "\n",
    "# miami_r_session = fastf1.get_session(2022, 'Miami', 'R')\n",
    "# miami_r_session.load()\n",
    "\n",
    "# ad2021_race = fastf1.get_session(2021, 'Abu Dhabi', 'R')\n",
    "# ad2021_race.load()"
   ]
  },
  {
   "cell_type": "code",
   "execution_count": 5,
   "id": "51dec6cf-9410-47de-a651-1172ab2bfeb4",
   "metadata": {},
   "outputs": [],
   "source": [
    "verstappen = session.laps.pick_driver('VER')\n",
    "leclerc = session.laps.pick_driver('LEC')"
   ]
  },
  {
   "cell_type": "code",
   "execution_count": 100,
   "id": "fbae2c72-8258-45d0-9862-9286219f1a8f",
   "metadata": {},
   "outputs": [],
   "source": [
    "# verstappen"
   ]
  },
  {
   "cell_type": "code",
   "execution_count": 6,
   "id": "6686845e-4185-4eb0-96ab-d930e13c1fd9",
   "metadata": {},
   "outputs": [
    {
     "data": {
      "text/html": [
       "\n",
       "\n",
       "\n",
       "\n",
       "\n",
       "\n",
       "  <div class=\"bk-root\" id=\"5f845608-7c02-473f-81ec-5f957dcd512b\" data-root-id=\"1003\"></div>\n"
      ]
     },
     "metadata": {},
     "output_type": "display_data"
    },
    {
     "data": {
      "application/javascript": [
       "(function(root) {\n",
       "  function embed_document(root) {\n",
       "    \n",
       "  const docs_json = {\"52990d5f-6214-4fd8-bc23-5ff0d162860a\":{\"defs\":[],\"roots\":{\"references\":[{\"attributes\":{\"background_fill_color\":\"#525151\",\"below\":[{\"id\":\"1014\"}],\"border_fill_color\":\"#525151\",\"center\":[{\"id\":\"1017\"},{\"id\":\"1021\"}],\"left\":[{\"id\":\"1018\"}],\"renderers\":[{\"id\":\"1040\"}],\"title\":{\"id\":\"1004\"},\"toolbar\":{\"id\":\"1029\"},\"x_range\":{\"id\":\"1006\"},\"x_scale\":{\"id\":\"1010\"},\"y_range\":{\"id\":\"1008\"},\"y_scale\":{\"id\":\"1012\"}},\"id\":\"1003\",\"subtype\":\"Figure\",\"type\":\"Plot\"},{\"attributes\":{\"coordinates\":null,\"data_source\":{\"id\":\"1036\"},\"glyph\":{\"id\":\"1037\"},\"group\":null,\"hover_glyph\":null,\"muted_glyph\":{\"id\":\"1039\"},\"nonselection_glyph\":{\"id\":\"1038\"},\"view\":{\"id\":\"1041\"}},\"id\":\"1040\",\"type\":\"GlyphRenderer\"},{\"attributes\":{\"tools\":[{\"id\":\"1022\"},{\"id\":\"1023\"},{\"id\":\"1024\"},{\"id\":\"1025\"},{\"id\":\"1026\"},{\"id\":\"1027\"}]},\"id\":\"1029\",\"type\":\"Toolbar\"},{\"attributes\":{},\"id\":\"1050\",\"type\":\"Selection\"},{\"attributes\":{},\"id\":\"1015\",\"type\":\"BasicTicker\"},{\"attributes\":{},\"id\":\"1027\",\"type\":\"HelpTool\"},{\"attributes\":{},\"id\":\"1048\",\"type\":\"AllLabels\"},{\"attributes\":{},\"id\":\"1010\",\"type\":\"LinearScale\"},{\"attributes\":{\"axis\":{\"id\":\"1014\"},\"coordinates\":null,\"grid_line_alpha\":0.4,\"group\":null,\"ticker\":null},\"id\":\"1017\",\"type\":\"Grid\"},{\"attributes\":{\"axis_label\":\"Lap time (s)\",\"axis_label_text_color\":\"white\",\"axis_line_color\":\"white\",\"coordinates\":null,\"formatter\":{\"id\":\"1044\"},\"group\":null,\"major_label_policy\":{\"id\":\"1045\"},\"major_label_text_color\":\"white\",\"major_tick_line_color\":\"white\",\"minor_tick_line_color\":\"white\",\"ticker\":{\"id\":\"1019\"}},\"id\":\"1018\",\"type\":\"LinearAxis\"},{\"attributes\":{\"line_alpha\":0.2,\"line_color\":\"cornflowerblue\",\"line_width\":2,\"x\":{\"field\":\"x\"},\"y\":{\"field\":\"y\"}},\"id\":\"1039\",\"type\":\"Line\"},{\"attributes\":{},\"id\":\"1008\",\"type\":\"DataRange1d\"},{\"attributes\":{},\"id\":\"1044\",\"type\":\"BasicTickFormatter\"},{\"attributes\":{\"axis_label\":\"Lap #\",\"axis_label_text_color\":\"white\",\"axis_line_color\":\"white\",\"coordinates\":null,\"formatter\":{\"id\":\"1047\"},\"group\":null,\"major_label_policy\":{\"id\":\"1048\"},\"major_label_text_color\":\"white\",\"major_tick_line_color\":\"white\",\"minor_tick_line_color\":\"white\",\"ticker\":{\"id\":\"1015\"}},\"id\":\"1014\",\"type\":\"LinearAxis\"},{\"attributes\":{\"line_alpha\":0.1,\"line_color\":\"cornflowerblue\",\"line_width\":2,\"x\":{\"field\":\"x\"},\"y\":{\"field\":\"y\"}},\"id\":\"1038\",\"type\":\"Line\"},{\"attributes\":{},\"id\":\"1006\",\"type\":\"DataRange1d\"},{\"attributes\":{},\"id\":\"1049\",\"type\":\"UnionRenderers\"},{\"attributes\":{},\"id\":\"1019\",\"type\":\"BasicTicker\"},{\"attributes\":{\"data\":{\"x\":{\"__ndarray__\":\"AAAAAAAA8D8AAAAAAAAAQAAAAAAAAAhAAAAAAAAAEEAAAAAAAAAUQAAAAAAAABhAAAAAAAAAHEAAAAAAAAAgQAAAAAAAACJAAAAAAAAAJEAAAAAAAAAmQAAAAAAAAChAAAAAAAAAKkAAAAAAAAAsQAAAAAAAAC5AAAAAAAAAMEAAAAAAAAAxQAAAAAAAADJAAAAAAAAAM0AAAAAAAAA0QAAAAAAAADVAAAAAAAAANkAAAAAAAAA3QAAAAAAAADhAAAAAAAAAOUAAAAAAAAA6QAAAAAAAADtAAAAAAAAAPEAAAAAAAAA9QAAAAAAAAD5AAAAAAAAAP0AAAAAAAABAQAAAAAAAgEBAAAAAAAAAQUAAAAAAAIBBQAAAAAAAAEJAAAAAAACAQkAAAAAAAABDQAAAAAAAgENAAAAAAAAAREAAAAAAAIBEQAAAAAAAAEVAAAAAAACARUAAAAAAAABGQAAAAAAAgEZAAAAAAAAAR0AAAAAAAIBHQAAAAAAAAEhAAAAAAACASEAAAAAAAABJQAAAAAAAgElAAAAAAAAASkAAAAAAAIBKQAAAAAAAAEtAAAAAAACAS0AAAAAAAABMQAAAAAAAgExAAAAAAAAATUAAAAAAAIBNQAAAAAAAAE5AAAAAAACATkAAAAAAAABPQAAAAAAAgE9A\",\"dtype\":\"float64\",\"order\":\"little\",\"shape\":[63]},\"y\":{\"__ndarray__\":\"AAAAAAAA+H+kcD0K1z9iQAAAAAAAEGFAi2zn+6ltYkDNzMzMzNxWQCPb+X5qnFZAVg4tsp2HVkAX2c73U4tWQKabxCCwelZAWDm0yHaWVkAEVg4tspVWQLx0kxgEvlZAzczMzMzUVkA3iUFg5fhWQNEi2/l+AldA+FPjpZsEV0CTGARWDgVXQFyPwvUo3FZA/tR46SbRV0CsHFpkO69cQL6fGi/dXFVAiUFg5dDyVEBWDi2ynbdUQL6fGi/dnFRARIts5/uJVEBvEoPAymlUQK5H4XoURlRAPzVeukksVEASg8DKoS1UQO58PzVeOlRApHA9CtczVEAhsHJokSVUQDMzMzMzI1RApHA9CtcjVEACK4cW2SZUQJhuEoPAElRAyXa+nxoXVEBoke18PyVUQH9qvHSTMFRArkfhehRGVEDZzvdT4z1UQHWTGARWDlRAdZMYBFY+VEDP91PjpSNUQIGVQ4tsH1RAPzVeukkcVEAQWDm0yBZUQFyPwvUoLFRAi2zn+6kxVEDwp8ZLN0FUQNv5fmq8ZFVA2c73U+MVWkCyne+nxtNTQH0/NV66SVRABoGVQ4ucU0DVeOkmMeBTQGiR7Xw/JVRAvp8aL93UU0Dn+6nx0vVTQFYOLbKd91NA+FPjpZv8U0Dl0CLb+eZTQFK4HoXrCVRA\",\"dtype\":\"float64\",\"order\":\"little\",\"shape\":[63]}},\"selected\":{\"id\":\"1050\"},\"selection_policy\":{\"id\":\"1049\"}},\"id\":\"1036\",\"type\":\"ColumnDataSource\"},{\"attributes\":{},\"id\":\"1026\",\"type\":\"ResetTool\"},{\"attributes\":{\"source\":{\"id\":\"1036\"}},\"id\":\"1041\",\"type\":\"CDSView\"},{\"attributes\":{},\"id\":\"1012\",\"type\":\"LinearScale\"},{\"attributes\":{\"line_color\":\"cornflowerblue\",\"line_width\":2,\"x\":{\"field\":\"x\"},\"y\":{\"field\":\"y\"}},\"id\":\"1037\",\"type\":\"Line\"},{\"attributes\":{},\"id\":\"1047\",\"type\":\"BasicTickFormatter\"},{\"attributes\":{\"bottom_units\":\"screen\",\"coordinates\":null,\"fill_alpha\":0.5,\"fill_color\":\"lightgrey\",\"group\":null,\"left_units\":\"screen\",\"level\":\"overlay\",\"line_alpha\":1.0,\"line_color\":\"black\",\"line_dash\":[4,4],\"line_width\":2,\"right_units\":\"screen\",\"syncable\":false,\"top_units\":\"screen\"},\"id\":\"1028\",\"type\":\"BoxAnnotation\"},{\"attributes\":{\"coordinates\":null,\"group\":null,\"text\":\"Verstappen Lap Times (Imola 2022)\",\"text_color\":\"white\"},\"id\":\"1004\",\"type\":\"Title\"},{\"attributes\":{},\"id\":\"1022\",\"type\":\"PanTool\"},{\"attributes\":{},\"id\":\"1045\",\"type\":\"AllLabels\"},{\"attributes\":{\"overlay\":{\"id\":\"1028\"}},\"id\":\"1024\",\"type\":\"BoxZoomTool\"},{\"attributes\":{\"axis\":{\"id\":\"1018\"},\"coordinates\":null,\"dimension\":1,\"grid_line_alpha\":0.4,\"group\":null,\"ticker\":null},\"id\":\"1021\",\"type\":\"Grid\"},{\"attributes\":{},\"id\":\"1023\",\"type\":\"WheelZoomTool\"},{\"attributes\":{},\"id\":\"1025\",\"type\":\"SaveTool\"}],\"root_ids\":[\"1003\"]},\"title\":\"Bokeh Application\",\"version\":\"2.4.2\"}};\n",
       "  const render_items = [{\"docid\":\"52990d5f-6214-4fd8-bc23-5ff0d162860a\",\"root_ids\":[\"1003\"],\"roots\":{\"1003\":\"5f845608-7c02-473f-81ec-5f957dcd512b\"}}];\n",
       "  root.Bokeh.embed.embed_items_notebook(docs_json, render_items);\n",
       "\n",
       "  }\n",
       "  if (root.Bokeh !== undefined) {\n",
       "    embed_document(root);\n",
       "  } else {\n",
       "    let attempts = 0;\n",
       "    const timer = setInterval(function(root) {\n",
       "      if (root.Bokeh !== undefined) {\n",
       "        clearInterval(timer);\n",
       "        embed_document(root);\n",
       "      } else {\n",
       "        attempts++;\n",
       "        if (attempts > 100) {\n",
       "          clearInterval(timer);\n",
       "          console.log(\"Bokeh: ERROR: Unable to run BokehJS code because BokehJS library is missing\");\n",
       "        }\n",
       "      }\n",
       "    }, 10, root)\n",
       "  }\n",
       "})(window);"
      ],
      "application/vnd.bokehjs_exec.v0+json": ""
     },
     "metadata": {
      "application/vnd.bokehjs_exec.v0+json": {
       "id": "1003"
      }
     },
     "output_type": "display_data"
    },
    {
     "data": {
      "text/html": [
       "\n",
       "\n",
       "\n",
       "\n",
       "\n",
       "\n",
       "  <div class=\"bk-root\" id=\"1271ba72-d610-482c-be46-c7d77201c0dc\" data-root-id=\"1102\"></div>\n"
      ]
     },
     "metadata": {},
     "output_type": "display_data"
    },
    {
     "data": {
      "application/javascript": [
       "(function(root) {\n",
       "  function embed_document(root) {\n",
       "    \n",
       "  const docs_json = {\"efa61b0b-a695-4fc2-9e84-376fa64e7109\":{\"defs\":[],\"roots\":{\"references\":[{\"attributes\":{\"background_fill_color\":\"#525151\",\"below\":[{\"id\":\"1113\"}],\"border_fill_color\":\"#525151\",\"center\":[{\"id\":\"1116\"},{\"id\":\"1120\"}],\"left\":[{\"id\":\"1117\"}],\"renderers\":[{\"id\":\"1139\"}],\"title\":{\"id\":\"1103\"},\"toolbar\":{\"id\":\"1128\"},\"x_range\":{\"id\":\"1105\"},\"x_scale\":{\"id\":\"1109\"},\"y_range\":{\"id\":\"1107\"},\"y_scale\":{\"id\":\"1111\"}},\"id\":\"1102\",\"subtype\":\"Figure\",\"type\":\"Plot\"},{\"attributes\":{},\"id\":\"1157\",\"type\":\"AllLabels\"},{\"attributes\":{\"fill_alpha\":{\"value\":0.1},\"fill_color\":{\"value\":\"cornflowerblue\"},\"hatch_alpha\":{\"value\":0.1},\"hatch_color\":{\"value\":\"cornflowerblue\"},\"line_alpha\":{\"value\":0.1},\"line_color\":{\"value\":\"cornflowerblue\"},\"top\":{\"field\":\"top\"},\"width\":{\"value\":0.5},\"x\":{\"field\":\"x\"}},\"id\":\"1137\",\"type\":\"VBar\"},{\"attributes\":{},\"id\":\"1118\",\"type\":\"BasicTicker\"},{\"attributes\":{\"bottom_units\":\"screen\",\"coordinates\":null,\"fill_alpha\":0.5,\"fill_color\":\"lightgrey\",\"group\":null,\"left_units\":\"screen\",\"level\":\"overlay\",\"line_alpha\":1.0,\"line_color\":\"black\",\"line_dash\":[4,4],\"line_width\":2,\"right_units\":\"screen\",\"syncable\":false,\"top_units\":\"screen\"},\"id\":\"1127\",\"type\":\"BoxAnnotation\"},{\"attributes\":{\"fill_alpha\":{\"value\":0.2},\"fill_color\":{\"value\":\"cornflowerblue\"},\"hatch_alpha\":{\"value\":0.2},\"hatch_color\":{\"value\":\"cornflowerblue\"},\"line_alpha\":{\"value\":0.2},\"line_color\":{\"value\":\"cornflowerblue\"},\"top\":{\"field\":\"top\"},\"width\":{\"value\":0.5},\"x\":{\"field\":\"x\"}},\"id\":\"1138\",\"type\":\"VBar\"},{\"attributes\":{},\"id\":\"1122\",\"type\":\"WheelZoomTool\"},{\"attributes\":{\"coordinates\":null,\"group\":null,\"text\":\"Verstappen Lap Times (Imola 2022)\",\"text_color\":\"white\"},\"id\":\"1103\",\"type\":\"Title\"},{\"attributes\":{\"data\":{\"top\":{\"__ndarray__\":\"AAAAAAAA+H+kcD0K1z9iQAAAAAAAEGFAi2zn+6ltYkDNzMzMzNxWQCPb+X5qnFZAVg4tsp2HVkAX2c73U4tWQKabxCCwelZAWDm0yHaWVkAEVg4tspVWQLx0kxgEvlZAzczMzMzUVkA3iUFg5fhWQNEi2/l+AldA+FPjpZsEV0CTGARWDgVXQFyPwvUo3FZA/tR46SbRV0CsHFpkO69cQL6fGi/dXFVAiUFg5dDyVEBWDi2ynbdUQL6fGi/dnFRARIts5/uJVEBvEoPAymlUQK5H4XoURlRAPzVeukksVEASg8DKoS1UQO58PzVeOlRApHA9CtczVEAhsHJokSVUQDMzMzMzI1RApHA9CtcjVEACK4cW2SZUQJhuEoPAElRAyXa+nxoXVEBoke18PyVUQH9qvHSTMFRArkfhehRGVEDZzvdT4z1UQHWTGARWDlRAdZMYBFY+VEDP91PjpSNUQIGVQ4tsH1RAPzVeukkcVEAQWDm0yBZUQFyPwvUoLFRAi2zn+6kxVEDwp8ZLN0FUQNv5fmq8ZFVA2c73U+MVWkCyne+nxtNTQH0/NV66SVRABoGVQ4ucU0DVeOkmMeBTQGiR7Xw/JVRAvp8aL93UU0Dn+6nx0vVTQFYOLbKd91NA+FPjpZv8U0Dl0CLb+eZTQFK4HoXrCVRA\",\"dtype\":\"float64\",\"order\":\"little\",\"shape\":[63]},\"x\":{\"__ndarray__\":\"AAAAAAAA8D8AAAAAAAAAQAAAAAAAAAhAAAAAAAAAEEAAAAAAAAAUQAAAAAAAABhAAAAAAAAAHEAAAAAAAAAgQAAAAAAAACJAAAAAAAAAJEAAAAAAAAAmQAAAAAAAAChAAAAAAAAAKkAAAAAAAAAsQAAAAAAAAC5AAAAAAAAAMEAAAAAAAAAxQAAAAAAAADJAAAAAAAAAM0AAAAAAAAA0QAAAAAAAADVAAAAAAAAANkAAAAAAAAA3QAAAAAAAADhAAAAAAAAAOUAAAAAAAAA6QAAAAAAAADtAAAAAAAAAPEAAAAAAAAA9QAAAAAAAAD5AAAAAAAAAP0AAAAAAAABAQAAAAAAAgEBAAAAAAAAAQUAAAAAAAIBBQAAAAAAAAEJAAAAAAACAQkAAAAAAAABDQAAAAAAAgENAAAAAAAAAREAAAAAAAIBEQAAAAAAAAEVAAAAAAACARUAAAAAAAABGQAAAAAAAgEZAAAAAAAAAR0AAAAAAAIBHQAAAAAAAAEhAAAAAAACASEAAAAAAAABJQAAAAAAAgElAAAAAAAAASkAAAAAAAIBKQAAAAAAAAEtAAAAAAACAS0AAAAAAAABMQAAAAAAAgExAAAAAAAAATUAAAAAAAIBNQAAAAAAAAE5AAAAAAACATkAAAAAAAABPQAAAAAAAgE9A\",\"dtype\":\"float64\",\"order\":\"little\",\"shape\":[63]}},\"selected\":{\"id\":\"1159\"},\"selection_policy\":{\"id\":\"1158\"}},\"id\":\"1135\",\"type\":\"ColumnDataSource\"},{\"attributes\":{\"axis\":{\"id\":\"1113\"},\"coordinates\":null,\"grid_line_alpha\":0.4,\"group\":null,\"ticker\":null},\"id\":\"1116\",\"type\":\"Grid\"},{\"attributes\":{\"axis_label\":\"Lap time (s)\",\"axis_label_text_color\":\"white\",\"axis_line_color\":\"white\",\"coordinates\":null,\"formatter\":{\"id\":\"1153\"},\"group\":null,\"major_label_policy\":{\"id\":\"1154\"},\"major_label_text_color\":\"white\",\"major_tick_line_color\":\"white\",\"minor_tick_line_color\":\"white\",\"ticker\":{\"id\":\"1118\"}},\"id\":\"1117\",\"type\":\"LinearAxis\"},{\"attributes\":{},\"id\":\"1156\",\"type\":\"BasicTickFormatter\"},{\"attributes\":{\"overlay\":{\"id\":\"1127\"}},\"id\":\"1123\",\"type\":\"BoxZoomTool\"},{\"attributes\":{},\"id\":\"1153\",\"type\":\"BasicTickFormatter\"},{\"attributes\":{},\"id\":\"1154\",\"type\":\"AllLabels\"},{\"attributes\":{},\"id\":\"1126\",\"type\":\"HelpTool\"},{\"attributes\":{},\"id\":\"1121\",\"type\":\"PanTool\"},{\"attributes\":{},\"id\":\"1114\",\"type\":\"BasicTicker\"},{\"attributes\":{},\"id\":\"1124\",\"type\":\"SaveTool\"},{\"attributes\":{},\"id\":\"1158\",\"type\":\"UnionRenderers\"},{\"attributes\":{},\"id\":\"1107\",\"type\":\"DataRange1d\"},{\"attributes\":{\"source\":{\"id\":\"1135\"}},\"id\":\"1140\",\"type\":\"CDSView\"},{\"attributes\":{},\"id\":\"1111\",\"type\":\"LinearScale\"},{\"attributes\":{},\"id\":\"1109\",\"type\":\"LinearScale\"},{\"attributes\":{\"coordinates\":null,\"data_source\":{\"id\":\"1135\"},\"glyph\":{\"id\":\"1136\"},\"group\":null,\"hover_glyph\":null,\"muted_glyph\":{\"id\":\"1138\"},\"nonselection_glyph\":{\"id\":\"1137\"},\"view\":{\"id\":\"1140\"}},\"id\":\"1139\",\"type\":\"GlyphRenderer\"},{\"attributes\":{},\"id\":\"1105\",\"type\":\"DataRange1d\"},{\"attributes\":{},\"id\":\"1159\",\"type\":\"Selection\"},{\"attributes\":{\"axis_label\":\"Lap #\",\"axis_label_text_color\":\"white\",\"axis_line_color\":\"white\",\"coordinates\":null,\"formatter\":{\"id\":\"1156\"},\"group\":null,\"major_label_policy\":{\"id\":\"1157\"},\"major_label_text_color\":\"white\",\"major_tick_line_color\":\"white\",\"minor_tick_line_color\":\"white\",\"ticker\":{\"id\":\"1114\"}},\"id\":\"1113\",\"type\":\"LinearAxis\"},{\"attributes\":{\"fill_color\":{\"value\":\"cornflowerblue\"},\"hatch_color\":{\"value\":\"cornflowerblue\"},\"line_color\":{\"value\":\"cornflowerblue\"},\"top\":{\"field\":\"top\"},\"width\":{\"value\":0.5},\"x\":{\"field\":\"x\"}},\"id\":\"1136\",\"type\":\"VBar\"},{\"attributes\":{\"axis\":{\"id\":\"1117\"},\"coordinates\":null,\"dimension\":1,\"grid_line_alpha\":0.4,\"group\":null,\"ticker\":null},\"id\":\"1120\",\"type\":\"Grid\"},{\"attributes\":{},\"id\":\"1125\",\"type\":\"ResetTool\"},{\"attributes\":{\"tools\":[{\"id\":\"1121\"},{\"id\":\"1122\"},{\"id\":\"1123\"},{\"id\":\"1124\"},{\"id\":\"1125\"},{\"id\":\"1126\"}]},\"id\":\"1128\",\"type\":\"Toolbar\"}],\"root_ids\":[\"1102\"]},\"title\":\"Bokeh Application\",\"version\":\"2.4.2\"}};\n",
       "  const render_items = [{\"docid\":\"efa61b0b-a695-4fc2-9e84-376fa64e7109\",\"root_ids\":[\"1102\"],\"roots\":{\"1102\":\"1271ba72-d610-482c-be46-c7d77201c0dc\"}}];\n",
       "  root.Bokeh.embed.embed_items_notebook(docs_json, render_items);\n",
       "\n",
       "  }\n",
       "  if (root.Bokeh !== undefined) {\n",
       "    embed_document(root);\n",
       "  } else {\n",
       "    let attempts = 0;\n",
       "    const timer = setInterval(function(root) {\n",
       "      if (root.Bokeh !== undefined) {\n",
       "        clearInterval(timer);\n",
       "        embed_document(root);\n",
       "      } else {\n",
       "        attempts++;\n",
       "        if (attempts > 100) {\n",
       "          clearInterval(timer);\n",
       "          console.log(\"Bokeh: ERROR: Unable to run BokehJS code because BokehJS library is missing\");\n",
       "        }\n",
       "      }\n",
       "    }, 10, root)\n",
       "  }\n",
       "})(window);"
      ],
      "application/vnd.bokehjs_exec.v0+json": ""
     },
     "metadata": {
      "application/vnd.bokehjs_exec.v0+json": {
       "id": "1102"
      }
     },
     "output_type": "display_data"
    }
   ],
   "source": [
    "lap_number = verstappen.LapNumber\n",
    "lap_time = verstappen.LapTime\n",
    "    \n",
    "d1 = [{\n",
    "    'x': lap_number,\n",
    "    'y': lap_time,\n",
    "    'width': 0.5,\n",
    "}]\n",
    "ff1_helpers.line(d1, title=\"Verstappen Lap Times (Imola 2022)\", x_axis_label='Lap #', y_axis_label='Lap time (s)')\n",
    "ff1_helpers.bar(d1, title=\"Verstappen Lap Times (Imola 2022)\", x_axis_label='Lap #', y_axis_label='Lap time (s)')"
   ]
  },
  {
   "cell_type": "code",
   "execution_count": 7,
   "id": "4fc8a008-c973-440d-8d90-8ad0a7545a7f",
   "metadata": {},
   "outputs": [
    {
     "data": {
      "text/html": [
       "\n",
       "\n",
       "\n",
       "\n",
       "\n",
       "\n",
       "  <div class=\"bk-root\" id=\"385c6d45-5d5a-4ed9-8292-fba545dd935c\" data-root-id=\"1211\"></div>\n"
      ]
     },
     "metadata": {},
     "output_type": "display_data"
    },
    {
     "data": {
      "application/javascript": [
       "(function(root) {\n",
       "  function embed_document(root) {\n",
       "    \n",
       "  const docs_json = {\"4b5e8c1b-2a66-40ed-90f1-342527362568\":{\"defs\":[],\"roots\":{\"references\":[{\"attributes\":{\"background_fill_color\":\"#525151\",\"below\":[{\"id\":\"1222\"}],\"border_fill_color\":\"#525151\",\"center\":[{\"id\":\"1225\"},{\"id\":\"1229\"},{\"id\":\"1260\"}],\"left\":[{\"id\":\"1226\"}],\"renderers\":[{\"id\":\"1248\"},{\"id\":\"1266\"}],\"title\":{\"id\":\"1212\"},\"toolbar\":{\"id\":\"1237\"},\"x_range\":{\"id\":\"1214\"},\"x_scale\":{\"id\":\"1218\"},\"y_range\":{\"id\":\"1216\"},\"y_scale\":{\"id\":\"1220\"}},\"id\":\"1211\",\"subtype\":\"Figure\",\"type\":\"Plot\"},{\"attributes\":{\"axis\":{\"id\":\"1222\"},\"coordinates\":null,\"grid_line_alpha\":0.4,\"group\":null,\"ticker\":null},\"id\":\"1225\",\"type\":\"Grid\"},{\"attributes\":{\"line_alpha\":0.1,\"line_color\":\"blue\",\"line_width\":2,\"x\":{\"field\":\"x\"},\"y\":{\"field\":\"y\"}},\"id\":\"1246\",\"type\":\"Line\"},{\"attributes\":{\"tools\":[{\"id\":\"1230\"},{\"id\":\"1231\"},{\"id\":\"1232\"},{\"id\":\"1233\"},{\"id\":\"1234\"},{\"id\":\"1235\"}]},\"id\":\"1237\",\"type\":\"Toolbar\"},{\"attributes\":{\"source\":{\"id\":\"1244\"}},\"id\":\"1249\",\"type\":\"CDSView\"},{\"attributes\":{},\"id\":\"1231\",\"type\":\"WheelZoomTool\"},{\"attributes\":{\"coordinates\":null,\"data_source\":{\"id\":\"1262\"},\"glyph\":{\"id\":\"1263\"},\"group\":null,\"hover_glyph\":null,\"muted_glyph\":{\"id\":\"1265\"},\"nonselection_glyph\":{\"id\":\"1264\"},\"view\":{\"id\":\"1267\"}},\"id\":\"1266\",\"type\":\"GlyphRenderer\"},{\"attributes\":{},\"id\":\"1277\",\"type\":\"UnionRenderers\"},{\"attributes\":{\"line_color\":\"red\",\"line_width\":2,\"x\":{\"field\":\"x\"},\"y\":{\"field\":\"y\"}},\"id\":\"1263\",\"type\":\"Line\"},{\"attributes\":{},\"id\":\"1278\",\"type\":\"Selection\"},{\"attributes\":{\"coordinates\":null,\"group\":null,\"text\":\"Verstappen Fastest Race Lap\",\"text_color\":\"white\"},\"id\":\"1212\",\"type\":\"Title\"},{\"attributes\":{\"data\":{\"x\":{\"__ndarray__\":\"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\",\"dtype\":\"float64\",\"order\":\"little\",\"shape\":[309]},\"y\":[281,281,284,287,289,292,294,294,296,297,298,299,300,301,301,301,302,303,304,305,306,306,307,308,308,308,308,308,308,308,308,308,307,308,308,307,285,243,221,202,194,173,164,156,151,149,150,155,168,168,165,166,172,185,189,204,208,220,225,230,231,236,241,244,246,251,254,257,263,266,269,271,273,276,275,275,275,275,274,273,262,239,231,223,221,189,177,168,162,156,157,156,159,166,174,178,187,193,206,209,218,220,222,223,226,203,186,161,148,128,121,116,111,103,101,100,101,106,112,125,133,142,152,160,168,177,187,194,204,210,218,228,231,234,238,242,245,248,253,256,258,259,261,264,267,270,269,269,269,269,270,267,237,213,207,200,195,200,205,211,214,221,226,234,240,244,251,257,261,262,264,265,266,266,267,262,255,248,240,200,184,174,146,136,129,128,122,124,129,133,146,156,167,173,187,196,198,198,214,219,223,229,233,236,240,244,249,252,254,257,257,257,258,257,258,220,200,168,149,134,125,120,117,112,109,100,99,99,112,120,133,148,162,178,185,196,202,207,213,219,227,233,234,243,249,252,255,259,261,265,270,272,273,278,279,279,285,288,290,292,292,292,271,228,217,192,177,152,147,130,122,118,114,125,132,136,149,163,168,166,155,152,141,134,139,142,155,162,169,181,188,192,201,209,214,222,227,233,241,248,251,253,257,260,265,269,273,276,278]},\"selected\":{\"id\":\"1278\"},\"selection_policy\":{\"id\":\"1277\"}},\"id\":\"1262\",\"type\":\"ColumnDataSource\"},{\"attributes\":{},\"id\":\"1233\",\"type\":\"SaveTool\"},{\"attributes\":{\"line_alpha\":0.2,\"line_color\":\"blue\",\"line_width\":2,\"x\":{\"field\":\"x\"},\"y\":{\"field\":\"y\"}},\"id\":\"1247\",\"type\":\"Line\"},{\"attributes\":{},\"id\":\"1220\",\"type\":\"LinearScale\"},{\"attributes\":{},\"id\":\"1256\",\"type\":\"AllLabels\"},{\"attributes\":{\"overlay\":{\"id\":\"1236\"}},\"id\":\"1232\",\"type\":\"BoxZoomTool\"},{\"attributes\":{\"label\":{\"value\":\"30\"},\"renderers\":[{\"id\":\"1266\"}]},\"id\":\"1280\",\"type\":\"LegendItem\"},{\"attributes\":{},\"id\":\"1223\",\"type\":\"BasicTicker\"},{\"attributes\":{\"axis_label\":\"Time\",\"axis_label_text_color\":\"white\",\"axis_line_color\":\"white\",\"coordinates\":null,\"formatter\":{\"id\":\"1255\"},\"group\":null,\"major_label_policy\":{\"id\":\"1256\"},\"major_label_text_color\":\"white\",\"major_tick_line_color\":\"white\",\"minor_tick_line_color\":\"white\",\"ticker\":{\"id\":\"1223\"}},\"id\":\"1222\",\"type\":\"LinearAxis\"},{\"attributes\":{},\"id\":\"1230\",\"type\":\"PanTool\"},{\"attributes\":{\"label\":{\"value\":\"Fastest\"},\"renderers\":[{\"id\":\"1248\"}]},\"id\":\"1261\",\"type\":\"LegendItem\"},{\"attributes\":{\"axis_label\":\"Speed [km/h]\",\"axis_label_text_color\":\"white\",\"axis_line_color\":\"white\",\"coordinates\":null,\"formatter\":{\"id\":\"1252\"},\"group\":null,\"major_label_policy\":{\"id\":\"1253\"},\"major_label_text_color\":\"white\",\"major_tick_line_color\":\"white\",\"minor_tick_line_color\":\"white\",\"ticker\":{\"id\":\"1227\"}},\"id\":\"1226\",\"type\":\"LinearAxis\"},{\"attributes\":{},\"id\":\"1214\",\"type\":\"DataRange1d\"},{\"attributes\":{\"line_color\":\"blue\",\"line_width\":2,\"x\":{\"field\":\"x\"},\"y\":{\"field\":\"y\"}},\"id\":\"1245\",\"type\":\"Line\"},{\"attributes\":{},\"id\":\"1234\",\"type\":\"ResetTool\"},{\"attributes\":{\"bottom_units\":\"screen\",\"coordinates\":null,\"fill_alpha\":0.5,\"fill_color\":\"lightgrey\",\"group\":null,\"left_units\":\"screen\",\"level\":\"overlay\",\"line_alpha\":1.0,\"line_color\":\"black\",\"line_dash\":[4,4],\"line_width\":2,\"right_units\":\"screen\",\"syncable\":false,\"top_units\":\"screen\"},\"id\":\"1236\",\"type\":\"BoxAnnotation\"},{\"attributes\":{\"source\":{\"id\":\"1262\"}},\"id\":\"1267\",\"type\":\"CDSView\"},{\"attributes\":{},\"id\":\"1235\",\"type\":\"HelpTool\"},{\"attributes\":{},\"id\":\"1257\",\"type\":\"UnionRenderers\"},{\"attributes\":{},\"id\":\"1252\",\"type\":\"BasicTickFormatter\"},{\"attributes\":{},\"id\":\"1227\",\"type\":\"BasicTicker\"},{\"attributes\":{},\"id\":\"1255\",\"type\":\"BasicTickFormatter\"},{\"attributes\":{},\"id\":\"1258\",\"type\":\"Selection\"},{\"attributes\":{\"axis\":{\"id\":\"1226\"},\"coordinates\":null,\"dimension\":1,\"grid_line_alpha\":0.4,\"group\":null,\"ticker\":null},\"id\":\"1229\",\"type\":\"Grid\"},{\"attributes\":{},\"id\":\"1216\",\"type\":\"DataRange1d\"},{\"attributes\":{},\"id\":\"1253\",\"type\":\"AllLabels\"},{\"attributes\":{\"line_alpha\":0.2,\"line_color\":\"red\",\"line_width\":2,\"x\":{\"field\":\"x\"},\"y\":{\"field\":\"y\"}},\"id\":\"1265\",\"type\":\"Line\"},{\"attributes\":{},\"id\":\"1218\",\"type\":\"LinearScale\"},{\"attributes\":{\"line_alpha\":0.1,\"line_color\":\"red\",\"line_width\":2,\"x\":{\"field\":\"x\"},\"y\":{\"field\":\"y\"}},\"id\":\"1264\",\"type\":\"Line\"},{\"attributes\":{\"coordinates\":null,\"group\":null,\"items\":[{\"id\":\"1261\"},{\"id\":\"1280\"}]},\"id\":\"1260\",\"type\":\"Legend\"},{\"attributes\":{\"coordinates\":null,\"data_source\":{\"id\":\"1244\"},\"glyph\":{\"id\":\"1245\"},\"group\":null,\"hover_glyph\":null,\"muted_glyph\":{\"id\":\"1247\"},\"nonselection_glyph\":{\"id\":\"1246\"},\"view\":{\"id\":\"1249\"}},\"id\":\"1248\",\"type\":\"GlyphRenderer\"},{\"attributes\":{\"data\":{\"x\":{\"__ndarray__\":\"GQRWDi2yzT9KDAIrhxbZP6jGSzeJQeQ/Vg4tsp3v6z9eukkMAivxP30/NV66SfY/DAIrhxbZ+D+cxCCwcmj7PxfZzvdT4/8/JQaBlUOLAUCJQWDl0CIDQMdLN4lBYAVAYOXQItv5BkDl0CLb+X4KQMdLN4lBYA1AYOXQItv5DkDP91PjpZsQQGiR7Xw/NRJAK4cW2c73E0CcxCCwcmgVQJHtfD81XhZANV66SQwCF0B9PzVeukkYQHNoke18PxlAke18PzVeGkACK4cW2c4bQDvfT42X7hxA30+Nl26SHUDVeOkmMYgeQEw3iUFgJSBAx0s3iUGgIECTGARWDm0hQOXQItv5viFAqvHSTWIQIkAlBoGVQ4siQMl2vp8aLyNAGy/dJAaBI0CWQ4ts5/sjQGIQWDm0yCRAyXa+nxovJUBt5/up8dIlQBBYObTIdiZAyXa+nxovJ0BEi2zn+6knQL6fGi/dJChAEFg5tMh2KEBiEFg5tMgoQBsv3SQGgSlAgZVDi2znKUAlBoGVQ4sqQGq8dJMYRCtAvHSTGASWK0BMN4lBYCUsQMdLN4lBoCxAVg4tsp0vLUAOLbKd7+ctQLKd76fGiy5AQmDl0CIbL0CWQ4ts5/svQPT91HjpJjBAMQisHFpkMECNl24Sg8AwQNV46SYxCDFAHVpkO99PMUBvEoPAyqExQNV46SYxCDJAUI2XbhKDMkC28/3UeOkyQP7UeOkmMTNAO99PjZduM0CNl24Sg8AzQMHKoUW28zNA7nw/NV5aNEAX2c73U4M0QF66SQwCyzRAke18PzX+NEDjpZvEIFA1QCGwcmiRjTVAaJHtfD/VNUCR7Xw/Nf41QM/3U+OlOzZA+FPjpZtkNkB56SYxCKw2QKJFtvP91DZA/tR46SYxN0A730+Nl243QIPAyqFFtjdArBxaZDvfN0D0/dR46SY4QCGwcmiRjThAjZduEoPAOEDVeOkmMQg5QDEIrBxaZDlAg8DKoUW2OUDVeOkmMQg6QP7UeOkmMTpADAIrhxZ5OkCDwMqhRbY6QHNoke183zpAnMQgsHIIO0DufD81Xlo7QD81XrpJrDtAc2iR7XzfO0DFILByaDE8QPhT46WbZDxAIbByaJGNPEBeukkMAss8QJzEILByCD1AJzEIrBxaPUBvEoPAyqE9QKwcWmQ73z1AEoPAyqFFPkBGtvP91Hg+QIPAyqFFtj5Ay6FFtvP9PkD+1HjpJjE/QDEIrBxaZD9AbxKDwMqhP0CsHFpkO98/QGq8dJMYBEBADi2yne8nQECyne+nxktAQGDl0CLbeUBADi2yne+nQEAbL90kBtFAQMl2vp8a/0BA/Knx0k0yQUCgGi/dJFZBQLTIdr6fakFAyXa+nxp/QUBiEFg5tJhBQAaBlUOLvEFAGy/dJAbRQUBg5dAi2/lBQARWDi2yHUJALbKd76dGQkBMN4lBYGVCQPp+arx0k0JADi2yne+nQkAtsp3vp8ZCQMdLN4lB4EJAarx0kxgEQ0AEVg4tsh1DQC2yne+nRkNAVg4tsp1vQ0B/arx0k5hDQAaBlUOLvENAVg4tsp3vQ0DTTWIQWAlEQG3n+6nxIkRAgZVDi2w3REAbL90kBlFEQC/dJAaBZURA3SQGgZWTREB3vp8aL61EQJZDi2zny0RAL90kBoHlREDdJAaBlRNFQHe+nxovLUVA0SLb+X5qRUBqvHSTGIRFQARWDi2ynUVAvHSTGATWRUDRItv5fupFQPCnxks3CUZABFYOLbIdRkBCYOXQIltGQNv5fmq8dEZAkxgEVg6tRkDHSzeJQeBGQPCnxks3CUdAiUFg5dAiR0Aj2/l+ajxHQBsv3SQGUUdAtMh2vp9qR0BOYhBYOYRHQG3n+6nxokdAEFg5tMjGR0C0yHa+n+pHQE5iEFg5BEhA/Knx0k0ySECWQ4ts50tIQKrx0k1iYEhAvp8aL910SEBYObTIdo5IQJ7vp8ZLt0hA2/l+arz0SEAOLbKd7ydJQLx0kxgEVklAVg4tsp1vSUD6fmq8dJNJQBkEVg4tsklAsp3vp8bLSUBWDi2yne9JQH9qvHSTGEpAqMZLN4lBSkBMN4lBYGVKQFg5tMh2jkpA8tJNYhCoSkAQWDm0yMZKQDm0yHa+70pAWDm0yHYOS0D8qfHSTTJLQKAaL90kVktAObTIdr5vS0DdJAaBlZNLQIts5/upwUtAJQaBlUPbS0A5tMh2vu9LQPp+arx0E0xADi2yne8nTEBMN4lBYGVMQGDl0CLbeUxAGQRWDi2yTEAtsp3vp8ZMQEJg5dAi20xAYOXQItv5TECJQWDl0CJNQCPb+X5qPE1ATDeJQWBlTUCJQWDl0KJNQKjGSzeJwU1AoBov3STWTUC+nxov3fRNQG3n+6nxIk5ABoGVQ4s8TkAbL90kBlFOQLTIdr6fak5A3SQGgZWTTkCBlUOLbLdOQCUGgZVD205Avp8aL930TkBYObTIdg5PQG3n+6nxIk9ABoGVQ4s8T0BCYOXQIltPQOXQItv5fk9A+n5qvHSTT0Ce76fGS7dPQEJg5dAi209A5dAi2/n+T0ACK4cW2Q5QQAwCK4cWGVBAXrpJDAIrUEBoke18PzVQQDVeukkMQlBAPzVeuklMUEAX2c73U2NQQGiR7Xw/dVBAc2iR7Xx/UEB56SYxCJRQQIPAyqFFnlBAmG4Sg8CyUEBkO99Pjb9QQG8Sg8DKyVBAeekmMQjUUEDLoUW28+VQQJhuEoPA8lBA6SYxCKwEUUC28/3UeBFRQEa28/3UIFFAmG4Sg8AyUUBkO99PjT9RQDEIrBxaTFFADAIrhxZZUUCcxCCwcmhRQHNoke18f1FAAiuHFtmOUUBU46WbxKBRQKabxCCwslFANV66SQzCUUCHFtnO99NRQCGwcmiR7VFA+FPjpZsEUkBKDAIrhxZSQNnO91PjJVJA30+Nl246UkBvEoPAyklSQHnpJjEIVFJAmG4Sg8ByUkAxCKwcWoxSQMHKoUW2m1JAUI2XbhKrUkCiRbbz/bxSQDEIrBxazFJAO99PjZfWUkBGtvP91OBSQBKDwMqh7VJA30+Nl276UkDFILByaBFTQNnO91PjJVNA46WbxCAwU0A1XrpJDEJTQD81XrpJTFNAVOOlm8RgU0AhsHJokW1TQB1aZDvfd1NA+FPjpZuEU0ACK4cW2Y5TQA==\",\"dtype\":\"float64\",\"order\":\"little\",\"shape\":[299]},\"y\":[286,287,289,291,292,294,294,295,297,298,299,300,302,303,304,305,306,306,307,308,309,308,308,309,309,310,309,309,309,309,310,310,310,310,309,289,263,238,205,182,167,161,158,160,168,178,182,180,184,193,197,206,216,220,226,232,237,241,248,252,255,261,263,267,269,275,280,283,286,286,289,289,262,254,240,233,217,193,180,173,170,164,166,168,181,186,196,200,209,220,224,229,236,239,210,200,164,158,141,137,124,117,114,108,104,105,108,112,123,129,141,158,166,171,187,193,199,202,214,216,224,231,238,244,249,255,260,263,264,266,268,271,271,275,277,280,282,268,259,237,226,217,213,205,206,212,218,229,230,236,237,241,246,253,256,259,262,268,271,276,278,281,281,275,263,261,246,229,187,155,142,138,134,134,128,130,139,146,159,166,177,183,194,196,202,210,224,232,239,243,247,249,254,258,262,266,268,270,257,235,196,178,165,140,135,126,116,114,107,107,107,105,110,123,130,134,149,164,172,185,202,207,214,217,230,234,236,241,248,252,256,260,261,265,267,270,274,276,278,280,280,280,286,289,289,292,293,294,294,295,270,245,211,193,176,168,156,141,131,127,121,119,122,127,131,139,155,164,174,162,155,150,143,148,155,161,173,185,187,203,215,218,228,234,238,242,244,248,251,257,261,264,267,268,273,276,278,280,280]},\"selected\":{\"id\":\"1258\"},\"selection_policy\":{\"id\":\"1257\"}},\"id\":\"1244\",\"type\":\"ColumnDataSource\"}],\"root_ids\":[\"1211\"]},\"title\":\"Bokeh Application\",\"version\":\"2.4.2\"}};\n",
       "  const render_items = [{\"docid\":\"4b5e8c1b-2a66-40ed-90f1-342527362568\",\"root_ids\":[\"1211\"],\"roots\":{\"1211\":\"385c6d45-5d5a-4ed9-8292-fba545dd935c\"}}];\n",
       "  root.Bokeh.embed.embed_items_notebook(docs_json, render_items);\n",
       "\n",
       "  }\n",
       "  if (root.Bokeh !== undefined) {\n",
       "    embed_document(root);\n",
       "  } else {\n",
       "    let attempts = 0;\n",
       "    const timer = setInterval(function(root) {\n",
       "      if (root.Bokeh !== undefined) {\n",
       "        clearInterval(timer);\n",
       "        embed_document(root);\n",
       "      } else {\n",
       "        attempts++;\n",
       "        if (attempts > 100) {\n",
       "          clearInterval(timer);\n",
       "          console.log(\"Bokeh: ERROR: Unable to run BokehJS code because BokehJS library is missing\");\n",
       "        }\n",
       "      }\n",
       "    }, 10, root)\n",
       "  }\n",
       "})(window);"
      ],
      "application/vnd.bokehjs_exec.v0+json": ""
     },
     "metadata": {
      "application/vnd.bokehjs_exec.v0+json": {
       "id": "1211"
      }
     },
     "output_type": "display_data"
    }
   ],
   "source": [
    "verstappen_fastest = verstappen.pick_fastest()\n",
    "ver_car_data = verstappen_fastest.get_car_data()\n",
    "t = ver_car_data['Time']\n",
    "vCar = ver_car_data['Speed']\n",
    "\n",
    "verstappen_lap30 = ff1_helpers.pick_lap(verstappen, 30)\n",
    "ver30_car_data = verstappen_lap30.get_car_data()\n",
    "t30 = ver30_car_data['Time']\n",
    "vCar30 = ver30_car_data['Speed']\n",
    "\n",
    "\n",
    "# fig, ax = plt.subplots()\n",
    "# ax.plot(t, vCar)\n",
    "# ax.set_xlabel('Time')\n",
    "# ax.set_ylabel('Speed [Km/h]')\n",
    "# ax.set_title('Verstappen Fastest Race Lap')\n",
    "# # ax.legend()\n",
    "# plt.show()\n",
    "\n",
    "d2 = [\n",
    "    {\n",
    "        'x': t,\n",
    "        'y': vCar,\n",
    "        'color': 'blue',\n",
    "        'legend_label': 'Fastest',\n",
    "        # 'line_width': 5\n",
    "    },\n",
    "    {\n",
    "        'x': t30,\n",
    "        'y': vCar30,\n",
    "        'color': 'red',\n",
    "        'legend_label': '30'\n",
    "    }\n",
    "]\n",
    "\n",
    "ff1_helpers.line(d2, title='Verstappen Fastest Race Lap', x_axis_label='Time', y_axis_label='Speed [km/h]')"
   ]
  },
  {
   "cell_type": "code",
   "execution_count": 8,
   "id": "92b5e375-a765-4b58-b7c1-674008b75f14",
   "metadata": {},
   "outputs": [
    {
     "data": {
      "text/html": [
       "\n",
       "\n",
       "\n",
       "\n",
       "\n",
       "\n",
       "  <div class=\"bk-root\" id=\"a6c2b67d-b57f-495e-843f-c0491d970dbe\" data-root-id=\"1373\"></div>\n"
      ]
     },
     "metadata": {},
     "output_type": "display_data"
    },
    {
     "data": {
      "application/javascript": [
       "(function(root) {\n",
       "  function embed_document(root) {\n",
       "    \n",
       "  const docs_json = {\"a9d5a190-5229-424d-8383-c13b1eb05e98\":{\"defs\":[],\"roots\":{\"references\":[{\"attributes\":{\"background_fill_color\":\"#525151\",\"below\":[{\"id\":\"1384\"}],\"border_fill_color\":\"#525151\",\"center\":[{\"id\":\"1387\"},{\"id\":\"1391\"},{\"id\":\"1422\"}],\"left\":[{\"id\":\"1388\"}],\"renderers\":[{\"id\":\"1410\"},{\"id\":\"1428\"}],\"title\":{\"id\":\"1374\"},\"toolbar\":{\"id\":\"1399\"},\"x_range\":{\"id\":\"1376\"},\"x_scale\":{\"id\":\"1380\"},\"y_range\":{\"id\":\"1378\"},\"y_scale\":{\"id\":\"1382\"}},\"id\":\"1373\",\"subtype\":\"Figure\",\"type\":\"Plot\"},{\"attributes\":{},\"id\":\"1418\",\"type\":\"AllLabels\"},{\"attributes\":{\"coordinates\":null,\"group\":null,\"items\":[{\"id\":\"1423\"},{\"id\":\"1442\"}]},\"id\":\"1422\",\"type\":\"Legend\"},{\"attributes\":{},\"id\":\"1385\",\"type\":\"BasicTicker\"},{\"attributes\":{\"axis_label\":\"Speed [km/h]\",\"axis_label_text_color\":\"white\",\"axis_line_color\":\"white\",\"coordinates\":null,\"formatter\":{\"id\":\"1414\"},\"group\":null,\"major_label_policy\":{\"id\":\"1415\"},\"major_label_text_color\":\"white\",\"major_tick_line_color\":\"white\",\"minor_tick_line_color\":\"white\",\"ticker\":{\"id\":\"1389\"}},\"id\":\"1388\",\"type\":\"LinearAxis\"},{\"attributes\":{\"line_alpha\":0.2,\"line_color\":\"#dc0000\",\"line_width\":2,\"x\":{\"field\":\"x\"},\"y\":{\"field\":\"y\"}},\"id\":\"1427\",\"type\":\"Line\"},{\"attributes\":{},\"id\":\"1396\",\"type\":\"ResetTool\"},{\"attributes\":{},\"id\":\"1378\",\"type\":\"DataRange1d\"},{\"attributes\":{},\"id\":\"1397\",\"type\":\"HelpTool\"},{\"attributes\":{\"source\":{\"id\":\"1406\"}},\"id\":\"1411\",\"type\":\"CDSView\"},{\"attributes\":{\"data\":{\"x\":{\"__ndarray__\":\"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\",\"dtype\":\"float64\",\"order\":\"little\",\"shape\":[306]},\"y\":[276,278,281,282,283,284,285,285,287,288,287,289,289,290,290,291,292,291,292,293,292,293,293,293,294,294,295,294,295,296,296,295,297,297,295,294,294,291,289,286,257,222,194,181,169,156,152,154,160,165,175,176,182,191,200,203,224,230,234,238,244,246,248,254,259,260,260,264,270,273,278,279,281,282,284,284,273,267,256,238,222,212,190,179,167,166,166,171,181,190,198,204,210,213,217,225,232,237,237,213,188,169,155,141,134,128,124,121,114,109,112,115,124,127,135,142,148,164,164,176,188,194,200,207,209,218,225,235,238,246,249,253,253,258,260,261,263,266,269,270,272,274,276,278,280,281,281,266,258,233,218,209,206,205,205,209,212,223,230,236,242,249,252,259,262,265,268,272,274,277,279,276,267,266,255,231,208,199,181,164,149,140,135,135,138,141,147,160,170,179,189,201,204,209,215,227,229,235,240,246,253,257,260,263,264,267,268,267,228,205,174,161,144,133,126,120,117,112,105,99,94,100,104,113,117,131,140,155,170,179,187,198,205,211,214,225,230,234,239,246,252,258,263,267,268,271,274,274,278,281,281,281,281,289,290,292,294,294,293,282,257,230,189,172,166,156,141,135,125,122,120,125,131,138,154,163,172,179,181,171,160,152,152,156,160,169,180,187,200,213,223,223,232,238,241,247,250,254,260,264,267,270,275,278,278,280]},\"selected\":{\"id\":\"1440\"},\"selection_policy\":{\"id\":\"1439\"}},\"id\":\"1424\",\"type\":\"ColumnDataSource\"},{\"attributes\":{},\"id\":\"1417\",\"type\":\"BasicTickFormatter\"},{\"attributes\":{},\"id\":\"1389\",\"type\":\"BasicTicker\"},{\"attributes\":{\"coordinates\":null,\"data_source\":{\"id\":\"1406\"},\"glyph\":{\"id\":\"1407\"},\"group\":null,\"hover_glyph\":null,\"muted_glyph\":{\"id\":\"1409\"},\"nonselection_glyph\":{\"id\":\"1408\"},\"view\":{\"id\":\"1411\"}},\"id\":\"1410\",\"type\":\"GlyphRenderer\"},{\"attributes\":{},\"id\":\"1415\",\"type\":\"AllLabels\"},{\"attributes\":{\"label\":{\"value\":\"PER\"},\"renderers\":[{\"id\":\"1410\"}]},\"id\":\"1423\",\"type\":\"LegendItem\"},{\"attributes\":{},\"id\":\"1395\",\"type\":\"SaveTool\"},{\"attributes\":{},\"id\":\"1420\",\"type\":\"Selection\"},{\"attributes\":{\"source\":{\"id\":\"1424\"}},\"id\":\"1429\",\"type\":\"CDSView\"},{\"attributes\":{\"tools\":[{\"id\":\"1392\"},{\"id\":\"1393\"},{\"id\":\"1394\"},{\"id\":\"1395\"},{\"id\":\"1396\"},{\"id\":\"1397\"}]},\"id\":\"1399\",\"type\":\"Toolbar\"},{\"attributes\":{},\"id\":\"1419\",\"type\":\"UnionRenderers\"},{\"attributes\":{\"data\":{\"x\":{\"__ndarray__\":\"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\",\"dtype\":\"float64\",\"order\":\"little\",\"shape\":[324]},\"y\":[272,274,277,279,280,281,283,283,285,287,287,289,289,291,292,293,293,293,294,294,295,295,295,296,296,297,297,297,298,298,299,299,299,300,300,301,276,231,205,192,172,149,141,139,132,125,124,121,125,131,135,133,135,137,145,152,165,176,188,194,205,212,223,232,235,239,247,248,256,260,264,267,267,271,275,277,280,281,283,261,244,230,213,201,190,172,167,154,149,144,141,142,145,152,164,174,184,198,208,214,219,228,230,202,168,147,139,131,116,109,102,98,93,88,86,90,94,99,110,112,123,140,150,163,171,179,190,197,203,214,217,224,231,235,239,245,248,251,256,259,263,265,267,270,271,274,277,279,273,251,223,209,199,191,181,186,195,200,202,211,213,221,227,232,236,242,246,251,254,261,267,270,272,272,256,232,225,218,200,187,174,146,143,140,120,112,102,96,92,89,88,87,86,87,88,90,95,98,104,106,109,111,121,130,136,145,152,167,175,182,196,206,208,214,234,240,246,248,245,236,236,202,162,149,138,127,112,102,95,94,89,88,83,81,84,88,94,103,110,121,138,158,171,179,191,202,202,219,222,231,236,246,250,253,256,260,263,266,271,273,274,277,278,286,287,287,289,280,264,229,213,197,169,150,144,134,125,119,112,108,105,102,100,98,95,95,98,103,108,114,116,121,123,118,114,111,110,110,109,113,116,126,137,155,163,176,183,191,201,204,214,222,227,233,238,247,251,253,259,261,264,265,267,270]},\"selected\":{\"id\":\"1420\"},\"selection_policy\":{\"id\":\"1419\"}},\"id\":\"1406\",\"type\":\"ColumnDataSource\"},{\"attributes\":{\"bottom_units\":\"screen\",\"coordinates\":null,\"fill_alpha\":0.5,\"fill_color\":\"lightgrey\",\"group\":null,\"left_units\":\"screen\",\"level\":\"overlay\",\"line_alpha\":1.0,\"line_color\":\"black\",\"line_dash\":[4,4],\"line_width\":2,\"right_units\":\"screen\",\"syncable\":false,\"top_units\":\"screen\"},\"id\":\"1398\",\"type\":\"BoxAnnotation\"},{\"attributes\":{\"axis_label\":\"Time\",\"axis_label_text_color\":\"white\",\"axis_line_color\":\"white\",\"coordinates\":null,\"formatter\":{\"id\":\"1417\"},\"group\":null,\"major_label_policy\":{\"id\":\"1418\"},\"major_label_text_color\":\"white\",\"major_tick_line_color\":\"white\",\"minor_tick_line_color\":\"white\",\"ticker\":{\"id\":\"1385\"}},\"id\":\"1384\",\"type\":\"LinearAxis\"},{\"attributes\":{\"coordinates\":null,\"group\":null,\"text\":\"PER v. SAI Fastest Qualifying Lap\",\"text_color\":\"white\"},\"id\":\"1374\",\"type\":\"Title\"},{\"attributes\":{},\"id\":\"1414\",\"type\":\"BasicTickFormatter\"},{\"attributes\":{\"overlay\":{\"id\":\"1398\"}},\"id\":\"1394\",\"type\":\"BoxZoomTool\"},{\"attributes\":{},\"id\":\"1439\",\"type\":\"UnionRenderers\"},{\"attributes\":{},\"id\":\"1380\",\"type\":\"LinearScale\"},{\"attributes\":{\"line_alpha\":0.2,\"line_color\":\"#0600ef\",\"line_width\":2,\"x\":{\"field\":\"x\"},\"y\":{\"field\":\"y\"}},\"id\":\"1409\",\"type\":\"Line\"},{\"attributes\":{},\"id\":\"1382\",\"type\":\"LinearScale\"},{\"attributes\":{\"axis\":{\"id\":\"1388\"},\"coordinates\":null,\"dimension\":1,\"grid_line_alpha\":0.4,\"group\":null,\"ticker\":null},\"id\":\"1391\",\"type\":\"Grid\"},{\"attributes\":{\"line_color\":\"#0600ef\",\"line_width\":2,\"x\":{\"field\":\"x\"},\"y\":{\"field\":\"y\"}},\"id\":\"1407\",\"type\":\"Line\"},{\"attributes\":{\"line_color\":\"#dc0000\",\"line_width\":2,\"x\":{\"field\":\"x\"},\"y\":{\"field\":\"y\"}},\"id\":\"1425\",\"type\":\"Line\"},{\"attributes\":{\"label\":{\"value\":\"SAI\"},\"renderers\":[{\"id\":\"1428\"}]},\"id\":\"1442\",\"type\":\"LegendItem\"},{\"attributes\":{\"line_alpha\":0.1,\"line_color\":\"#0600ef\",\"line_width\":2,\"x\":{\"field\":\"x\"},\"y\":{\"field\":\"y\"}},\"id\":\"1408\",\"type\":\"Line\"},{\"attributes\":{},\"id\":\"1440\",\"type\":\"Selection\"},{\"attributes\":{\"axis\":{\"id\":\"1384\"},\"coordinates\":null,\"grid_line_alpha\":0.4,\"group\":null,\"ticker\":null},\"id\":\"1387\",\"type\":\"Grid\"},{\"attributes\":{},\"id\":\"1376\",\"type\":\"DataRange1d\"},{\"attributes\":{\"line_alpha\":0.1,\"line_color\":\"#dc0000\",\"line_width\":2,\"x\":{\"field\":\"x\"},\"y\":{\"field\":\"y\"}},\"id\":\"1426\",\"type\":\"Line\"},{\"attributes\":{},\"id\":\"1393\",\"type\":\"WheelZoomTool\"},{\"attributes\":{},\"id\":\"1392\",\"type\":\"PanTool\"},{\"attributes\":{\"coordinates\":null,\"data_source\":{\"id\":\"1424\"},\"glyph\":{\"id\":\"1425\"},\"group\":null,\"hover_glyph\":null,\"muted_glyph\":{\"id\":\"1427\"},\"nonselection_glyph\":{\"id\":\"1426\"},\"view\":{\"id\":\"1429\"}},\"id\":\"1428\",\"type\":\"GlyphRenderer\"}],\"root_ids\":[\"1373\"]},\"title\":\"Bokeh Application\",\"version\":\"2.4.2\"}};\n",
       "  const render_items = [{\"docid\":\"a9d5a190-5229-424d-8383-c13b1eb05e98\",\"root_ids\":[\"1373\"],\"roots\":{\"1373\":\"a6c2b67d-b57f-495e-843f-c0491d970dbe\"}}];\n",
       "  root.Bokeh.embed.embed_items_notebook(docs_json, render_items);\n",
       "\n",
       "  }\n",
       "  if (root.Bokeh !== undefined) {\n",
       "    embed_document(root);\n",
       "  } else {\n",
       "    let attempts = 0;\n",
       "    const timer = setInterval(function(root) {\n",
       "      if (root.Bokeh !== undefined) {\n",
       "        clearInterval(timer);\n",
       "        embed_document(root);\n",
       "      } else {\n",
       "        attempts++;\n",
       "        if (attempts > 100) {\n",
       "          clearInterval(timer);\n",
       "          console.log(\"Bokeh: ERROR: Unable to run BokehJS code because BokehJS library is missing\");\n",
       "        }\n",
       "      }\n",
       "    }, 10, root)\n",
       "  }\n",
       "})(window);"
      ],
      "application/vnd.bokehjs_exec.v0+json": ""
     },
     "metadata": {
      "application/vnd.bokehjs_exec.v0+json": {
       "id": "1373"
      }
     },
     "output_type": "display_data"
    }
   ],
   "source": [
    "ff1_helpers.compare_session_bests(q_session, 'PER', 'SAI')"
   ]
  },
  {
   "cell_type": "code",
   "execution_count": 9,
   "id": "0e80e6b1-e9af-4031-a2dc-87ce8b088e01",
   "metadata": {},
   "outputs": [
    {
     "data": {
      "text/html": [
       "\n",
       "\n",
       "\n",
       "\n",
       "\n",
       "\n",
       "  <div class=\"bk-root\" id=\"a5b8bdc5-3ccf-47c2-a5cf-d8750dd2ce15\" data-root-id=\"1547\"></div>\n"
      ]
     },
     "metadata": {},
     "output_type": "display_data"
    },
    {
     "data": {
      "application/javascript": [
       "(function(root) {\n",
       "  function embed_document(root) {\n",
       "    \n",
       "  const docs_json = {\"f7e76034-2426-4b9f-9f5f-8199ff433e5f\":{\"defs\":[],\"roots\":{\"references\":[{\"attributes\":{\"background_fill_color\":\"#525151\",\"below\":[{\"id\":\"1558\"}],\"border_fill_color\":\"#525151\",\"center\":[{\"id\":\"1561\"},{\"id\":\"1565\"},{\"id\":\"1596\"}],\"left\":[{\"id\":\"1562\"}],\"renderers\":[{\"id\":\"1584\"},{\"id\":\"1602\"}],\"title\":{\"id\":\"1548\"},\"toolbar\":{\"id\":\"1573\"},\"x_range\":{\"id\":\"1550\"},\"x_scale\":{\"id\":\"1554\"},\"y_range\":{\"id\":\"1552\"},\"y_scale\":{\"id\":\"1556\"}},\"id\":\"1547\",\"subtype\":\"Figure\",\"type\":\"Plot\"},{\"attributes\":{\"tools\":[{\"id\":\"1566\"},{\"id\":\"1567\"},{\"id\":\"1568\"},{\"id\":\"1569\"},{\"id\":\"1570\"},{\"id\":\"1571\"}]},\"id\":\"1573\",\"type\":\"Toolbar\"},{\"attributes\":{\"label\":{\"value\":\"VER\"},\"renderers\":[{\"id\":\"1584\"}]},\"id\":\"1597\",\"type\":\"LegendItem\"},{\"attributes\":{},\"id\":\"1588\",\"type\":\"BasicTickFormatter\"},{\"attributes\":{},\"id\":\"1556\",\"type\":\"LinearScale\"},{\"attributes\":{\"axis_label\":\"Time\",\"axis_label_text_color\":\"white\",\"axis_line_color\":\"white\",\"coordinates\":null,\"formatter\":{\"id\":\"1591\"},\"group\":null,\"major_label_policy\":{\"id\":\"1592\"},\"major_label_text_color\":\"white\",\"major_tick_line_color\":\"white\",\"minor_tick_line_color\":\"white\",\"ticker\":{\"id\":\"1559\"}},\"id\":\"1558\",\"type\":\"LinearAxis\"},{\"attributes\":{\"source\":{\"id\":\"1580\"}},\"id\":\"1585\",\"type\":\"CDSView\"},{\"attributes\":{\"overlay\":{\"id\":\"1572\"}},\"id\":\"1568\",\"type\":\"BoxZoomTool\"},{\"attributes\":{\"line_alpha\":0.2,\"line_color\":\"#0600ef\",\"line_width\":2,\"x\":{\"field\":\"x\"},\"y\":{\"field\":\"y\"}},\"id\":\"1583\",\"type\":\"Line\"},{\"attributes\":{},\"id\":\"1569\",\"type\":\"SaveTool\"},{\"attributes\":{},\"id\":\"1592\",\"type\":\"AllLabels\"},{\"attributes\":{},\"id\":\"1566\",\"type\":\"PanTool\"},{\"attributes\":{\"data\":{\"x\":{\"__ndarray__\":\"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\",\"dtype\":\"float64\",\"order\":\"little\",\"shape\":[323]},\"y\":[295,299,304,308,312,314,316,317,317,321,323,292,260,216,180,163,143,132,118,113,103,102,96,101,111,121,132,152,160,162,169,180,195,198,203,206,205,212,219,221,232,235,241,246,251,255,260,262,267,271,273,276,278,279,282,284,284,287,288,291,287,273,267,260,258,252,251,252,252,240,228,227,224,228,230,234,239,242,241,236,233,233,232,223,204,193,175,162,146,140,138,132,129,128,132,138,147,152,167,179,195,199,215,221,230,238,242,248,253,258,261,264,271,276,280,284,287,290,293,295,297,300,301,303,304,305,306,308,312,315,317,319,321,323,324,325,328,329,330,331,332,333,335,335,338,339,340,341,341,342,342,342,342,307,276,244,220,191,164,138,138,119,108,102,93,90,85,90,95,106,106,132,135,131,123,120,116,110,108,106,104,103,106,110,117,125,134,145,150,164,176,173,167,159,148,135,124,109,104,84,77,70,69,79,75,75,77,83,89,92,99,117,119,99,87,80,73,70,73,85,117,128,140,151,170,179,194,204,204,223,230,234,241,246,252,258,261,265,270,274,277,279,283,285,287,287,290,292,294,296,299,302,304,308,309,312,315,317,319,320,321,322,324,326,326,326,329,330,332,332,333,333,334,334,334,211,184,152,131,124,108,99,93,84,79,76,74,70,67,70,74,76,84,90,100,108,116,124,141,151,170,175,183,194,206,217,222,227,232,240,247,249,256,259,263,267,270,274,276,280,283,287,291]},\"selected\":{\"id\":\"1594\"},\"selection_policy\":{\"id\":\"1593\"}},\"id\":\"1580\",\"type\":\"ColumnDataSource\"},{\"attributes\":{\"coordinates\":null,\"group\":null,\"text\":\"VER v. LEC Fastest Qualifying Lap\",\"text_color\":\"white\"},\"id\":\"1548\",\"type\":\"Title\"},{\"attributes\":{\"line_color\":\"#dc0000\",\"line_width\":2,\"x\":{\"field\":\"x\"},\"y\":{\"field\":\"y\"}},\"id\":\"1599\",\"type\":\"Line\"},{\"attributes\":{\"data\":{\"x\":{\"__ndarray__\":\"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\",\"dtype\":\"float64\",\"order\":\"little\",\"shape\":[330]},\"y\":[294,300,302,304,308,310,310,312,312,314,314,308,261,230,201,167,157,150,128,120,107,101,95,95,95,100,109,117,132,143,150,155,160,169,181,187,193,197,204,207,209,212,217,221,230,233,238,238,247,249,251,255,257,259,262,266,272,275,277,279,279,282,284,285,286,287,288,287,276,271,267,263,259,259,258,256,245,238,233,230,231,228,228,230,235,245,246,247,241,234,234,235,233,209,195,189,167,163,160,148,145,132,131,130,133,142,146,150,162,171,207,217,228,234,242,251,257,259,264,268,273,276,279,281,286,290,293,293,296,299,300,301,302,303,304,308,309,312,314,315,316,319,321,321,322,325,326,326,327,328,329,329,331,331,332,332,334,335,335,335,335,336,336,333,332,287,252,209,172,162,127,118,102,92,86,86,88,91,96,99,110,120,130,142,140,135,130,114,109,105,103,102,106,112,116,123,139,159,173,177,173,149,136,113,108,95,86,77,76,73,75,77,75,75,77,78,85,103,111,121,116,103,90,77,71,74,77,81,84,90,136,143,159,179,198,205,218,224,232,239,247,251,258,261,265,269,274,278,280,283,284,288,290,293,297,298,301,304,306,306,308,310,311,312,313,313,315,316,317,318,319,319,320,321,321,321,322,322,323,323,324,323,323,317,282,228,200,167,144,134,115,99,90,76,71,67,65,66,69,73,77,83,93,101,108,120,134,149,164,185,193,198,198,214,219,231,241,246,251,256,262,268,272,274,276,279,281,283,287,288]},\"selected\":{\"id\":\"1614\"},\"selection_policy\":{\"id\":\"1613\"}},\"id\":\"1598\",\"type\":\"ColumnDataSource\"},{\"attributes\":{\"coordinates\":null,\"data_source\":{\"id\":\"1598\"},\"glyph\":{\"id\":\"1599\"},\"group\":null,\"hover_glyph\":null,\"muted_glyph\":{\"id\":\"1601\"},\"nonselection_glyph\":{\"id\":\"1600\"},\"view\":{\"id\":\"1603\"}},\"id\":\"1602\",\"type\":\"GlyphRenderer\"},{\"attributes\":{},\"id\":\"1571\",\"type\":\"HelpTool\"},{\"attributes\":{\"coordinates\":null,\"data_source\":{\"id\":\"1580\"},\"glyph\":{\"id\":\"1581\"},\"group\":null,\"hover_glyph\":null,\"muted_glyph\":{\"id\":\"1583\"},\"nonselection_glyph\":{\"id\":\"1582\"},\"view\":{\"id\":\"1585\"}},\"id\":\"1584\",\"type\":\"GlyphRenderer\"},{\"attributes\":{\"source\":{\"id\":\"1598\"}},\"id\":\"1603\",\"type\":\"CDSView\"},{\"attributes\":{\"line_alpha\":0.2,\"line_color\":\"#dc0000\",\"line_width\":2,\"x\":{\"field\":\"x\"},\"y\":{\"field\":\"y\"}},\"id\":\"1601\",\"type\":\"Line\"},{\"attributes\":{\"line_alpha\":0.1,\"line_color\":\"#0600ef\",\"line_width\":2,\"x\":{\"field\":\"x\"},\"y\":{\"field\":\"y\"}},\"id\":\"1582\",\"type\":\"Line\"},{\"attributes\":{},\"id\":\"1559\",\"type\":\"BasicTicker\"},{\"attributes\":{},\"id\":\"1570\",\"type\":\"ResetTool\"},{\"attributes\":{},\"id\":\"1550\",\"type\":\"DataRange1d\"},{\"attributes\":{\"label\":{\"value\":\"LEC\"},\"renderers\":[{\"id\":\"1602\"}]},\"id\":\"1616\",\"type\":\"LegendItem\"},{\"attributes\":{\"line_alpha\":0.1,\"line_color\":\"#dc0000\",\"line_width\":2,\"x\":{\"field\":\"x\"},\"y\":{\"field\":\"y\"}},\"id\":\"1600\",\"type\":\"Line\"},{\"attributes\":{\"axis_label\":\"Speed [km/h]\",\"axis_label_text_color\":\"white\",\"axis_line_color\":\"white\",\"coordinates\":null,\"formatter\":{\"id\":\"1588\"},\"group\":null,\"major_label_policy\":{\"id\":\"1589\"},\"major_label_text_color\":\"white\",\"major_tick_line_color\":\"white\",\"minor_tick_line_color\":\"white\",\"ticker\":{\"id\":\"1563\"}},\"id\":\"1562\",\"type\":\"LinearAxis\"},{\"attributes\":{},\"id\":\"1613\",\"type\":\"UnionRenderers\"},{\"attributes\":{\"axis\":{\"id\":\"1558\"},\"coordinates\":null,\"grid_line_alpha\":0.4,\"group\":null,\"ticker\":null},\"id\":\"1561\",\"type\":\"Grid\"},{\"attributes\":{},\"id\":\"1593\",\"type\":\"UnionRenderers\"},{\"attributes\":{\"line_color\":\"#0600ef\",\"line_width\":2,\"x\":{\"field\":\"x\"},\"y\":{\"field\":\"y\"}},\"id\":\"1581\",\"type\":\"Line\"},{\"attributes\":{},\"id\":\"1614\",\"type\":\"Selection\"},{\"attributes\":{},\"id\":\"1554\",\"type\":\"LinearScale\"},{\"attributes\":{},\"id\":\"1594\",\"type\":\"Selection\"},{\"attributes\":{\"axis\":{\"id\":\"1562\"},\"coordinates\":null,\"dimension\":1,\"grid_line_alpha\":0.4,\"group\":null,\"ticker\":null},\"id\":\"1565\",\"type\":\"Grid\"},{\"attributes\":{},\"id\":\"1552\",\"type\":\"DataRange1d\"},{\"attributes\":{},\"id\":\"1589\",\"type\":\"AllLabels\"},{\"attributes\":{},\"id\":\"1567\",\"type\":\"WheelZoomTool\"},{\"attributes\":{\"bottom_units\":\"screen\",\"coordinates\":null,\"fill_alpha\":0.5,\"fill_color\":\"lightgrey\",\"group\":null,\"left_units\":\"screen\",\"level\":\"overlay\",\"line_alpha\":1.0,\"line_color\":\"black\",\"line_dash\":[4,4],\"line_width\":2,\"right_units\":\"screen\",\"syncable\":false,\"top_units\":\"screen\"},\"id\":\"1572\",\"type\":\"BoxAnnotation\"},{\"attributes\":{\"coordinates\":null,\"group\":null,\"items\":[{\"id\":\"1597\"},{\"id\":\"1616\"}]},\"id\":\"1596\",\"type\":\"Legend\"},{\"attributes\":{},\"id\":\"1563\",\"type\":\"BasicTicker\"},{\"attributes\":{},\"id\":\"1591\",\"type\":\"BasicTickFormatter\"}],\"root_ids\":[\"1547\"]},\"title\":\"Bokeh Application\",\"version\":\"2.4.2\"}};\n",
       "  const render_items = [{\"docid\":\"f7e76034-2426-4b9f-9f5f-8199ff433e5f\",\"root_ids\":[\"1547\"],\"roots\":{\"1547\":\"a5b8bdc5-3ccf-47c2-a5cf-d8750dd2ce15\"}}];\n",
       "  root.Bokeh.embed.embed_items_notebook(docs_json, render_items);\n",
       "\n",
       "  }\n",
       "  if (root.Bokeh !== undefined) {\n",
       "    embed_document(root);\n",
       "  } else {\n",
       "    let attempts = 0;\n",
       "    const timer = setInterval(function(root) {\n",
       "      if (root.Bokeh !== undefined) {\n",
       "        clearInterval(timer);\n",
       "        embed_document(root);\n",
       "      } else {\n",
       "        attempts++;\n",
       "        if (attempts > 100) {\n",
       "          clearInterval(timer);\n",
       "          console.log(\"Bokeh: ERROR: Unable to run BokehJS code because BokehJS library is missing\");\n",
       "        }\n",
       "      }\n",
       "    }, 10, root)\n",
       "  }\n",
       "})(window);"
      ],
      "application/vnd.bokehjs_exec.v0+json": ""
     },
     "metadata": {
      "application/vnd.bokehjs_exec.v0+json": {
       "id": "1547"
      }
     },
     "output_type": "display_data"
    }
   ],
   "source": [
    "ff1_helpers.compare_session_bests(miami_q_session, 'VER', 'LEC')"
   ]
  },
  {
   "cell_type": "code",
   "execution_count": 10,
   "id": "0b7484ed-60e2-4c8c-b109-b6d5bb647840",
   "metadata": {},
   "outputs": [
    {
     "data": {
      "text/html": [
       "\n",
       "\n",
       "\n",
       "\n",
       "\n",
       "\n",
       "  <div class=\"bk-root\" id=\"9a02e9fb-99f2-4c92-a423-a0132b075093\" data-root-id=\"1733\"></div>\n"
      ]
     },
     "metadata": {},
     "output_type": "display_data"
    },
    {
     "data": {
      "application/javascript": [
       "(function(root) {\n",
       "  function embed_document(root) {\n",
       "    \n",
       "  const docs_json = {\"f8513bbf-9108-4060-97ec-19b5e390fd1e\":{\"defs\":[],\"roots\":{\"references\":[{\"attributes\":{\"background_fill_color\":\"#525151\",\"below\":[{\"id\":\"1744\"}],\"border_fill_color\":\"#525151\",\"center\":[{\"id\":\"1747\"},{\"id\":\"1751\"},{\"id\":\"1782\"}],\"left\":[{\"id\":\"1748\"}],\"renderers\":[{\"id\":\"1770\"},{\"id\":\"1788\"}],\"title\":{\"id\":\"1734\"},\"toolbar\":{\"id\":\"1759\"},\"x_range\":{\"id\":\"1736\"},\"x_scale\":{\"id\":\"1740\"},\"y_range\":{\"id\":\"1738\"},\"y_scale\":{\"id\":\"1742\"}},\"id\":\"1733\",\"subtype\":\"Figure\",\"type\":\"Plot\"},{\"attributes\":{},\"id\":\"1778\",\"type\":\"AllLabels\"},{\"attributes\":{},\"id\":\"1755\",\"type\":\"SaveTool\"},{\"attributes\":{\"axis\":{\"id\":\"1748\"},\"coordinates\":null,\"dimension\":1,\"grid_line_alpha\":0.4,\"group\":null,\"ticker\":null},\"id\":\"1751\",\"type\":\"Grid\"},{\"attributes\":{\"axis\":{\"id\":\"1744\"},\"coordinates\":null,\"grid_line_alpha\":0.4,\"group\":null,\"ticker\":null},\"id\":\"1747\",\"type\":\"Grid\"},{\"attributes\":{\"coordinates\":null,\"group\":null,\"items\":[{\"id\":\"1783\"},{\"id\":\"1802\"}]},\"id\":\"1782\",\"type\":\"Legend\"},{\"attributes\":{},\"id\":\"1745\",\"type\":\"BasicTicker\"},{\"attributes\":{\"overlay\":{\"id\":\"1758\"}},\"id\":\"1754\",\"type\":\"BoxZoomTool\"},{\"attributes\":{},\"id\":\"1738\",\"type\":\"DataRange1d\"},{\"attributes\":{\"axis_label\":\"Lap time [s]\",\"axis_label_text_color\":\"white\",\"axis_line_color\":\"white\",\"coordinates\":null,\"formatter\":{\"id\":\"1774\"},\"group\":null,\"major_label_policy\":{\"id\":\"1775\"},\"major_label_text_color\":\"white\",\"major_tick_line_color\":\"white\",\"minor_tick_line_color\":\"white\",\"ticker\":{\"id\":\"1749\"}},\"id\":\"1748\",\"type\":\"LinearAxis\"},{\"attributes\":{\"label\":{\"value\":\"VER\"},\"renderers\":[{\"id\":\"1770\"}]},\"id\":\"1783\",\"type\":\"LegendItem\"},{\"attributes\":{\"tools\":[{\"id\":\"1752\"},{\"id\":\"1753\"},{\"id\":\"1754\"},{\"id\":\"1755\"},{\"id\":\"1756\"},{\"id\":\"1757\"}]},\"id\":\"1759\",\"type\":\"Toolbar\"},{\"attributes\":{},\"id\":\"1753\",\"type\":\"WheelZoomTool\"},{\"attributes\":{\"source\":{\"id\":\"1766\"}},\"id\":\"1771\",\"type\":\"CDSView\"},{\"attributes\":{\"line_color\":\"#dc0000\",\"line_width\":2,\"x\":{\"field\":\"x\"},\"y\":{\"field\":\"y\"}},\"id\":\"1785\",\"type\":\"Line\"},{\"attributes\":{\"line_color\":\"#0600ef\",\"line_width\":2,\"x\":{\"field\":\"x\"},\"y\":{\"field\":\"y\"}},\"id\":\"1767\",\"type\":\"Line\"},{\"attributes\":{\"coordinates\":null,\"group\":null,\"text\":\"VER v. LEC Race Laps\",\"text_color\":\"white\"},\"id\":\"1734\",\"type\":\"Title\"},{\"attributes\":{\"data\":{\"x\":[1,2,3,4,5,6,7,8,9,10,11,12,13,14,15,16,17,18,19,20,21,22,23,24,25,26,27,28,29,30,31,32,33,34,35,36,37,38,39,40,41,42,43,44,45,46,47,48,49,50,51,52,53,54,55,56,57],\"y\":{\"__ndarray__\":\"AAAAAAAA+H83iUFg5ZhXQPYoXI/CnVdA6SYxCKyUV0ASg8DKoX1XQNnO91PjnVdAbef7qfGiV0Dl0CLb+cZXQOf7qfHSBVhAvp8aL920V0DsUbgehatXQKAaL90kxldAzczMzMyMV0BzaJHtfHdXQNNNYhBYiVdA9ihcj8KVV0BOYhBYOXRXQC2yne+nbldAiUFg5dBqV0CkcD0K12NXQCuHFtnOf1dAkxgEVg5lV0AbL90kBklXQJMYBFYOtVhA1XjpJjHIW0D0/dR46VZXQPp+arx0Q1dAzczMzMw8V0BSuB6F60lXQMHKoUW2Q1dAQmDl0CJDV0AAAAAAAEhXQIGVQ4tsF1dA1XjpJjE4V0CJQWDl0CJXQG8Sg8DKIVdAKVyPwvUoV0DJdr6fGh9XQKAaL90kBldA7FG4HoUbV0AhsHJokaVcQAAAAAAAAPh/AAAAAAAA+H/Xo3A9CpdiQEjhehSum2FAAAAAAAAA+H8QWDm0yHZXQGiR7Xw/LVdAZmZmZmb2VkCamZmZmQlXQBBYObTI/lZAcT0K16MQV0CsHFpkO99WQESLbOf78VZAvHSTGAT2VkAj2/l+ahxXQJ7vp8ZLR1dA\",\"dtype\":\"float64\",\"order\":\"little\",\"shape\":[57]}},\"selected\":{\"id\":\"1800\"},\"selection_policy\":{\"id\":\"1799\"}},\"id\":\"1784\",\"type\":\"ColumnDataSource\"},{\"attributes\":{},\"id\":\"1752\",\"type\":\"PanTool\"},{\"attributes\":{\"coordinates\":null,\"data_source\":{\"id\":\"1784\"},\"glyph\":{\"id\":\"1785\"},\"group\":null,\"hover_glyph\":null,\"muted_glyph\":{\"id\":\"1787\"},\"nonselection_glyph\":{\"id\":\"1786\"},\"view\":{\"id\":\"1789\"}},\"id\":\"1788\",\"type\":\"GlyphRenderer\"},{\"attributes\":{},\"id\":\"1757\",\"type\":\"HelpTool\"},{\"attributes\":{\"source\":{\"id\":\"1784\"}},\"id\":\"1789\",\"type\":\"CDSView\"},{\"attributes\":{},\"id\":\"1740\",\"type\":\"LinearScale\"},{\"attributes\":{\"axis_label\":\"Lap #\",\"axis_label_text_color\":\"white\",\"axis_line_color\":\"white\",\"coordinates\":null,\"formatter\":{\"id\":\"1777\"},\"group\":null,\"major_label_policy\":{\"id\":\"1778\"},\"major_label_text_color\":\"white\",\"major_tick_line_color\":\"white\",\"minor_tick_line_color\":\"white\",\"ticker\":{\"id\":\"1745\"}},\"id\":\"1744\",\"type\":\"LinearAxis\"},{\"attributes\":{\"line_alpha\":0.2,\"line_color\":\"#dc0000\",\"line_width\":2,\"x\":{\"field\":\"x\"},\"y\":{\"field\":\"y\"}},\"id\":\"1787\",\"type\":\"Line\"},{\"attributes\":{\"label\":{\"value\":\"LEC\"},\"renderers\":[{\"id\":\"1788\"}]},\"id\":\"1802\",\"type\":\"LegendItem\"},{\"attributes\":{},\"id\":\"1742\",\"type\":\"LinearScale\"},{\"attributes\":{\"line_alpha\":0.1,\"line_color\":\"#dc0000\",\"line_width\":2,\"x\":{\"field\":\"x\"},\"y\":{\"field\":\"y\"}},\"id\":\"1786\",\"type\":\"Line\"},{\"attributes\":{},\"id\":\"1736\",\"type\":\"DataRange1d\"},{\"attributes\":{},\"id\":\"1774\",\"type\":\"BasicTickFormatter\"},{\"attributes\":{},\"id\":\"1799\",\"type\":\"UnionRenderers\"},{\"attributes\":{},\"id\":\"1775\",\"type\":\"AllLabels\"},{\"attributes\":{},\"id\":\"1800\",\"type\":\"Selection\"},{\"attributes\":{},\"id\":\"1756\",\"type\":\"ResetTool\"},{\"attributes\":{},\"id\":\"1779\",\"type\":\"UnionRenderers\"},{\"attributes\":{\"coordinates\":null,\"data_source\":{\"id\":\"1766\"},\"glyph\":{\"id\":\"1767\"},\"group\":null,\"hover_glyph\":null,\"muted_glyph\":{\"id\":\"1769\"},\"nonselection_glyph\":{\"id\":\"1768\"},\"view\":{\"id\":\"1771\"}},\"id\":\"1770\",\"type\":\"GlyphRenderer\"},{\"attributes\":{\"line_alpha\":0.2,\"line_color\":\"#0600ef\",\"line_width\":2,\"x\":{\"field\":\"x\"},\"y\":{\"field\":\"y\"}},\"id\":\"1769\",\"type\":\"Line\"},{\"attributes\":{\"data\":{\"x\":[1,2,3,4,5,6,7,8,9,10,11,12,13,14,15,16,17,18,19,20,21,22,23,24,25,26,27,28,29,30,31,32,33,34,35,36,37,38,39,40,41,42,43,44,45,46,47,48,49,50,51,52,53,54,55,56,57],\"y\":{\"__ndarray__\":\"AAAAAAAA+H+mm8QgsKJXQDMzMzMzo1dA7nw/NV6SV0AUrkfhepRXQEoMAiuHjldADAIrhxaRV0AxCKwcWpRXQMP1KFyP2ldAAiuHFtmGV0Dn+6nx0p1XQIGVQ4tsf1dA9ihcj8KFV0CBlUOLbHdXQHE9CtejYFdAZmZmZmaOV0BzaJHtfG9XQAaBlUOLfFdAsp3vp8ZrV0AOLbKd709XQJHtfD81VldAMQisHFpMV0CamZmZmVFXQLpJDAIrX1dA/Knx0k1SV0C4HoXrUaBYQF66SQwCA1tAcT0K16NIV0Bg5dAi2zFXQOf7qfHSTVdAJzEIrBxCV0BzaJHtfC9XQHnpJjEINFdABFYOLbItV0AGgZVDiyxXQKAaL90kJldAzczMzMwUV0Cmm8QgsBpXQMP1KFyPGldAI9v5fmocV0AEVg4tstVbQAAAAAAAAPh/AAAAAAAA+H8AAAAAAAD4f1g5tMh2wmFAAAAAAAAA+H9MN4lBYH1XQMUgsHJoGVdAppvEILASV0DVeOkmMfhWQDMzMzMzA1dA7nw/NV4CV0B3vp8aL91WQMl2vp8a11ZAAAAAAADwVkCPwvUoXO9WQFpkO99P3VZA\",\"dtype\":\"float64\",\"order\":\"little\",\"shape\":[57]}},\"selected\":{\"id\":\"1780\"},\"selection_policy\":{\"id\":\"1779\"}},\"id\":\"1766\",\"type\":\"ColumnDataSource\"},{\"attributes\":{\"line_alpha\":0.1,\"line_color\":\"#0600ef\",\"line_width\":2,\"x\":{\"field\":\"x\"},\"y\":{\"field\":\"y\"}},\"id\":\"1768\",\"type\":\"Line\"},{\"attributes\":{},\"id\":\"1777\",\"type\":\"BasicTickFormatter\"},{\"attributes\":{\"bottom_units\":\"screen\",\"coordinates\":null,\"fill_alpha\":0.5,\"fill_color\":\"lightgrey\",\"group\":null,\"left_units\":\"screen\",\"level\":\"overlay\",\"line_alpha\":1.0,\"line_color\":\"black\",\"line_dash\":[4,4],\"line_width\":2,\"right_units\":\"screen\",\"syncable\":false,\"top_units\":\"screen\"},\"id\":\"1758\",\"type\":\"BoxAnnotation\"},{\"attributes\":{},\"id\":\"1749\",\"type\":\"BasicTicker\"},{\"attributes\":{},\"id\":\"1780\",\"type\":\"Selection\"}],\"root_ids\":[\"1733\"]},\"title\":\"Bokeh Application\",\"version\":\"2.4.2\"}};\n",
       "  const render_items = [{\"docid\":\"f8513bbf-9108-4060-97ec-19b5e390fd1e\",\"root_ids\":[\"1733\"],\"roots\":{\"1733\":\"9a02e9fb-99f2-4c92-a423-a0132b075093\"}}];\n",
       "  root.Bokeh.embed.embed_items_notebook(docs_json, render_items);\n",
       "\n",
       "  }\n",
       "  if (root.Bokeh !== undefined) {\n",
       "    embed_document(root);\n",
       "  } else {\n",
       "    let attempts = 0;\n",
       "    const timer = setInterval(function(root) {\n",
       "      if (root.Bokeh !== undefined) {\n",
       "        clearInterval(timer);\n",
       "        embed_document(root);\n",
       "      } else {\n",
       "        attempts++;\n",
       "        if (attempts > 100) {\n",
       "          clearInterval(timer);\n",
       "          console.log(\"Bokeh: ERROR: Unable to run BokehJS code because BokehJS library is missing\");\n",
       "        }\n",
       "      }\n",
       "    }, 10, root)\n",
       "  }\n",
       "})(window);"
      ],
      "application/vnd.bokehjs_exec.v0+json": ""
     },
     "metadata": {
      "application/vnd.bokehjs_exec.v0+json": {
       "id": "1733"
      }
     },
     "output_type": "display_data"
    }
   ],
   "source": [
    "ff1_helpers.compare_session_laps(miami_r_session, 'VER', 'LEC')"
   ]
  },
  {
   "cell_type": "code",
   "execution_count": 11,
   "id": "09be5ab8-d5be-4cc8-ae8e-b31b5dc7e46e",
   "metadata": {},
   "outputs": [
    {
     "data": {
      "text/html": [
       "\n",
       "\n",
       "\n",
       "\n",
       "\n",
       "\n",
       "  <div class=\"bk-root\" id=\"b9d45cec-43a8-49e6-8441-e63013d5a1d5\" data-root-id=\"1931\"></div>\n"
      ]
     },
     "metadata": {},
     "output_type": "display_data"
    },
    {
     "data": {
      "application/javascript": [
       "(function(root) {\n",
       "  function embed_document(root) {\n",
       "    \n",
       "  const docs_json = {\"b82784db-e7ad-4796-a276-689701433eb7\":{\"defs\":[],\"roots\":{\"references\":[{\"attributes\":{\"background_fill_color\":\"#525151\",\"below\":[{\"id\":\"1942\"}],\"border_fill_color\":\"#525151\",\"center\":[{\"id\":\"1945\"},{\"id\":\"1949\"},{\"id\":\"1985\"}],\"left\":[{\"id\":\"1946\"}],\"renderers\":[{\"id\":\"1973\"},{\"id\":\"1991\"}],\"title\":{\"id\":\"1932\"},\"toolbar\":{\"id\":\"1957\"},\"x_range\":{\"id\":\"1934\"},\"x_scale\":{\"id\":\"1938\"},\"y_range\":{\"id\":\"1936\"},\"y_scale\":{\"id\":\"1940\"}},\"id\":\"1931\",\"subtype\":\"Figure\",\"type\":\"Plot\"},{\"attributes\":{},\"id\":\"1934\",\"type\":\"DataRange1d\"},{\"attributes\":{},\"id\":\"1983\",\"type\":\"Selection\"},{\"attributes\":{},\"id\":\"1951\",\"type\":\"WheelZoomTool\"},{\"attributes\":{},\"id\":\"1981\",\"type\":\"AllLabels\"},{\"attributes\":{\"bottom\":{\"expr\":{\"id\":\"1967\"}},\"fill_alpha\":{\"value\":0.2},\"fill_color\":{\"value\":\"#e8d402\"},\"hatch_alpha\":{\"value\":0.2},\"hatch_color\":{\"value\":\"#e8d402\"},\"line_alpha\":{\"value\":0.2},\"line_color\":{\"value\":\"#e8d402\"},\"top\":{\"expr\":{\"id\":\"1968\"}},\"width\":{\"value\":0.7},\"x\":{\"field\":\"lap_number\"}},\"id\":\"1990\",\"type\":\"VBar\"},{\"attributes\":{\"axis_label\":\"Lap time [s]\",\"axis_label_text_color\":\"white\",\"axis_line_color\":\"white\",\"coordinates\":null,\"formatter\":{\"id\":\"1977\"},\"group\":null,\"major_label_policy\":{\"id\":\"1978\"},\"major_label_text_color\":\"white\",\"major_tick_line_color\":\"white\",\"minor_tick_line_color\":\"white\",\"ticker\":{\"id\":\"1947\"}},\"id\":\"1946\",\"type\":\"LinearAxis\"},{\"attributes\":{\"axis\":{\"id\":\"1946\"},\"coordinates\":null,\"dimension\":1,\"grid_line_alpha\":0.4,\"group\":null,\"ticker\":null},\"id\":\"1949\",\"type\":\"Grid\"},{\"attributes\":{\"coordinates\":null,\"data_source\":{\"id\":\"1964\"},\"glyph\":{\"id\":\"1988\"},\"group\":null,\"hover_glyph\":null,\"muted_glyph\":{\"id\":\"1990\"},\"name\":\"MEDIUM\",\"nonselection_glyph\":{\"id\":\"1989\"},\"view\":{\"id\":\"1992\"}},\"id\":\"1991\",\"type\":\"GlyphRenderer\"},{\"attributes\":{},\"id\":\"1947\",\"type\":\"BasicTicker\"},{\"attributes\":{},\"id\":\"1955\",\"type\":\"HelpTool\"},{\"attributes\":{\"source\":{\"id\":\"1964\"}},\"id\":\"1992\",\"type\":\"CDSView\"},{\"attributes\":{},\"id\":\"1950\",\"type\":\"PanTool\"},{\"attributes\":{},\"id\":\"1980\",\"type\":\"BasicTickFormatter\"},{\"attributes\":{\"overlay\":{\"id\":\"1956\"}},\"id\":\"1952\",\"type\":\"BoxZoomTool\"},{\"attributes\":{\"label\":{\"value\":\"MEDIUM\"},\"renderers\":[{\"id\":\"1991\"}]},\"id\":\"2003\",\"type\":\"LegendItem\"},{\"attributes\":{},\"id\":\"1953\",\"type\":\"SaveTool\"},{\"attributes\":{},\"id\":\"1954\",\"type\":\"ResetTool\"},{\"attributes\":{},\"id\":\"1977\",\"type\":\"BasicTickFormatter\"},{\"attributes\":{\"fields\":[\"HARD\"]},\"id\":\"1966\",\"type\":\"Stack\"},{\"attributes\":{\"bottom_units\":\"screen\",\"coordinates\":null,\"fill_alpha\":0.5,\"fill_color\":\"lightgrey\",\"group\":null,\"left_units\":\"screen\",\"level\":\"overlay\",\"line_alpha\":1.0,\"line_color\":\"black\",\"line_dash\":[4,4],\"line_width\":2,\"right_units\":\"screen\",\"syncable\":false,\"top_units\":\"screen\"},\"id\":\"1956\",\"type\":\"BoxAnnotation\"},{\"attributes\":{\"coordinates\":null,\"data_source\":{\"id\":\"1964\"},\"glyph\":{\"id\":\"1970\"},\"group\":null,\"hover_glyph\":null,\"muted_glyph\":{\"id\":\"1972\"},\"name\":\"HARD\",\"nonselection_glyph\":{\"id\":\"1971\"},\"view\":{\"id\":\"1974\"}},\"id\":\"1973\",\"type\":\"GlyphRenderer\"},{\"attributes\":{},\"id\":\"1978\",\"type\":\"AllLabels\"},{\"attributes\":{\"tools\":[{\"id\":\"1950\"},{\"id\":\"1951\"},{\"id\":\"1952\"},{\"id\":\"1953\"},{\"id\":\"1954\"},{\"id\":\"1955\"}]},\"id\":\"1957\",\"type\":\"Toolbar\"},{\"attributes\":{\"fields\":[\"HARD\",\"MEDIUM\"]},\"id\":\"1968\",\"type\":\"Stack\"},{\"attributes\":{\"data\":{\"HARD\":[null,null,null,null,null,null,null,null,null,null,null,null,null,null,null,null,null,null,null,null,null,null,null,null,null,null,108.047,93.135,92.779,93.216,93.033,92.742,92.813,92.714,92.696,92.596,92.325,92.417,92.415,92.444,111.339,\"NaN\",\"NaN\",\"NaN\",142.077,\"NaN\",93.959,92.397,92.292,91.878,92.05,92.037,91.456,91.361,91.75,91.74,91.458],\"MEDIUM\":[\"NaN\",94.542,94.55,94.287,94.32,94.227,94.267,94.318,95.415,94.107,94.466,93.991,94.09,93.866,93.51,94.225,93.742,93.946,93.684,93.249,93.347,93.193,93.275,93.487,93.286,98.505,null,null,null,null,null,null,null,null,null,null,null,null,null,null,null,null,null,null,null,null,null,null,null,null,null,null,null,null,null,null,null],\"lap_number\":[1,2,3,4,5,6,7,8,9,10,11,12,13,14,15,16,17,18,19,20,21,22,23,24,25,26,27,28,29,30,31,32,33,34,35,36,37,38,39,40,41,42,43,44,45,46,47,48,49,50,51,52,53,54,55,56,57]},\"selected\":{\"id\":\"1983\"},\"selection_policy\":{\"id\":\"1982\"}},\"id\":\"1964\",\"type\":\"ColumnDataSource\"},{\"attributes\":{\"bottom\":{\"expr\":{\"id\":\"1965\"}},\"fill_color\":{\"value\":\"white\"},\"hatch_color\":{\"value\":\"white\"},\"line_color\":{\"value\":\"white\"},\"top\":{\"expr\":{\"id\":\"1966\"}},\"width\":{\"value\":0.7},\"x\":{\"field\":\"lap_number\"}},\"id\":\"1970\",\"type\":\"VBar\"},{\"attributes\":{\"bottom\":{\"expr\":{\"id\":\"1965\"}},\"fill_alpha\":{\"value\":0.2},\"fill_color\":{\"value\":\"white\"},\"hatch_alpha\":{\"value\":0.2},\"hatch_color\":{\"value\":\"white\"},\"line_alpha\":{\"value\":0.2},\"line_color\":{\"value\":\"white\"},\"top\":{\"expr\":{\"id\":\"1966\"}},\"width\":{\"value\":0.7},\"x\":{\"field\":\"lap_number\"}},\"id\":\"1972\",\"type\":\"VBar\"},{\"attributes\":{\"axis\":{\"id\":\"1942\"},\"coordinates\":null,\"grid_line_alpha\":0.4,\"group\":null,\"ticker\":null},\"id\":\"1945\",\"type\":\"Grid\"},{\"attributes\":{\"bottom\":{\"expr\":{\"id\":\"1965\"}},\"fill_alpha\":{\"value\":0.1},\"fill_color\":{\"value\":\"white\"},\"hatch_alpha\":{\"value\":0.1},\"hatch_color\":{\"value\":\"white\"},\"line_alpha\":{\"value\":0.1},\"line_color\":{\"value\":\"white\"},\"top\":{\"expr\":{\"id\":\"1966\"}},\"width\":{\"value\":0.7},\"x\":{\"field\":\"lap_number\"}},\"id\":\"1971\",\"type\":\"VBar\"},{\"attributes\":{},\"id\":\"1943\",\"type\":\"BasicTicker\"},{\"attributes\":{\"fields\":[]},\"id\":\"1965\",\"type\":\"Stack\"},{\"attributes\":{\"background_fill_alpha\":0.4,\"background_fill_color\":\"#525151\",\"border_line_width\":0,\"coordinates\":null,\"group\":null,\"items\":[{\"id\":\"1986\"},{\"id\":\"2003\"}],\"label_text_color\":\"white\"},\"id\":\"1985\",\"type\":\"Legend\"},{\"attributes\":{\"coordinates\":null,\"group\":null,\"text\":\"VER Race Laps\",\"text_color\":\"white\"},\"id\":\"1932\",\"type\":\"Title\"},{\"attributes\":{\"label\":{\"value\":\"HARD\"},\"renderers\":[{\"id\":\"1973\"}]},\"id\":\"1986\",\"type\":\"LegendItem\"},{\"attributes\":{},\"id\":\"1982\",\"type\":\"UnionRenderers\"},{\"attributes\":{},\"id\":\"1936\",\"type\":\"DataRange1d\"},{\"attributes\":{\"bottom\":{\"expr\":{\"id\":\"1967\"}},\"fill_color\":{\"value\":\"#e8d402\"},\"hatch_color\":{\"value\":\"#e8d402\"},\"line_color\":{\"value\":\"#e8d402\"},\"top\":{\"expr\":{\"id\":\"1968\"}},\"width\":{\"value\":0.7},\"x\":{\"field\":\"lap_number\"}},\"id\":\"1988\",\"type\":\"VBar\"},{\"attributes\":{\"fields\":[\"HARD\"]},\"id\":\"1967\",\"type\":\"Stack\"},{\"attributes\":{\"source\":{\"id\":\"1964\"}},\"id\":\"1974\",\"type\":\"CDSView\"},{\"attributes\":{},\"id\":\"1940\",\"type\":\"LinearScale\"},{\"attributes\":{},\"id\":\"1938\",\"type\":\"LinearScale\"},{\"attributes\":{\"bottom\":{\"expr\":{\"id\":\"1967\"}},\"fill_alpha\":{\"value\":0.1},\"fill_color\":{\"value\":\"#e8d402\"},\"hatch_alpha\":{\"value\":0.1},\"hatch_color\":{\"value\":\"#e8d402\"},\"line_alpha\":{\"value\":0.1},\"line_color\":{\"value\":\"#e8d402\"},\"top\":{\"expr\":{\"id\":\"1968\"}},\"width\":{\"value\":0.7},\"x\":{\"field\":\"lap_number\"}},\"id\":\"1989\",\"type\":\"VBar\"},{\"attributes\":{\"axis_label\":\"Lap #\",\"axis_label_text_color\":\"white\",\"axis_line_color\":\"white\",\"coordinates\":null,\"formatter\":{\"id\":\"1980\"},\"group\":null,\"major_label_policy\":{\"id\":\"1981\"},\"major_label_text_color\":\"white\",\"major_tick_line_color\":\"white\",\"minor_tick_line_color\":\"white\",\"ticker\":{\"id\":\"1943\"}},\"id\":\"1942\",\"type\":\"LinearAxis\"}],\"root_ids\":[\"1931\"]},\"title\":\"Bokeh Application\",\"version\":\"2.4.2\"}};\n",
       "  const render_items = [{\"docid\":\"b82784db-e7ad-4796-a276-689701433eb7\",\"root_ids\":[\"1931\"],\"roots\":{\"1931\":\"b9d45cec-43a8-49e6-8441-e63013d5a1d5\"}}];\n",
       "  root.Bokeh.embed.embed_items_notebook(docs_json, render_items);\n",
       "\n",
       "  }\n",
       "  if (root.Bokeh !== undefined) {\n",
       "    embed_document(root);\n",
       "  } else {\n",
       "    let attempts = 0;\n",
       "    const timer = setInterval(function(root) {\n",
       "      if (root.Bokeh !== undefined) {\n",
       "        clearInterval(timer);\n",
       "        embed_document(root);\n",
       "      } else {\n",
       "        attempts++;\n",
       "        if (attempts > 100) {\n",
       "          clearInterval(timer);\n",
       "          console.log(\"Bokeh: ERROR: Unable to run BokehJS code because BokehJS library is missing\");\n",
       "        }\n",
       "      }\n",
       "    }, 10, root)\n",
       "  }\n",
       "})(window);"
      ],
      "application/vnd.bokehjs_exec.v0+json": ""
     },
     "metadata": {
      "application/vnd.bokehjs_exec.v0+json": {
       "id": "1931"
      }
     },
     "output_type": "display_data"
    },
    {
     "data": {
      "text/html": [
       "\n",
       "\n",
       "\n",
       "\n",
       "\n",
       "\n",
       "  <div class=\"bk-root\" id=\"93041bcc-63f9-4ace-b616-6c9921012c93\" data-root-id=\"2132\"></div>\n"
      ]
     },
     "metadata": {},
     "output_type": "display_data"
    },
    {
     "data": {
      "application/javascript": [
       "(function(root) {\n",
       "  function embed_document(root) {\n",
       "    \n",
       "  const docs_json = {\"6ccb110d-98b8-4a70-9a3b-3821377dc515\":{\"defs\":[],\"roots\":{\"references\":[{\"attributes\":{\"background_fill_color\":\"#525151\",\"below\":[{\"id\":\"2143\"}],\"border_fill_color\":\"#525151\",\"center\":[{\"id\":\"2146\"},{\"id\":\"2150\"},{\"id\":\"2186\"}],\"left\":[{\"id\":\"2147\"}],\"renderers\":[{\"id\":\"2174\"},{\"id\":\"2192\"}],\"title\":{\"id\":\"2133\"},\"toolbar\":{\"id\":\"2158\"},\"x_range\":{\"id\":\"2135\"},\"x_scale\":{\"id\":\"2139\"},\"y_range\":{\"id\":\"2137\"},\"y_scale\":{\"id\":\"2141\"}},\"id\":\"2132\",\"subtype\":\"Figure\",\"type\":\"Plot\"},{\"attributes\":{},\"id\":\"2181\",\"type\":\"BasicTickFormatter\"},{\"attributes\":{},\"id\":\"2183\",\"type\":\"UnionRenderers\"},{\"attributes\":{},\"id\":\"2182\",\"type\":\"AllLabels\"},{\"attributes\":{\"bottom_units\":\"screen\",\"coordinates\":null,\"fill_alpha\":0.5,\"fill_color\":\"lightgrey\",\"group\":null,\"left_units\":\"screen\",\"level\":\"overlay\",\"line_alpha\":1.0,\"line_color\":\"black\",\"line_dash\":[4,4],\"line_width\":2,\"right_units\":\"screen\",\"syncable\":false,\"top_units\":\"screen\"},\"id\":\"2157\",\"type\":\"BoxAnnotation\"},{\"attributes\":{},\"id\":\"2178\",\"type\":\"BasicTickFormatter\"},{\"attributes\":{},\"id\":\"2179\",\"type\":\"AllLabels\"},{\"attributes\":{},\"id\":\"2137\",\"type\":\"DataRange1d\"},{\"attributes\":{\"tools\":[{\"id\":\"2151\"},{\"id\":\"2152\"},{\"id\":\"2153\"},{\"id\":\"2154\"},{\"id\":\"2155\"},{\"id\":\"2156\"}]},\"id\":\"2158\",\"type\":\"Toolbar\"},{\"attributes\":{\"fields\":[\"SOFT\"]},\"id\":\"2167\",\"type\":\"Stack\"},{\"attributes\":{},\"id\":\"2144\",\"type\":\"BasicTicker\"},{\"attributes\":{\"fields\":[\"SOFT\",\"HARD\"]},\"id\":\"2169\",\"type\":\"Stack\"},{\"attributes\":{\"bottom\":{\"expr\":{\"id\":\"2166\"}},\"fill_color\":{\"value\":\"#fc4432\"},\"hatch_color\":{\"value\":\"#fc4432\"},\"line_color\":{\"value\":\"#fc4432\"},\"top\":{\"expr\":{\"id\":\"2167\"}},\"width\":{\"value\":0.7},\"x\":{\"field\":\"lap_number\"}},\"id\":\"2171\",\"type\":\"VBar\"},{\"attributes\":{},\"id\":\"2141\",\"type\":\"LinearScale\"},{\"attributes\":{\"bottom\":{\"expr\":{\"id\":\"2166\"}},\"fill_alpha\":{\"value\":0.2},\"fill_color\":{\"value\":\"#fc4432\"},\"hatch_alpha\":{\"value\":0.2},\"hatch_color\":{\"value\":\"#fc4432\"},\"line_alpha\":{\"value\":0.2},\"line_color\":{\"value\":\"#fc4432\"},\"top\":{\"expr\":{\"id\":\"2167\"}},\"width\":{\"value\":0.7},\"x\":{\"field\":\"lap_number\"}},\"id\":\"2173\",\"type\":\"VBar\"},{\"attributes\":{\"bottom\":{\"expr\":{\"id\":\"2168\"}},\"fill_color\":{\"value\":\"white\"},\"hatch_color\":{\"value\":\"white\"},\"line_color\":{\"value\":\"white\"},\"top\":{\"expr\":{\"id\":\"2169\"}},\"width\":{\"value\":0.7},\"x\":{\"field\":\"lap_number\"}},\"id\":\"2189\",\"type\":\"VBar\"},{\"attributes\":{\"bottom\":{\"expr\":{\"id\":\"2166\"}},\"fill_alpha\":{\"value\":0.1},\"fill_color\":{\"value\":\"#fc4432\"},\"hatch_alpha\":{\"value\":0.1},\"hatch_color\":{\"value\":\"#fc4432\"},\"line_alpha\":{\"value\":0.1},\"line_color\":{\"value\":\"#fc4432\"},\"top\":{\"expr\":{\"id\":\"2167\"}},\"width\":{\"value\":0.7},\"x\":{\"field\":\"lap_number\"}},\"id\":\"2172\",\"type\":\"VBar\"},{\"attributes\":{\"fields\":[]},\"id\":\"2166\",\"type\":\"Stack\"},{\"attributes\":{},\"id\":\"2184\",\"type\":\"Selection\"},{\"attributes\":{\"bottom\":{\"expr\":{\"id\":\"2168\"}},\"fill_alpha\":{\"value\":0.2},\"fill_color\":{\"value\":\"white\"},\"hatch_alpha\":{\"value\":0.2},\"hatch_color\":{\"value\":\"white\"},\"line_alpha\":{\"value\":0.2},\"line_color\":{\"value\":\"white\"},\"top\":{\"expr\":{\"id\":\"2169\"}},\"width\":{\"value\":0.7},\"x\":{\"field\":\"lap_number\"}},\"id\":\"2191\",\"type\":\"VBar\"},{\"attributes\":{\"background_fill_alpha\":0.4,\"background_fill_color\":\"#525151\",\"border_line_width\":0,\"coordinates\":null,\"group\":null,\"items\":[{\"id\":\"2187\"},{\"id\":\"2204\"}],\"label_text_color\":\"white\"},\"id\":\"2186\",\"type\":\"Legend\"},{\"attributes\":{\"bottom\":{\"expr\":{\"id\":\"2168\"}},\"fill_alpha\":{\"value\":0.1},\"fill_color\":{\"value\":\"white\"},\"hatch_alpha\":{\"value\":0.1},\"hatch_color\":{\"value\":\"white\"},\"line_alpha\":{\"value\":0.1},\"line_color\":{\"value\":\"white\"},\"top\":{\"expr\":{\"id\":\"2169\"}},\"width\":{\"value\":0.7},\"x\":{\"field\":\"lap_number\"}},\"id\":\"2190\",\"type\":\"VBar\"},{\"attributes\":{},\"id\":\"2152\",\"type\":\"WheelZoomTool\"},{\"attributes\":{\"source\":{\"id\":\"2165\"}},\"id\":\"2175\",\"type\":\"CDSView\"},{\"attributes\":{\"coordinates\":null,\"group\":null,\"text\":\"VER Race Laps\",\"text_color\":\"white\"},\"id\":\"2133\",\"type\":\"Title\"},{\"attributes\":{\"source\":{\"id\":\"2165\"}},\"id\":\"2193\",\"type\":\"CDSView\"},{\"attributes\":{},\"id\":\"2135\",\"type\":\"DataRange1d\"},{\"attributes\":{\"axis\":{\"id\":\"2143\"},\"coordinates\":null,\"grid_line_alpha\":0.4,\"group\":null,\"ticker\":null},\"id\":\"2146\",\"type\":\"Grid\"},{\"attributes\":{\"data\":{\"HARD\":[null,null,null,null,null,null,null,null,null,null,null,null,null,107.251,88.492,89.006,89.108,88.502,88.713,88.387,88.569,88.322,88.175,88.179,88.041,88.6,88.348,87.935,87.904,87.678,87.917,87.913,87.581,87.783,87.761,103.598,128.605,86.321,86.103,86.552,86.301,86.463,86.437,86.808,86.768,87.048,86.656,86.554,86.657,86.748,87.048,87.559,102.072,null,null,null,null,null],\"SOFT\":[\"NaN\",89.103,88.827,89.026,88.718,88.707,88.636,88.817,88.671,88.89,89.137,89.282,91.515,null,null,null,null,null,null,null,null,null,null,null,null,null,null,null,null,null,null,null,null,null,null,null,null,null,null,null,null,null,null,null,null,null,null,null,null,null,null,null,null,135.373,\"NaN\",146.432,141.895,86.618],\"lap_number\":[1,2,3,4,5,6,7,8,9,10,11,12,13,14,15,16,17,18,19,20,21,22,23,24,25,26,27,28,29,30,31,32,33,34,35,36,37,38,39,40,41,42,43,44,45,46,47,48,49,50,51,52,53,54,55,56,57,58]},\"selected\":{\"id\":\"2184\"},\"selection_policy\":{\"id\":\"2183\"}},\"id\":\"2165\",\"type\":\"ColumnDataSource\"},{\"attributes\":{\"label\":{\"value\":\"SOFT\"},\"renderers\":[{\"id\":\"2174\"}]},\"id\":\"2187\",\"type\":\"LegendItem\"},{\"attributes\":{\"label\":{\"value\":\"HARD\"},\"renderers\":[{\"id\":\"2192\"}]},\"id\":\"2204\",\"type\":\"LegendItem\"},{\"attributes\":{},\"id\":\"2139\",\"type\":\"LinearScale\"},{\"attributes\":{\"axis_label\":\"Lap #\",\"axis_label_text_color\":\"white\",\"axis_line_color\":\"white\",\"coordinates\":null,\"formatter\":{\"id\":\"2181\"},\"group\":null,\"major_label_policy\":{\"id\":\"2182\"},\"major_label_text_color\":\"white\",\"major_tick_line_color\":\"white\",\"minor_tick_line_color\":\"white\",\"ticker\":{\"id\":\"2144\"}},\"id\":\"2143\",\"type\":\"LinearAxis\"},{\"attributes\":{},\"id\":\"2148\",\"type\":\"BasicTicker\"},{\"attributes\":{\"fields\":[\"SOFT\"]},\"id\":\"2168\",\"type\":\"Stack\"},{\"attributes\":{\"axis_label\":\"Lap time [s]\",\"axis_label_text_color\":\"white\",\"axis_line_color\":\"white\",\"coordinates\":null,\"formatter\":{\"id\":\"2178\"},\"group\":null,\"major_label_policy\":{\"id\":\"2179\"},\"major_label_text_color\":\"white\",\"major_tick_line_color\":\"white\",\"minor_tick_line_color\":\"white\",\"ticker\":{\"id\":\"2148\"}},\"id\":\"2147\",\"type\":\"LinearAxis\"},{\"attributes\":{\"axis\":{\"id\":\"2147\"},\"coordinates\":null,\"dimension\":1,\"grid_line_alpha\":0.4,\"group\":null,\"ticker\":null},\"id\":\"2150\",\"type\":\"Grid\"},{\"attributes\":{},\"id\":\"2156\",\"type\":\"HelpTool\"},{\"attributes\":{},\"id\":\"2151\",\"type\":\"PanTool\"},{\"attributes\":{\"coordinates\":null,\"data_source\":{\"id\":\"2165\"},\"glyph\":{\"id\":\"2171\"},\"group\":null,\"hover_glyph\":null,\"muted_glyph\":{\"id\":\"2173\"},\"name\":\"SOFT\",\"nonselection_glyph\":{\"id\":\"2172\"},\"view\":{\"id\":\"2175\"}},\"id\":\"2174\",\"type\":\"GlyphRenderer\"},{\"attributes\":{\"overlay\":{\"id\":\"2157\"}},\"id\":\"2153\",\"type\":\"BoxZoomTool\"},{\"attributes\":{\"coordinates\":null,\"data_source\":{\"id\":\"2165\"},\"glyph\":{\"id\":\"2189\"},\"group\":null,\"hover_glyph\":null,\"muted_glyph\":{\"id\":\"2191\"},\"name\":\"HARD\",\"nonselection_glyph\":{\"id\":\"2190\"},\"view\":{\"id\":\"2193\"}},\"id\":\"2192\",\"type\":\"GlyphRenderer\"},{\"attributes\":{},\"id\":\"2154\",\"type\":\"SaveTool\"},{\"attributes\":{},\"id\":\"2155\",\"type\":\"ResetTool\"}],\"root_ids\":[\"2132\"]},\"title\":\"Bokeh Application\",\"version\":\"2.4.2\"}};\n",
       "  const render_items = [{\"docid\":\"6ccb110d-98b8-4a70-9a3b-3821377dc515\",\"root_ids\":[\"2132\"],\"roots\":{\"2132\":\"93041bcc-63f9-4ace-b616-6c9921012c93\"}}];\n",
       "  root.Bokeh.embed.embed_items_notebook(docs_json, render_items);\n",
       "\n",
       "  }\n",
       "  if (root.Bokeh !== undefined) {\n",
       "    embed_document(root);\n",
       "  } else {\n",
       "    let attempts = 0;\n",
       "    const timer = setInterval(function(root) {\n",
       "      if (root.Bokeh !== undefined) {\n",
       "        clearInterval(timer);\n",
       "        embed_document(root);\n",
       "      } else {\n",
       "        attempts++;\n",
       "        if (attempts > 100) {\n",
       "          clearInterval(timer);\n",
       "          console.log(\"Bokeh: ERROR: Unable to run BokehJS code because BokehJS library is missing\");\n",
       "        }\n",
       "      }\n",
       "    }, 10, root)\n",
       "  }\n",
       "})(window);"
      ],
      "application/vnd.bokehjs_exec.v0+json": ""
     },
     "metadata": {
      "application/vnd.bokehjs_exec.v0+json": {
       "id": "2132"
      }
     },
     "output_type": "display_data"
    },
    {
     "data": {
      "text/html": [
       "\n",
       "\n",
       "\n",
       "\n",
       "\n",
       "\n",
       "  <div class=\"bk-root\" id=\"17649d27-cd26-43f4-a1a3-15cc33691ade\" data-root-id=\"2343\"></div>\n"
      ]
     },
     "metadata": {},
     "output_type": "display_data"
    },
    {
     "data": {
      "application/javascript": [
       "(function(root) {\n",
       "  function embed_document(root) {\n",
       "    \n",
       "  const docs_json = {\"38f82c52-cde9-4c6d-8741-1d1d41089546\":{\"defs\":[],\"roots\":{\"references\":[{\"attributes\":{\"background_fill_color\":\"#525151\",\"below\":[{\"id\":\"2354\"}],\"border_fill_color\":\"#525151\",\"center\":[{\"id\":\"2357\"},{\"id\":\"2361\"},{\"id\":\"2399\"}],\"left\":[{\"id\":\"2358\"}],\"renderers\":[{\"id\":\"2387\"},{\"id\":\"2405\"},{\"id\":\"2422\"}],\"title\":{\"id\":\"2344\"},\"toolbar\":{\"id\":\"2369\"},\"x_range\":{\"id\":\"2346\"},\"x_scale\":{\"id\":\"2350\"},\"y_range\":{\"id\":\"2348\"},\"y_scale\":{\"id\":\"2352\"}},\"id\":\"2343\",\"subtype\":\"Figure\",\"type\":\"Plot\"},{\"attributes\":{\"coordinates\":null,\"data_source\":{\"id\":\"2376\"},\"glyph\":{\"id\":\"2402\"},\"group\":null,\"hover_glyph\":null,\"muted_glyph\":{\"id\":\"2404\"},\"name\":\"MEDIUM\",\"nonselection_glyph\":{\"id\":\"2403\"},\"view\":{\"id\":\"2406\"}},\"id\":\"2405\",\"type\":\"GlyphRenderer\"},{\"attributes\":{},\"id\":\"2366\",\"type\":\"ResetTool\"},{\"attributes\":{\"bottom\":{\"expr\":{\"id\":\"2379\"}},\"fill_color\":{\"value\":\"#e8d402\"},\"hatch_color\":{\"value\":\"#e8d402\"},\"line_color\":{\"value\":\"#e8d402\"},\"top\":{\"expr\":{\"id\":\"2380\"}},\"width\":{\"value\":0.7},\"x\":{\"field\":\"lap_number\"}},\"id\":\"2402\",\"type\":\"VBar\"},{\"attributes\":{\"coordinates\":null,\"data_source\":{\"id\":\"2376\"},\"glyph\":{\"id\":\"2419\"},\"group\":null,\"hover_glyph\":null,\"muted_glyph\":{\"id\":\"2421\"},\"name\":\"INTERMEDIATE\",\"nonselection_glyph\":{\"id\":\"2420\"},\"view\":{\"id\":\"2423\"}},\"id\":\"2422\",\"type\":\"GlyphRenderer\"},{\"attributes\":{\"axis_label\":\"Lap time [s]\",\"axis_label_text_color\":\"white\",\"axis_line_color\":\"white\",\"coordinates\":null,\"formatter\":{\"id\":\"2391\"},\"group\":null,\"major_label_policy\":{\"id\":\"2392\"},\"major_label_text_color\":\"white\",\"major_tick_line_color\":\"white\",\"minor_tick_line_color\":\"white\",\"ticker\":{\"id\":\"2359\"}},\"id\":\"2358\",\"type\":\"LinearAxis\"},{\"attributes\":{\"bottom\":{\"expr\":{\"id\":\"2379\"}},\"fill_alpha\":{\"value\":0.2},\"fill_color\":{\"value\":\"#e8d402\"},\"hatch_alpha\":{\"value\":0.2},\"hatch_color\":{\"value\":\"#e8d402\"},\"line_alpha\":{\"value\":0.2},\"line_color\":{\"value\":\"#e8d402\"},\"top\":{\"expr\":{\"id\":\"2380\"}},\"width\":{\"value\":0.7},\"x\":{\"field\":\"lap_number\"}},\"id\":\"2404\",\"type\":\"VBar\"},{\"attributes\":{\"bottom\":{\"expr\":{\"id\":\"2379\"}},\"fill_alpha\":{\"value\":0.1},\"fill_color\":{\"value\":\"#e8d402\"},\"hatch_alpha\":{\"value\":0.1},\"hatch_color\":{\"value\":\"#e8d402\"},\"line_alpha\":{\"value\":0.1},\"line_color\":{\"value\":\"#e8d402\"},\"top\":{\"expr\":{\"id\":\"2380\"}},\"width\":{\"value\":0.7},\"x\":{\"field\":\"lap_number\"}},\"id\":\"2403\",\"type\":\"VBar\"},{\"attributes\":{\"bottom\":{\"expr\":{\"id\":\"2381\"}},\"fill_color\":{\"value\":\"#3bc82c\"},\"hatch_color\":{\"value\":\"#3bc82c\"},\"line_color\":{\"value\":\"#3bc82c\"},\"top\":{\"expr\":{\"id\":\"2382\"}},\"width\":{\"value\":0.7},\"x\":{\"field\":\"lap_number\"}},\"id\":\"2419\",\"type\":\"VBar\"},{\"attributes\":{\"bottom\":{\"expr\":{\"id\":\"2381\"}},\"fill_alpha\":{\"value\":0.2},\"fill_color\":{\"value\":\"#3bc82c\"},\"hatch_alpha\":{\"value\":0.2},\"hatch_color\":{\"value\":\"#3bc82c\"},\"line_alpha\":{\"value\":0.2},\"line_color\":{\"value\":\"#3bc82c\"},\"top\":{\"expr\":{\"id\":\"2382\"}},\"width\":{\"value\":0.7},\"x\":{\"field\":\"lap_number\"}},\"id\":\"2421\",\"type\":\"VBar\"},{\"attributes\":{\"label\":{\"value\":\"SOFT\"},\"renderers\":[{\"id\":\"2387\"}]},\"id\":\"2400\",\"type\":\"LegendItem\"},{\"attributes\":{\"bottom\":{\"expr\":{\"id\":\"2381\"}},\"fill_alpha\":{\"value\":0.1},\"fill_color\":{\"value\":\"#3bc82c\"},\"hatch_alpha\":{\"value\":0.1},\"hatch_color\":{\"value\":\"#3bc82c\"},\"line_alpha\":{\"value\":0.1},\"line_color\":{\"value\":\"#3bc82c\"},\"top\":{\"expr\":{\"id\":\"2382\"}},\"width\":{\"value\":0.7},\"x\":{\"field\":\"lap_number\"}},\"id\":\"2420\",\"type\":\"VBar\"},{\"attributes\":{},\"id\":\"2346\",\"type\":\"DataRange1d\"},{\"attributes\":{},\"id\":\"2350\",\"type\":\"LinearScale\"},{\"attributes\":{},\"id\":\"2348\",\"type\":\"DataRange1d\"},{\"attributes\":{},\"id\":\"2391\",\"type\":\"BasicTickFormatter\"},{\"attributes\":{\"coordinates\":null,\"group\":null,\"text\":\"VER Race Laps\",\"text_color\":\"white\"},\"id\":\"2344\",\"type\":\"Title\"},{\"attributes\":{\"axis\":{\"id\":\"2358\"},\"coordinates\":null,\"dimension\":1,\"grid_line_alpha\":0.4,\"group\":null,\"ticker\":null},\"id\":\"2361\",\"type\":\"Grid\"},{\"attributes\":{\"source\":{\"id\":\"2376\"}},\"id\":\"2406\",\"type\":\"CDSView\"},{\"attributes\":{},\"id\":\"2362\",\"type\":\"PanTool\"},{\"attributes\":{\"label\":{\"value\":\"MEDIUM\"},\"renderers\":[{\"id\":\"2405\"}]},\"id\":\"2417\",\"type\":\"LegendItem\"},{\"attributes\":{},\"id\":\"2392\",\"type\":\"AllLabels\"},{\"attributes\":{\"fields\":[\"SOFT\",\"MEDIUM\"]},\"id\":\"2380\",\"type\":\"Stack\"},{\"attributes\":{\"overlay\":{\"id\":\"2368\"}},\"id\":\"2364\",\"type\":\"BoxZoomTool\"},{\"attributes\":{\"fields\":[\"SOFT\",\"MEDIUM\"]},\"id\":\"2381\",\"type\":\"Stack\"},{\"attributes\":{\"source\":{\"id\":\"2376\"}},\"id\":\"2423\",\"type\":\"CDSView\"},{\"attributes\":{\"fields\":[\"SOFT\",\"MEDIUM\",\"INTERMEDIATE\"]},\"id\":\"2382\",\"type\":\"Stack\"},{\"attributes\":{},\"id\":\"2394\",\"type\":\"BasicTickFormatter\"},{\"attributes\":{\"bottom\":{\"expr\":{\"id\":\"2377\"}},\"fill_color\":{\"value\":\"#fc4432\"},\"hatch_color\":{\"value\":\"#fc4432\"},\"line_color\":{\"value\":\"#fc4432\"},\"top\":{\"expr\":{\"id\":\"2378\"}},\"width\":{\"value\":0.7},\"x\":{\"field\":\"lap_number\"}},\"id\":\"2384\",\"type\":\"VBar\"},{\"attributes\":{\"data\":{\"INTERMEDIATE\":[\"NaN\",145.995,136.5,147.427,91.45,90.444,90.119,90.177,89.917,90.351,90.339,90.969,91.325,91.889,92.039,92.072,92.079,91.44,95.268,null,null,null,null,null,null,null,null,null,null,null,null,null,null,null,null,null,null,null,null,null,null,null,null,null,null,null,null,null,null,null,null,null,null,null,null,null,null,null,null,null,null,null,null],\"MEDIUM\":[null,null,null,null,null,null,null,null,null,null,null,null,null,null,null,null,null,null,null,114.738,85.451,83.794,82.869,82.451,82.156,81.653,81.095,80.692,80.713,80.912,80.81,80.587,80.55,80.56,80.607,80.293,80.361,80.582,80.759,81.095,80.967,80.224,80.974,80.557,80.491,80.442,80.356,80.69,80.776,81.019,85.574,null,null,null,null,null,null,null,null,null,null,null,null],\"SOFT\":[null,null,null,null,null,null,null,null,null,null,null,null,null,null,null,null,null,null,null,null,null,null,null,null,null,null,null,null,null,null,null,null,null,null,null,null,null,null,null,null,null,null,null,null,null,null,null,null,null,null,null,104.342,79.309,81.152,78.446,79.503,80.582,79.326,79.841,79.869,79.947,79.609,80.155],\"lap_number\":[1.0,2.0,3.0,4.0,5.0,6.0,7.0,8.0,9.0,10.0,11.0,12.0,13.0,14.0,15.0,16.0,17.0,18.0,19.0,20.0,21.0,22.0,23.0,24.0,25.0,26.0,27.0,28.0,29.0,30.0,31.0,32.0,33.0,34.0,35.0,36.0,37.0,38.0,39.0,40.0,41.0,42.0,43.0,44.0,45.0,46.0,47.0,48.0,49.0,50.0,51.0,52.0,53.0,54.0,55.0,56.0,57.0,58.0,59.0,60.0,61.0,62.0,63.0]},\"selected\":{\"id\":\"2397\"},\"selection_policy\":{\"id\":\"2396\"}},\"id\":\"2376\",\"type\":\"ColumnDataSource\"},{\"attributes\":{\"label\":{\"value\":\"INTERMEDIATE\"},\"renderers\":[{\"id\":\"2422\"}]},\"id\":\"2434\",\"type\":\"LegendItem\"},{\"attributes\":{},\"id\":\"2395\",\"type\":\"AllLabels\"},{\"attributes\":{\"axis\":{\"id\":\"2354\"},\"coordinates\":null,\"grid_line_alpha\":0.4,\"group\":null,\"ticker\":null},\"id\":\"2357\",\"type\":\"Grid\"},{\"attributes\":{\"source\":{\"id\":\"2376\"}},\"id\":\"2388\",\"type\":\"CDSView\"},{\"attributes\":{},\"id\":\"2363\",\"type\":\"WheelZoomTool\"},{\"attributes\":{\"axis_label\":\"Lap #\",\"axis_label_text_color\":\"white\",\"axis_line_color\":\"white\",\"coordinates\":null,\"formatter\":{\"id\":\"2394\"},\"group\":null,\"major_label_policy\":{\"id\":\"2395\"},\"major_label_text_color\":\"white\",\"major_tick_line_color\":\"white\",\"minor_tick_line_color\":\"white\",\"ticker\":{\"id\":\"2355\"}},\"id\":\"2354\",\"type\":\"LinearAxis\"},{\"attributes\":{\"coordinates\":null,\"data_source\":{\"id\":\"2376\"},\"glyph\":{\"id\":\"2384\"},\"group\":null,\"hover_glyph\":null,\"muted_glyph\":{\"id\":\"2386\"},\"name\":\"SOFT\",\"nonselection_glyph\":{\"id\":\"2385\"},\"view\":{\"id\":\"2388\"}},\"id\":\"2387\",\"type\":\"GlyphRenderer\"},{\"attributes\":{\"bottom\":{\"expr\":{\"id\":\"2377\"}},\"fill_alpha\":{\"value\":0.1},\"fill_color\":{\"value\":\"#fc4432\"},\"hatch_alpha\":{\"value\":0.1},\"hatch_color\":{\"value\":\"#fc4432\"},\"line_alpha\":{\"value\":0.1},\"line_color\":{\"value\":\"#fc4432\"},\"top\":{\"expr\":{\"id\":\"2378\"}},\"width\":{\"value\":0.7},\"x\":{\"field\":\"lap_number\"}},\"id\":\"2385\",\"type\":\"VBar\"},{\"attributes\":{\"fields\":[\"SOFT\"]},\"id\":\"2379\",\"type\":\"Stack\"},{\"attributes\":{\"bottom_units\":\"screen\",\"coordinates\":null,\"fill_alpha\":0.5,\"fill_color\":\"lightgrey\",\"group\":null,\"left_units\":\"screen\",\"level\":\"overlay\",\"line_alpha\":1.0,\"line_color\":\"black\",\"line_dash\":[4,4],\"line_width\":2,\"right_units\":\"screen\",\"syncable\":false,\"top_units\":\"screen\"},\"id\":\"2368\",\"type\":\"BoxAnnotation\"},{\"attributes\":{},\"id\":\"2355\",\"type\":\"BasicTicker\"},{\"attributes\":{},\"id\":\"2396\",\"type\":\"UnionRenderers\"},{\"attributes\":{\"fields\":[\"SOFT\"]},\"id\":\"2378\",\"type\":\"Stack\"},{\"attributes\":{\"background_fill_alpha\":0.4,\"background_fill_color\":\"#525151\",\"border_line_width\":0,\"coordinates\":null,\"group\":null,\"items\":[{\"id\":\"2400\"},{\"id\":\"2417\"},{\"id\":\"2434\"}],\"label_text_color\":\"white\"},\"id\":\"2399\",\"type\":\"Legend\"},{\"attributes\":{},\"id\":\"2365\",\"type\":\"SaveTool\"},{\"attributes\":{},\"id\":\"2397\",\"type\":\"Selection\"},{\"attributes\":{\"tools\":[{\"id\":\"2362\"},{\"id\":\"2363\"},{\"id\":\"2364\"},{\"id\":\"2365\"},{\"id\":\"2366\"},{\"id\":\"2367\"}]},\"id\":\"2369\",\"type\":\"Toolbar\"},{\"attributes\":{},\"id\":\"2359\",\"type\":\"BasicTicker\"},{\"attributes\":{},\"id\":\"2367\",\"type\":\"HelpTool\"},{\"attributes\":{\"fields\":[]},\"id\":\"2377\",\"type\":\"Stack\"},{\"attributes\":{\"bottom\":{\"expr\":{\"id\":\"2377\"}},\"fill_alpha\":{\"value\":0.2},\"fill_color\":{\"value\":\"#fc4432\"},\"hatch_alpha\":{\"value\":0.2},\"hatch_color\":{\"value\":\"#fc4432\"},\"line_alpha\":{\"value\":0.2},\"line_color\":{\"value\":\"#fc4432\"},\"top\":{\"expr\":{\"id\":\"2378\"}},\"width\":{\"value\":0.7},\"x\":{\"field\":\"lap_number\"}},\"id\":\"2386\",\"type\":\"VBar\"},{\"attributes\":{},\"id\":\"2352\",\"type\":\"LinearScale\"}],\"root_ids\":[\"2343\"]},\"title\":\"Bokeh Application\",\"version\":\"2.4.2\"}};\n",
       "  const render_items = [{\"docid\":\"38f82c52-cde9-4c6d-8741-1d1d41089546\",\"root_ids\":[\"2343\"],\"roots\":{\"2343\":\"17649d27-cd26-43f4-a1a3-15cc33691ade\"}}];\n",
       "  root.Bokeh.embed.embed_items_notebook(docs_json, render_items);\n",
       "\n",
       "  }\n",
       "  if (root.Bokeh !== undefined) {\n",
       "    embed_document(root);\n",
       "  } else {\n",
       "    let attempts = 0;\n",
       "    const timer = setInterval(function(root) {\n",
       "      if (root.Bokeh !== undefined) {\n",
       "        clearInterval(timer);\n",
       "        embed_document(root);\n",
       "      } else {\n",
       "        attempts++;\n",
       "        if (attempts > 100) {\n",
       "          clearInterval(timer);\n",
       "          console.log(\"Bokeh: ERROR: Unable to run BokehJS code because BokehJS library is missing\");\n",
       "        }\n",
       "      }\n",
       "    }, 10, root)\n",
       "  }\n",
       "})(window);"
      ],
      "application/vnd.bokehjs_exec.v0+json": ""
     },
     "metadata": {
      "application/vnd.bokehjs_exec.v0+json": {
       "id": "2343"
      }
     },
     "output_type": "display_data"
    }
   ],
   "source": [
    "ff1_helpers.compare_tire_lap_times(miami_r_session, 'VER')\n",
    "ff1_helpers.compare_tire_lap_times(ad2021_race, 'VER')\n",
    "ff1_helpers.compare_tire_lap_times(session, 'VER')"
   ]
  },
  {
   "cell_type": "code",
   "execution_count": 12,
   "id": "02f2dd90-2928-43c2-bcf6-5f7175b88ae7",
   "metadata": {},
   "outputs": [
    {
     "data": {
      "text/html": [
       "\n",
       "\n",
       "\n",
       "\n",
       "\n",
       "\n",
       "  <div class=\"bk-root\" id=\"9c6595aa-76ef-47e8-8bd2-23ca792367ce\" data-root-id=\"2583\"></div>\n"
      ]
     },
     "metadata": {},
     "output_type": "display_data"
    },
    {
     "data": {
      "application/javascript": [
       "(function(root) {\n",
       "  function embed_document(root) {\n",
       "    \n",
       "  const docs_json = {\"fca8a8b1-f544-4f92-ba46-42719e662db7\":{\"defs\":[],\"roots\":{\"references\":[{\"attributes\":{\"below\":[{\"id\":\"2594\"}],\"center\":[{\"id\":\"2597\"},{\"id\":\"2601\"}],\"height\":392,\"left\":[{\"id\":\"2598\"}],\"outline_line_color\":null,\"renderers\":[{\"id\":\"2622\"},{\"id\":\"2628\"}],\"right\":[{\"id\":\"2630\"}],\"title\":{\"id\":\"2584\"},\"toolbar\":{\"id\":\"2609\"},\"width\":995,\"x_range\":{\"id\":\"2586\"},\"x_scale\":{\"id\":\"2590\"},\"y_range\":{\"id\":\"2588\"},\"y_scale\":{\"id\":\"2592\"}},\"id\":\"2583\",\"subtype\":\"Figure\",\"type\":\"Plot\"},{\"attributes\":{\"coordinates\":null,\"group\":null,\"text\":\"VER Lap track speeds\",\"text_color\":\"black\"},\"id\":\"2584\",\"type\":\"Title\"},{\"attributes\":{\"axis\":{\"id\":\"2594\"},\"coordinates\":null,\"group\":null,\"ticker\":null,\"visible\":false},\"id\":\"2597\",\"type\":\"Grid\"},{\"attributes\":{},\"id\":\"2605\",\"type\":\"SaveTool\"},{\"attributes\":{\"line_alpha\":0.1,\"line_color\":\"#ababab\",\"line_width\":10,\"x\":{\"field\":\"x\"},\"y\":{\"field\":\"y\"}},\"id\":\"2620\",\"type\":\"Line\"},{\"attributes\":{\"axis\":{\"id\":\"2598\"},\"coordinates\":null,\"dimension\":1,\"group\":null,\"ticker\":null,\"visible\":false},\"id\":\"2601\",\"type\":\"Grid\"},{\"attributes\":{},\"id\":\"2607\",\"type\":\"HelpTool\"},{\"attributes\":{\"line_alpha\":0.2,\"line_color\":\"#ababab\",\"line_width\":10,\"x\":{\"field\":\"x\"},\"y\":{\"field\":\"y\"}},\"id\":\"2621\",\"type\":\"Line\"},{\"attributes\":{\"background_fill_color\":null,\"color_mapper\":{\"id\":\"2617\"},\"coordinates\":null,\"group\":null,\"major_label_policy\":{\"id\":\"2733\"},\"title\":\"[km/h]\",\"title_standoff\":8,\"title_text_font_style\":\"normal\",\"width\":8},\"id\":\"2630\",\"type\":\"ColorBar\"},{\"attributes\":{},\"id\":\"2592\",\"type\":\"LinearScale\"},{\"attributes\":{\"coordinates\":null,\"data_source\":{\"id\":\"2616\"},\"glyph\":{\"id\":\"2619\"},\"group\":null,\"hover_glyph\":null,\"muted_glyph\":{\"id\":\"2621\"},\"nonselection_glyph\":{\"id\":\"2620\"},\"view\":{\"id\":\"2623\"}},\"id\":\"2622\",\"type\":\"GlyphRenderer\"},{\"attributes\":{},\"id\":\"2595\",\"type\":\"BasicTicker\"},{\"attributes\":{\"coordinates\":null,\"formatter\":{\"id\":\"2731\"},\"group\":null,\"major_label_policy\":{\"id\":\"2732\"},\"ticker\":{\"id\":\"2599\"},\"visible\":false},\"id\":\"2598\",\"type\":\"LinearAxis\"},{\"attributes\":{},\"id\":\"2606\",\"type\":\"ResetTool\"},{\"attributes\":{\"high\":311,\"low\":62,\"palette\":[\"#053061\",\"#2166ac\",\"#4393c3\",\"#92c5de\",\"#d1e5f0\",\"#f7f7f7\",\"#fddbc7\",\"#f4a582\",\"#d6604d\",\"#b2182b\",\"#67001f\"]},\"id\":\"2617\",\"type\":\"LinearColorMapper\"},{\"attributes\":{},\"id\":\"2738\",\"type\":\"Selection\"},{\"attributes\":{},\"id\":\"2737\",\"type\":\"UnionRenderers\"},{\"attributes\":{\"fill_color\":{\"field\":\"speed\",\"transform\":{\"id\":\"2617\"}},\"hatch_color\":{\"field\":\"speed\",\"transform\":{\"id\":\"2617\"}},\"line_color\":{\"field\":\"speed\",\"transform\":{\"id\":\"2617\"}},\"line_width\":{\"value\":4},\"x\":{\"field\":\"x\"},\"y\":{\"field\":\"y\"}},\"id\":\"2625\",\"type\":\"Circle\"},{\"attributes\":{},\"id\":\"2588\",\"type\":\"DataRange1d\"},{\"attributes\":{\"source\":{\"id\":\"2616\"}},\"id\":\"2629\",\"type\":\"CDSView\"},{\"attributes\":{\"coordinates\":null,\"formatter\":{\"id\":\"2735\"},\"group\":null,\"major_label_policy\":{\"id\":\"2736\"},\"ticker\":{\"id\":\"2595\"},\"visible\":false},\"id\":\"2594\",\"type\":\"LinearAxis\"},{\"attributes\":{\"overlay\":{\"id\":\"2608\"}},\"id\":\"2604\",\"type\":\"BoxZoomTool\"},{\"attributes\":{},\"id\":\"2735\",\"type\":\"BasicTickFormatter\"},{\"attributes\":{},\"id\":\"2736\",\"type\":\"AllLabels\"},{\"attributes\":{\"bottom_units\":\"screen\",\"coordinates\":null,\"fill_alpha\":0.5,\"fill_color\":\"lightgrey\",\"group\":null,\"left_units\":\"screen\",\"level\":\"overlay\",\"line_alpha\":1.0,\"line_color\":\"black\",\"line_dash\":[4,4],\"line_width\":2,\"right_units\":\"screen\",\"syncable\":false,\"top_units\":\"screen\"},\"id\":\"2608\",\"type\":\"BoxAnnotation\"},{\"attributes\":{\"line_color\":\"#ababab\",\"line_width\":10,\"x\":{\"field\":\"x\"},\"y\":{\"field\":\"y\"}},\"id\":\"2619\",\"type\":\"Line\"},{\"attributes\":{},\"id\":\"2602\",\"type\":\"PanTool\"},{\"attributes\":{},\"id\":\"2586\",\"type\":\"DataRange1d\"},{\"attributes\":{\"tools\":[{\"id\":\"2602\"},{\"id\":\"2603\"},{\"id\":\"2604\"},{\"id\":\"2605\"},{\"id\":\"2606\"},{\"id\":\"2607\"}]},\"id\":\"2609\",\"type\":\"Toolbar\"},{\"attributes\":{\"fill_alpha\":{\"value\":0.2},\"fill_color\":{\"field\":\"speed\",\"transform\":{\"id\":\"2617\"}},\"hatch_alpha\":{\"value\":0.2},\"hatch_color\":{\"field\":\"speed\",\"transform\":{\"id\":\"2617\"}},\"line_alpha\":{\"value\":0.2},\"line_color\":{\"field\":\"speed\",\"transform\":{\"id\":\"2617\"}},\"line_width\":{\"value\":4},\"x\":{\"field\":\"x\"},\"y\":{\"field\":\"y\"}},\"id\":\"2627\",\"type\":\"Circle\"},{\"attributes\":{},\"id\":\"2732\",\"type\":\"AllLabels\"},{\"attributes\":{},\"id\":\"2731\",\"type\":\"BasicTickFormatter\"},{\"attributes\":{},\"id\":\"2603\",\"type\":\"WheelZoomTool\"},{\"attributes\":{\"coordinates\":null,\"data_source\":{\"id\":\"2616\"},\"glyph\":{\"id\":\"2625\"},\"group\":null,\"hover_glyph\":null,\"muted_glyph\":{\"id\":\"2627\"},\"nonselection_glyph\":{\"id\":\"2626\"},\"view\":{\"id\":\"2629\"}},\"id\":\"2628\",\"type\":\"GlyphRenderer\"},{\"attributes\":{},\"id\":\"2599\",\"type\":\"BasicTicker\"},{\"attributes\":{},\"id\":\"2733\",\"type\":\"NoOverlap\"},{\"attributes\":{\"data\":{\"speed\":[283,284,285,287,289,292,295,297,299,301,301,302,302,302,303,303,303,304,304,304,304,277,251,225,213,202,191,179,168,157,141,135,129,124,120,115,110,105,99,93,84,82,80,81,82,83,84,86,88,89,91,96,102,105,109,114,119,125,125,125,124,123,124,125,126,127,129,133,137,144,148,152,156,160,165,170,170,171,172,178,178,178,181,184,188,192,197,200,203,207,211,215,220,222,224,226,228,230,231,233,235,237,239,242,244,247,248,249,252,253,254,256,259,262,263,264,265,267,268,269,271,273,273,273,273,274,275,275,276,277,278,279,279,280,281,274,268,261,255,252,249,246,244,240,236,236,236,236,236,236,237,237,237,237,228,219,215,211,206,204,202,201,200,199,198,197,200,200,201,203,206,209,210,211,212,210,208,206,205,205,205,204,204,204,206,208,211,211,212,201,190,182,179,176,173,162,158,155,151,147,141,136,134,133,130,128,127,126,125,125,126,127,128,128,129,129,129,129,132,135,139,143,154,158,162,172,183,185,187,191,195,199,202,205,208,213,219,228,229,230,231,233,240,240,241,243,245,247,247,248,249,255,257,259,261,262,263,267,268,270,272,274,276,278,280,280,280,281,283,285,285,286,287,288,289,290,290,291,292,292,292,293,293,294,294,295,296,297,298,298,298,298,299,299,300,300,301,301,302,302,302,302,303,303,304,304,304,305,305,305,305,305,306,306,306,306,306,306,306,307,307,307,308,308,308,309,310,309,309,309,309,310,310,311,310,309,311,311,311,311,311,311,311,311,311,309,307,299,291,284,258,232,207,196,186,176,167,157,148,142,136,131,123,116,112,109,104,99,97,95,93,91,89,86,83,82,82,83,84,85,86,87,88,89,90,98,102,106,110,114,114,114,114,112,110,109,106,104,103,101,100,99,99,97,96,95,95,95,95,96,97,99,100,102,108,112,116,120,125,127,130,137,144,147,151,160,162,164,164,164,157,151,146,142,137,132,127,122,117,111,107,103,99,95,90,85,82,80,78,76,72,72,72,70,69,75,73,72,71,70,71,72,73,79,81,83,88,93,98,104,105,106,107,103,100,97,94,92,90,85,80,76,73,70,70,70,70,71,73,75,77,80,84,89,95,101,105,110,115,120,125,130,135,141,151,161,163,165,165,165,173,181,185,190,195,197,200,203,207,212,215,218,222,226,228,230,233,236,243,245,248,252,253,255,257,260,262,264,265,267,268,269,271,271,272,273,276,276,276,278,281,283,285,285,286,286,287,289,290,291,292,292,293,294,294,295,295,296,297,298,298,299,299,300,300,301,301,302,303,303,304,305,305,306,306,306,307,307,308,308,309,310,311,311,311,310,310,310,310,310,310,309,309,308,308,308,308,308,308,308,307,307,306,306,306,306,306,305,305,305,298,292,266,251,237,225,213,196,179,171,155,140,130,120,117,115,102,97,93,90,87,84,81,78,75,73,71,68,65,64,63,62,63,64,66,68,70,72,75,78,79,80,85,91,94,97,104,111,114,118,132,134,136,146,156,159,163,171,174,178,182,186,190,194,195,197,203,210,213,216,219,220,222,225,228,230,232,235,239,242,245,247,249,251,254,256,259,260,262,262,263,264,265,266,267,268,269,271,271,272,272,273,273],\"x\":[1880,1938,1979,2265,2281,2403,2562,2739,2838,2932,2980,3049,3308,3354,3392,3439,3455,3595,3650,3765,3829,3915,4466,4491,4551,4574,4649,4696,4747,4768,4832,4838,4926,4965,4972,4978,5010,5011,5004,5002,4968,4964,4927,4897,4877,4855,4851,4839,4806,4765,4756,4726,4715,4665,4663,4638,4568,4565,4507,4472,4464,4454,4452,4430,4425,4415,4413,4414,4414,4414,4414,4410,4407,4397,4391,4374,4371,4355,4345,4271,4253,4231,4204,4172,4096,4054,4026,3926,3857,3747,3697,3671,3485,3477,3380,3344,3265,3237,3087,3055,2956,2924,2903,2739,2715,2535,2511,2432,2361,2269,2097,2060,1890,1862,1764,1759,1650,1559,1512,1309,1304,1195,1143,1101,1002,912,892,717,692,450,421,343,292,241,51,21,-260,-276,-347,-385,-488,-582,-671,-831,-917,-957,-991,-1026,-1089,-1151,-1193,-1288,-1436,-1441,-1580,-1623,-1759,-1846,-1895,-1931,-2116,-2132,-2197,-2254,-2314,-2336,-2422,-2444,-2518,-2532,-2612,-2679,-2702,-2762,-2782,-2882,-2961,-2995,-3099,-3142,-3167,-3281,-3299,-3390,-3400,-3611,-3703,-3764,-3777,-3932,-3997,-4052,-4058,-4157,-4176,-4259,-4274,-4297,-4332,-4340,-4353,-4362,-4366,-4368,-4369,-4368,-4362,-4359,-4333,-4332,-4319,-4303,-4287,-4269,-4248,-4189,-4099,-4095,-4037,-3958,-3862,-3833,-3708,-3665,-3639,-3555,-3487,-3341,-3313,-3252,-3246,-3071,-3023,-2814,-2795,-2616,-2605,-2449,-2424,-2311,-2214,-2161,-2064,-2047,-1963,-1927,-1818,-1743,-1693,-1526,-1491,-1318,-1299,-1141,-1102,-926,-867,-717,-664,-407,-372,-240,-151,52,172,238,255,411,568,668,758,899,983,1024,1242,1368,1529,1555,1665,1726,1806,1856,1898,2087,2122,2310,2384,2531,2564,2675,2793,2933,2955,3063,3118,3228,3418,3444,3615,3628,3801,3863,4094,4184,4287,4386,4494,4655,4729,4913,4948,5078,5150,5243,5314,5520,5541,5666,5812,5867,5996,6006,6181,6200,6411,6502,6679,6688,6827,6882,7005,7198,7261,7503,7540,7660,7714,7778,7811,7920,8061,8109,8373,8457,8552,8591,8679,8728,8976,8982,9059,9116,9207,9214,9297,9311,9403,9461,9469,9523,9557,9562,9590,9609,9633,9644,9666,9674,9678,9680,9673,9672,9640,9614,9601,9584,9580,9553,9537,9511,9509,9466,9464,9407,9400,9348,9336,9319,9312,9267,9260,9212,9210,9179,9157,9147,9129,9129,9122,9122,9123,9124,9128,9137,9142,9151,9160,9210,9213,9259,9278,9299,9384,9385,9483,9498,9545,9617,9640,9645,9754,9811,9868,9958,9973,10043,10067,10127,10182,10234,10300,10349,10361,10424,10433,10469,10480,10504,10509,10526,10533,10542,10546,10552,10553,10554,10554,10542,10535,10520,10481,10476,10454,10415,10412,10398,10397,10398,10398,10403,10406,10414,10415,10425,10428,10438,10445,10451,10452,10470,10471,10484,10486,10492,10500,10503,10506,10510,10510,10506,10503,10490,10481,10464,10456,10417,10392,10379,10337,10331,10286,10280,10250,10225,10159,10101,10098,10044,10011,9995,9935,9910,9852,9832,9787,9679,9630,9572,9530,9497,9453,9417,9325,9229,9224,9147,9097,8974,8900,8850,8841,8777,8670,8547,8430,8360,8142,8136,7919,7829,7722,7610,7569,7503,7441,7336,7296,7137,7099,6932,6906,6699,6649,6639,6518,6403,6212,6181,6081,5917,5912,5761,5752,5538,5511,5424,5362,5317,5183,5105,4952,4910,4763,4756,4617,4528,4436,4364,4255,4199,4106,4067,3874,3868,3724,3601,3591,3440,3400,3265,3171,3066,2951,2810,2799,2612,2538,2416,2305,2159,1969,1789,1703,1599,1472,1443,1253,1227,856,822,628,479,415,306,188,81,-68,-143,-154,-314,-342,-488,-597,-707,-747,-883,-959,-1101,-1253,-1468,-1500,-1613,-1755,-1802,-1838,-1895,-1897,-2023,-2026,-2101,-2133,-2237,-2250,-2358,-2381,-2402,-2427,-2449,-2477,-2485,-2517,-2520,-2552,-2561,-2575,-2601,-2605,-2612,-2613,-2611,-2611,-2604,-2604,-2595,-2588,-2576,-2570,-2546,-2526,-2510,-2496,-2491,-2464,-2433,-2422,-2320,-2317,-2248,-2195,-2188,-2140,-2105,-2082,-2063,-1933,-1928,-1856,-1796,-1774,-1706,-1670,-1588,-1460,-1423,-1296,-1291,-1148,-1093,-983,-881,-844,-767,-751,-603,-590,-573,-450,-278,-242,-28,-4,122,148,348,355,531,650,687,861,885,1024,1083,1175,1194,1315,1415,1435,1563,1642,1687,1746,1763,1778],\"y\":[101,64,38,-141,-151,-228,-328,-439,-501,-561,-590,-632,-788,-816,-839,-867,-877,-960,-992,-1057,-1091,-1137,-1426,-1439,-1471,-1483,-1521,-1548,-1581,-1595,-1642,-1647,-1718,-1750,-1772,-1787,-1888,-1897,-1980,-1985,-2066,-2073,-2123,-2160,-2181,-2206,-2210,-2223,-2257,-2300,-2309,-2339,-2350,-2402,-2403,-2430,-2514,-2517,-2607,-2670,-2694,-2720,-2728,-2802,-2834,-2934,-2962,-3003,-3011,-3092,-3124,-3177,-3218,-3290,-3320,-3394,-3409,-3464,-3489,-3648,-3683,-3719,-3753,-3788,-3867,-3902,-3923,-3993,-4032,-4090,-4114,-4125,-4193,-4196,-4222,-4230,-4247,-4251,-4272,-4274,-4280,-4280,-4281,-4276,-4274,-4248,-4245,-4230,-4211,-4178,-4108,-4092,-4001,-3985,-3926,-3923,-3855,-3798,-3768,-3638,-3635,-3566,-3533,-3506,-3442,-3385,-3372,-3259,-3243,-3091,-3073,-3024,-2992,-2960,-2842,-2824,-2674,-2667,-2640,-2630,-2604,-2599,-2605,-2629,-2650,-2673,-2690,-2707,-2743,-2784,-2815,-2891,-3010,-3014,-3099,-3115,-3160,-3188,-3183,-3179,-3156,-3153,-3125,-3092,-3057,-3041,-2968,-2948,-2870,-2857,-2773,-2702,-2681,-2625,-2607,-2536,-2493,-2477,-2442,-2432,-2427,-2419,-2420,-2429,-2431,-2489,-2518,-2550,-2557,-2647,-2692,-2748,-2754,-2871,-2897,-3035,-3064,-3118,-3221,-3250,-3305,-3366,-3402,-3442,-3496,-3498,-3573,-3585,-3694,-3696,-3734,-3764,-3788,-3817,-3845,-3893,-3932,-3933,-3950,-3936,-3916,-3909,-3881,-3872,-3866,-3856,-3851,-3844,-3843,-3846,-3847,-3862,-3871,-3931,-3936,-3996,-3999,-4049,-4057,-4091,-4120,-4134,-4154,-4157,-4166,-4170,-4174,-4172,-4171,-4160,-4157,-4142,-4141,-4127,-4124,-4112,-4108,-4103,-4103,-4099,-4098,-4097,-4095,-4093,-4091,-4091,-4090,-4089,-4089,-4090,-4094,-4107,-4118,-4125,-4177,-4217,-4272,-4280,-4319,-4341,-4370,-4387,-4402,-4466,-4477,-4536,-4559,-4602,-4611,-4641,-4671,-4703,-4707,-4728,-4737,-4754,-4775,-4778,-4789,-4790,-4793,-4794,-4786,-4782,-4775,-4766,-4754,-4733,-4724,-4692,-4684,-4656,-4638,-4614,-4594,-4531,-4523,-4483,-4434,-4414,-4371,-4368,-4309,-4303,-4231,-4199,-4140,-4137,-4090,-4070,-4027,-3956,-3932,-3834,-3819,-3768,-3743,-3715,-3700,-3652,-3587,-3563,-3439,-3398,-3353,-3335,-3291,-3267,-3137,-3133,-3091,-3057,-3004,-3001,-2948,-2940,-2876,-2829,-2821,-2772,-2736,-2729,-2695,-2666,-2627,-2606,-2550,-2505,-2478,-2452,-2434,-2432,-2374,-2329,-2310,-2294,-2290,-2264,-2248,-2224,-2223,-2187,-2185,-2140,-2135,-2091,-2080,-2064,-2058,-2012,-2005,-1947,-1945,-1895,-1852,-1828,-1772,-1769,-1728,-1724,-1630,-1619,-1585,-1557,-1545,-1516,-1496,-1404,-1401,-1345,-1329,-1310,-1257,-1256,-1221,-1218,-1209,-1203,-1201,-1201,-1198,-1198,-1196,-1189,-1186,-1171,-1164,-1142,-1112,-1075,-1026,-979,-964,-884,-874,-821,-802,-760,-748,-711,-693,-658,-644,-607,-604,-539,-532,-487,-472,-451,-414,-409,-390,-357,-353,-320,-312,-262,-255,-217,-197,-145,-137,-86,-76,-25,7,40,43,127,131,195,208,235,285,306,332,429,430,465,477,513,535,559,569,603,618,624,641,642,654,655,661,664,670,671,671,669,668,667,665,664,665,665,666,666,667,669,671,672,675,676,680,682,682,683,684,684,685,685,686,686,688,689,691,691,695,695,698,700,701,702,703,704,705,706,707,709,710,713,714,721,722,723,728,733,742,744,748,752,752,755,755,757,757,758,761,762,767,771,778,781,789,789,797,801,806,809,816,818,824,826,837,837,845,851,852,860,862,869,874,879,885,889,890,895,896,899,901,904,907,911,912,914,916,917,921,921,928,929,932,935,936,938,941,943,946,946,947,950,951,953,956,959,961,968,973,984,998,1021,1025,1036,1050,1055,1058,1064,1064,1075,1075,1079,1080,1077,1077,1063,1060,1055,1049,1043,1032,1029,1009,1008,981,970,952,899,881,844,831,806,805,766,764,737,719,692,682,648,622,604,590,586,562,537,528,460,458,421,396,392,367,349,337,328,261,259,226,204,198,182,176,168,167,169,184,184,220,239,281,322,337,369,375,434,439,446,491,549,559,602,605,617,618,624,623,621,608,602,564,558,513,489,452,443,396,368,361,293,248,221,188,177,166]},\"selected\":{\"id\":\"2738\"},\"selection_policy\":{\"id\":\"2737\"}},\"id\":\"2616\",\"type\":\"ColumnDataSource\"},{\"attributes\":{\"source\":{\"id\":\"2616\"}},\"id\":\"2623\",\"type\":\"CDSView\"},{\"attributes\":{},\"id\":\"2590\",\"type\":\"LinearScale\"},{\"attributes\":{\"fill_alpha\":{\"value\":0.1},\"fill_color\":{\"field\":\"speed\",\"transform\":{\"id\":\"2617\"}},\"hatch_alpha\":{\"value\":0.1},\"hatch_color\":{\"field\":\"speed\",\"transform\":{\"id\":\"2617\"}},\"line_alpha\":{\"value\":0.1},\"line_color\":{\"field\":\"speed\",\"transform\":{\"id\":\"2617\"}},\"line_width\":{\"value\":4},\"x\":{\"field\":\"x\"},\"y\":{\"field\":\"y\"}},\"id\":\"2626\",\"type\":\"Circle\"}],\"root_ids\":[\"2583\"]},\"title\":\"Bokeh Application\",\"version\":\"2.4.2\"}};\n",
       "  const render_items = [{\"docid\":\"fca8a8b1-f544-4f92-ba46-42719e662db7\",\"root_ids\":[\"2583\"],\"roots\":{\"2583\":\"9c6595aa-76ef-47e8-8bd2-23ca792367ce\"}}];\n",
       "  root.Bokeh.embed.embed_items_notebook(docs_json, render_items);\n",
       "\n",
       "  }\n",
       "  if (root.Bokeh !== undefined) {\n",
       "    embed_document(root);\n",
       "  } else {\n",
       "    let attempts = 0;\n",
       "    const timer = setInterval(function(root) {\n",
       "      if (root.Bokeh !== undefined) {\n",
       "        clearInterval(timer);\n",
       "        embed_document(root);\n",
       "      } else {\n",
       "        attempts++;\n",
       "        if (attempts > 100) {\n",
       "          clearInterval(timer);\n",
       "          console.log(\"Bokeh: ERROR: Unable to run BokehJS code because BokehJS library is missing\");\n",
       "        }\n",
       "      }\n",
       "    }, 10, root)\n",
       "  }\n",
       "})(window);"
      ],
      "application/vnd.bokehjs_exec.v0+json": ""
     },
     "metadata": {
      "application/vnd.bokehjs_exec.v0+json": {
       "id": "2583"
      }
     },
     "output_type": "display_data"
    }
   ],
   "source": [
    "ff1_helpers.driver_speed_over_lap(miami_r_session, 'VER', 9)\n",
    "# ff1_helpers.compare_driver_speed_over_lap(miami_r_session, 'VER', 'LEC', 9)"
   ]
  },
  {
   "cell_type": "code",
   "execution_count": null,
   "id": "ff7b2675-8a13-45f2-87d9-8747f1894cc2",
   "metadata": {},
   "outputs": [],
   "source": []
  }
 ],
 "metadata": {
  "kernelspec": {
   "display_name": "f1",
   "language": "python",
   "name": "f1"
  },
  "language_info": {
   "codemirror_mode": {
    "name": "ipython",
    "version": 3
   },
   "file_extension": ".py",
   "mimetype": "text/x-python",
   "name": "python",
   "nbconvert_exporter": "python",
   "pygments_lexer": "ipython3",
   "version": "3.10.2"
  }
 },
 "nbformat": 4,
 "nbformat_minor": 5
}
