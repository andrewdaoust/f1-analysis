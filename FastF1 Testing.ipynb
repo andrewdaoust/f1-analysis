{
 "cells": [
  {
   "cell_type": "code",
   "execution_count": 2,
   "id": "3b4cb6c1-c310-48ae-998a-8a7d63c3c131",
   "metadata": {},
   "outputs": [],
   "source": [
    "%load_ext autoreload\n",
    "%autoreload 2"
   ]
  },
  {
   "cell_type": "code",
   "execution_count": 6,
   "id": "04718dbc-d6fa-4840-9cb4-6f1ec2703646",
   "metadata": {},
   "outputs": [
    {
     "data": {
      "text/html": [
       "\n",
       "    <div class=\"bk-root\">\n",
       "        <a href=\"https://bokeh.org\" target=\"_blank\" class=\"bk-logo bk-logo-small bk-logo-notebook\"></a>\n",
       "        <span id=\"1002\">Loading BokehJS ...</span>\n",
       "    </div>"
      ]
     },
     "metadata": {},
     "output_type": "display_data"
    },
    {
     "data": {
      "application/javascript": [
       "\n",
       "(function(root) {\n",
       "  function now() {\n",
       "    return new Date();\n",
       "  }\n",
       "\n",
       "  const force = true;\n",
       "\n",
       "  if (typeof root._bokeh_onload_callbacks === \"undefined\" || force === true) {\n",
       "    root._bokeh_onload_callbacks = [];\n",
       "    root._bokeh_is_loading = undefined;\n",
       "  }\n",
       "\n",
       "  const JS_MIME_TYPE = 'application/javascript';\n",
       "  const HTML_MIME_TYPE = 'text/html';\n",
       "  const EXEC_MIME_TYPE = 'application/vnd.bokehjs_exec.v0+json';\n",
       "  const CLASS_NAME = 'output_bokeh rendered_html';\n",
       "\n",
       "  /**\n",
       "   * Render data to the DOM node\n",
       "   */\n",
       "  function render(props, node) {\n",
       "    const script = document.createElement(\"script\");\n",
       "    node.appendChild(script);\n",
       "  }\n",
       "\n",
       "  /**\n",
       "   * Handle when an output is cleared or removed\n",
       "   */\n",
       "  function handleClearOutput(event, handle) {\n",
       "    const cell = handle.cell;\n",
       "\n",
       "    const id = cell.output_area._bokeh_element_id;\n",
       "    const server_id = cell.output_area._bokeh_server_id;\n",
       "    // Clean up Bokeh references\n",
       "    if (id != null && id in Bokeh.index) {\n",
       "      Bokeh.index[id].model.document.clear();\n",
       "      delete Bokeh.index[id];\n",
       "    }\n",
       "\n",
       "    if (server_id !== undefined) {\n",
       "      // Clean up Bokeh references\n",
       "      const cmd_clean = \"from bokeh.io.state import curstate; print(curstate().uuid_to_server['\" + server_id + \"'].get_sessions()[0].document.roots[0]._id)\";\n",
       "      cell.notebook.kernel.execute(cmd_clean, {\n",
       "        iopub: {\n",
       "          output: function(msg) {\n",
       "            const id = msg.content.text.trim();\n",
       "            if (id in Bokeh.index) {\n",
       "              Bokeh.index[id].model.document.clear();\n",
       "              delete Bokeh.index[id];\n",
       "            }\n",
       "          }\n",
       "        }\n",
       "      });\n",
       "      // Destroy server and session\n",
       "      const cmd_destroy = \"import bokeh.io.notebook as ion; ion.destroy_server('\" + server_id + \"')\";\n",
       "      cell.notebook.kernel.execute(cmd_destroy);\n",
       "    }\n",
       "  }\n",
       "\n",
       "  /**\n",
       "   * Handle when a new output is added\n",
       "   */\n",
       "  function handleAddOutput(event, handle) {\n",
       "    const output_area = handle.output_area;\n",
       "    const output = handle.output;\n",
       "\n",
       "    // limit handleAddOutput to display_data with EXEC_MIME_TYPE content only\n",
       "    if ((output.output_type != \"display_data\") || (!Object.prototype.hasOwnProperty.call(output.data, EXEC_MIME_TYPE))) {\n",
       "      return\n",
       "    }\n",
       "\n",
       "    const toinsert = output_area.element.find(\".\" + CLASS_NAME.split(' ')[0]);\n",
       "\n",
       "    if (output.metadata[EXEC_MIME_TYPE][\"id\"] !== undefined) {\n",
       "      toinsert[toinsert.length - 1].firstChild.textContent = output.data[JS_MIME_TYPE];\n",
       "      // store reference to embed id on output_area\n",
       "      output_area._bokeh_element_id = output.metadata[EXEC_MIME_TYPE][\"id\"];\n",
       "    }\n",
       "    if (output.metadata[EXEC_MIME_TYPE][\"server_id\"] !== undefined) {\n",
       "      const bk_div = document.createElement(\"div\");\n",
       "      bk_div.innerHTML = output.data[HTML_MIME_TYPE];\n",
       "      const script_attrs = bk_div.children[0].attributes;\n",
       "      for (let i = 0; i < script_attrs.length; i++) {\n",
       "        toinsert[toinsert.length - 1].firstChild.setAttribute(script_attrs[i].name, script_attrs[i].value);\n",
       "        toinsert[toinsert.length - 1].firstChild.textContent = bk_div.children[0].textContent\n",
       "      }\n",
       "      // store reference to server id on output_area\n",
       "      output_area._bokeh_server_id = output.metadata[EXEC_MIME_TYPE][\"server_id\"];\n",
       "    }\n",
       "  }\n",
       "\n",
       "  function register_renderer(events, OutputArea) {\n",
       "\n",
       "    function append_mime(data, metadata, element) {\n",
       "      // create a DOM node to render to\n",
       "      const toinsert = this.create_output_subarea(\n",
       "        metadata,\n",
       "        CLASS_NAME,\n",
       "        EXEC_MIME_TYPE\n",
       "      );\n",
       "      this.keyboard_manager.register_events(toinsert);\n",
       "      // Render to node\n",
       "      const props = {data: data, metadata: metadata[EXEC_MIME_TYPE]};\n",
       "      render(props, toinsert[toinsert.length - 1]);\n",
       "      element.append(toinsert);\n",
       "      return toinsert\n",
       "    }\n",
       "\n",
       "    /* Handle when an output is cleared or removed */\n",
       "    events.on('clear_output.CodeCell', handleClearOutput);\n",
       "    events.on('delete.Cell', handleClearOutput);\n",
       "\n",
       "    /* Handle when a new output is added */\n",
       "    events.on('output_added.OutputArea', handleAddOutput);\n",
       "\n",
       "    /**\n",
       "     * Register the mime type and append_mime function with output_area\n",
       "     */\n",
       "    OutputArea.prototype.register_mime_type(EXEC_MIME_TYPE, append_mime, {\n",
       "      /* Is output safe? */\n",
       "      safe: true,\n",
       "      /* Index of renderer in `output_area.display_order` */\n",
       "      index: 0\n",
       "    });\n",
       "  }\n",
       "\n",
       "  // register the mime type if in Jupyter Notebook environment and previously unregistered\n",
       "  if (root.Jupyter !== undefined) {\n",
       "    const events = require('base/js/events');\n",
       "    const OutputArea = require('notebook/js/outputarea').OutputArea;\n",
       "\n",
       "    if (OutputArea.prototype.mime_types().indexOf(EXEC_MIME_TYPE) == -1) {\n",
       "      register_renderer(events, OutputArea);\n",
       "    }\n",
       "  }\n",
       "\n",
       "  \n",
       "  if (typeof (root._bokeh_timeout) === \"undefined\" || force === true) {\n",
       "    root._bokeh_timeout = Date.now() + 5000;\n",
       "    root._bokeh_failed_load = false;\n",
       "  }\n",
       "\n",
       "  const NB_LOAD_WARNING = {'data': {'text/html':\n",
       "     \"<div style='background-color: #fdd'>\\n\"+\n",
       "     \"<p>\\n\"+\n",
       "     \"BokehJS does not appear to have successfully loaded. If loading BokehJS from CDN, this \\n\"+\n",
       "     \"may be due to a slow or bad network connection. Possible fixes:\\n\"+\n",
       "     \"</p>\\n\"+\n",
       "     \"<ul>\\n\"+\n",
       "     \"<li>re-rerun `output_notebook()` to attempt to load from CDN again, or</li>\\n\"+\n",
       "     \"<li>use INLINE resources instead, as so:</li>\\n\"+\n",
       "     \"</ul>\\n\"+\n",
       "     \"<code>\\n\"+\n",
       "     \"from bokeh.resources import INLINE\\n\"+\n",
       "     \"output_notebook(resources=INLINE)\\n\"+\n",
       "     \"</code>\\n\"+\n",
       "     \"</div>\"}};\n",
       "\n",
       "  function display_loaded() {\n",
       "    const el = document.getElementById(\"1002\");\n",
       "    if (el != null) {\n",
       "      el.textContent = \"BokehJS is loading...\";\n",
       "    }\n",
       "    if (root.Bokeh !== undefined) {\n",
       "      if (el != null) {\n",
       "        el.textContent = \"BokehJS \" + root.Bokeh.version + \" successfully loaded.\";\n",
       "      }\n",
       "    } else if (Date.now() < root._bokeh_timeout) {\n",
       "      setTimeout(display_loaded, 100)\n",
       "    }\n",
       "  }\n",
       "\n",
       "\n",
       "  function run_callbacks() {\n",
       "    try {\n",
       "      root._bokeh_onload_callbacks.forEach(function(callback) {\n",
       "        if (callback != null)\n",
       "          callback();\n",
       "      });\n",
       "    } finally {\n",
       "      delete root._bokeh_onload_callbacks\n",
       "    }\n",
       "    console.debug(\"Bokeh: all callbacks have finished\");\n",
       "  }\n",
       "\n",
       "  function load_libs(css_urls, js_urls, callback) {\n",
       "    if (css_urls == null) css_urls = [];\n",
       "    if (js_urls == null) js_urls = [];\n",
       "\n",
       "    root._bokeh_onload_callbacks.push(callback);\n",
       "    if (root._bokeh_is_loading > 0) {\n",
       "      console.debug(\"Bokeh: BokehJS is being loaded, scheduling callback at\", now());\n",
       "      return null;\n",
       "    }\n",
       "    if (js_urls == null || js_urls.length === 0) {\n",
       "      run_callbacks();\n",
       "      return null;\n",
       "    }\n",
       "    console.debug(\"Bokeh: BokehJS not loaded, scheduling load and callback at\", now());\n",
       "    root._bokeh_is_loading = css_urls.length + js_urls.length;\n",
       "\n",
       "    function on_load() {\n",
       "      root._bokeh_is_loading--;\n",
       "      if (root._bokeh_is_loading === 0) {\n",
       "        console.debug(\"Bokeh: all BokehJS libraries/stylesheets loaded\");\n",
       "        run_callbacks()\n",
       "      }\n",
       "    }\n",
       "\n",
       "    function on_error(url) {\n",
       "      console.error(\"failed to load \" + url);\n",
       "    }\n",
       "\n",
       "    for (let i = 0; i < css_urls.length; i++) {\n",
       "      const url = css_urls[i];\n",
       "      const element = document.createElement(\"link\");\n",
       "      element.onload = on_load;\n",
       "      element.onerror = on_error.bind(null, url);\n",
       "      element.rel = \"stylesheet\";\n",
       "      element.type = \"text/css\";\n",
       "      element.href = url;\n",
       "      console.debug(\"Bokeh: injecting link tag for BokehJS stylesheet: \", url);\n",
       "      document.body.appendChild(element);\n",
       "    }\n",
       "\n",
       "    for (let i = 0; i < js_urls.length; i++) {\n",
       "      const url = js_urls[i];\n",
       "      const element = document.createElement('script');\n",
       "      element.onload = on_load;\n",
       "      element.onerror = on_error.bind(null, url);\n",
       "      element.async = false;\n",
       "      element.src = url;\n",
       "      console.debug(\"Bokeh: injecting script tag for BokehJS library: \", url);\n",
       "      document.head.appendChild(element);\n",
       "    }\n",
       "  };\n",
       "\n",
       "  function inject_raw_css(css) {\n",
       "    const element = document.createElement(\"style\");\n",
       "    element.appendChild(document.createTextNode(css));\n",
       "    document.body.appendChild(element);\n",
       "  }\n",
       "\n",
       "  \n",
       "  const js_urls = [\"https://cdn.bokeh.org/bokeh/release/bokeh-2.4.2.min.js\", \"https://cdn.bokeh.org/bokeh/release/bokeh-gl-2.4.2.min.js\", \"https://cdn.bokeh.org/bokeh/release/bokeh-widgets-2.4.2.min.js\", \"https://cdn.bokeh.org/bokeh/release/bokeh-tables-2.4.2.min.js\", \"https://cdn.bokeh.org/bokeh/release/bokeh-mathjax-2.4.2.min.js\"];\n",
       "  const css_urls = [];\n",
       "  \n",
       "\n",
       "  const inline_js = [\n",
       "    function(Bokeh) {\n",
       "      Bokeh.set_log_level(\"info\");\n",
       "    },\n",
       "    function(Bokeh) {\n",
       "    \n",
       "    \n",
       "    }\n",
       "  ];\n",
       "\n",
       "  function run_inline_js() {\n",
       "    \n",
       "    if (root.Bokeh !== undefined || force === true) {\n",
       "      \n",
       "    for (let i = 0; i < inline_js.length; i++) {\n",
       "      inline_js[i].call(root, root.Bokeh);\n",
       "    }\n",
       "    if (force === true) {\n",
       "        display_loaded();\n",
       "      }} else if (Date.now() < root._bokeh_timeout) {\n",
       "      setTimeout(run_inline_js, 100);\n",
       "    } else if (!root._bokeh_failed_load) {\n",
       "      console.log(\"Bokeh: BokehJS failed to load within specified timeout.\");\n",
       "      root._bokeh_failed_load = true;\n",
       "    } else if (force !== true) {\n",
       "      const cell = $(document.getElementById(\"1002\")).parents('.cell').data().cell;\n",
       "      cell.output_area.append_execute_result(NB_LOAD_WARNING)\n",
       "    }\n",
       "\n",
       "  }\n",
       "\n",
       "  if (root._bokeh_is_loading === 0) {\n",
       "    console.debug(\"Bokeh: BokehJS loaded, going straight to plotting\");\n",
       "    run_inline_js();\n",
       "  } else {\n",
       "    load_libs(css_urls, js_urls, function() {\n",
       "      console.debug(\"Bokeh: BokehJS plotting callback run at\", now());\n",
       "      run_inline_js();\n",
       "    });\n",
       "  }\n",
       "}(window));"
      ],
      "application/vnd.bokehjs_load.v0+json": "\n(function(root) {\n  function now() {\n    return new Date();\n  }\n\n  const force = true;\n\n  if (typeof root._bokeh_onload_callbacks === \"undefined\" || force === true) {\n    root._bokeh_onload_callbacks = [];\n    root._bokeh_is_loading = undefined;\n  }\n\n  \n\n  \n  if (typeof (root._bokeh_timeout) === \"undefined\" || force === true) {\n    root._bokeh_timeout = Date.now() + 5000;\n    root._bokeh_failed_load = false;\n  }\n\n  const NB_LOAD_WARNING = {'data': {'text/html':\n     \"<div style='background-color: #fdd'>\\n\"+\n     \"<p>\\n\"+\n     \"BokehJS does not appear to have successfully loaded. If loading BokehJS from CDN, this \\n\"+\n     \"may be due to a slow or bad network connection. Possible fixes:\\n\"+\n     \"</p>\\n\"+\n     \"<ul>\\n\"+\n     \"<li>re-rerun `output_notebook()` to attempt to load from CDN again, or</li>\\n\"+\n     \"<li>use INLINE resources instead, as so:</li>\\n\"+\n     \"</ul>\\n\"+\n     \"<code>\\n\"+\n     \"from bokeh.resources import INLINE\\n\"+\n     \"output_notebook(resources=INLINE)\\n\"+\n     \"</code>\\n\"+\n     \"</div>\"}};\n\n  function display_loaded() {\n    const el = document.getElementById(\"1002\");\n    if (el != null) {\n      el.textContent = \"BokehJS is loading...\";\n    }\n    if (root.Bokeh !== undefined) {\n      if (el != null) {\n        el.textContent = \"BokehJS \" + root.Bokeh.version + \" successfully loaded.\";\n      }\n    } else if (Date.now() < root._bokeh_timeout) {\n      setTimeout(display_loaded, 100)\n    }\n  }\n\n\n  function run_callbacks() {\n    try {\n      root._bokeh_onload_callbacks.forEach(function(callback) {\n        if (callback != null)\n          callback();\n      });\n    } finally {\n      delete root._bokeh_onload_callbacks\n    }\n    console.debug(\"Bokeh: all callbacks have finished\");\n  }\n\n  function load_libs(css_urls, js_urls, callback) {\n    if (css_urls == null) css_urls = [];\n    if (js_urls == null) js_urls = [];\n\n    root._bokeh_onload_callbacks.push(callback);\n    if (root._bokeh_is_loading > 0) {\n      console.debug(\"Bokeh: BokehJS is being loaded, scheduling callback at\", now());\n      return null;\n    }\n    if (js_urls == null || js_urls.length === 0) {\n      run_callbacks();\n      return null;\n    }\n    console.debug(\"Bokeh: BokehJS not loaded, scheduling load and callback at\", now());\n    root._bokeh_is_loading = css_urls.length + js_urls.length;\n\n    function on_load() {\n      root._bokeh_is_loading--;\n      if (root._bokeh_is_loading === 0) {\n        console.debug(\"Bokeh: all BokehJS libraries/stylesheets loaded\");\n        run_callbacks()\n      }\n    }\n\n    function on_error(url) {\n      console.error(\"failed to load \" + url);\n    }\n\n    for (let i = 0; i < css_urls.length; i++) {\n      const url = css_urls[i];\n      const element = document.createElement(\"link\");\n      element.onload = on_load;\n      element.onerror = on_error.bind(null, url);\n      element.rel = \"stylesheet\";\n      element.type = \"text/css\";\n      element.href = url;\n      console.debug(\"Bokeh: injecting link tag for BokehJS stylesheet: \", url);\n      document.body.appendChild(element);\n    }\n\n    for (let i = 0; i < js_urls.length; i++) {\n      const url = js_urls[i];\n      const element = document.createElement('script');\n      element.onload = on_load;\n      element.onerror = on_error.bind(null, url);\n      element.async = false;\n      element.src = url;\n      console.debug(\"Bokeh: injecting script tag for BokehJS library: \", url);\n      document.head.appendChild(element);\n    }\n  };\n\n  function inject_raw_css(css) {\n    const element = document.createElement(\"style\");\n    element.appendChild(document.createTextNode(css));\n    document.body.appendChild(element);\n  }\n\n  \n  const js_urls = [\"https://cdn.bokeh.org/bokeh/release/bokeh-2.4.2.min.js\", \"https://cdn.bokeh.org/bokeh/release/bokeh-gl-2.4.2.min.js\", \"https://cdn.bokeh.org/bokeh/release/bokeh-widgets-2.4.2.min.js\", \"https://cdn.bokeh.org/bokeh/release/bokeh-tables-2.4.2.min.js\", \"https://cdn.bokeh.org/bokeh/release/bokeh-mathjax-2.4.2.min.js\"];\n  const css_urls = [];\n  \n\n  const inline_js = [\n    function(Bokeh) {\n      Bokeh.set_log_level(\"info\");\n    },\n    function(Bokeh) {\n    \n    \n    }\n  ];\n\n  function run_inline_js() {\n    \n    if (root.Bokeh !== undefined || force === true) {\n      \n    for (let i = 0; i < inline_js.length; i++) {\n      inline_js[i].call(root, root.Bokeh);\n    }\n    if (force === true) {\n        display_loaded();\n      }} else if (Date.now() < root._bokeh_timeout) {\n      setTimeout(run_inline_js, 100);\n    } else if (!root._bokeh_failed_load) {\n      console.log(\"Bokeh: BokehJS failed to load within specified timeout.\");\n      root._bokeh_failed_load = true;\n    } else if (force !== true) {\n      const cell = $(document.getElementById(\"1002\")).parents('.cell').data().cell;\n      cell.output_area.append_execute_result(NB_LOAD_WARNING)\n    }\n\n  }\n\n  if (root._bokeh_is_loading === 0) {\n    console.debug(\"Bokeh: BokehJS loaded, going straight to plotting\");\n    run_inline_js();\n  } else {\n    load_libs(css_urls, js_urls, function() {\n      console.debug(\"Bokeh: BokehJS plotting callback run at\", now());\n      run_inline_js();\n    });\n  }\n}(window));"
     },
     "metadata": {},
     "output_type": "display_data"
    }
   ],
   "source": [
    "import fastf1\n",
    "from bokeh.io import output_notebook\n",
    "import ff1_helpers\n",
    "\n",
    "cache_dir = '/Users/daoust.andrew/Code/f1-analysis/cache'\n",
    "fastf1.Cache.enable_cache(cache_dir)\n",
    "\n",
    "output_notebook()"
   ]
  },
  {
   "cell_type": "code",
   "execution_count": 8,
   "id": "51dec6cf-9410-47de-a651-1172ab2bfeb4",
   "metadata": {},
   "outputs": [],
   "source": [
    "# session = fastf1.get_session(2022, 'Imola', 'R')\n",
    "# session.load()\n",
    "\n",
    "# q_session = fastf1.get_session(2022, 'Imola', 'Q')\n",
    "# q_session.load()\n",
    "\n",
    "verstappen = session.laps.pick_driver('VER')\n",
    "leclerc = session.laps.pick_driver('LEC')"
   ]
  },
  {
   "cell_type": "code",
   "execution_count": 10,
   "id": "fbae2c72-8258-45d0-9862-9286219f1a8f",
   "metadata": {},
   "outputs": [],
   "source": [
    "# verstappen"
   ]
  },
  {
   "cell_type": "code",
   "execution_count": 49,
   "id": "6686845e-4185-4eb0-96ab-d930e13c1fd9",
   "metadata": {},
   "outputs": [
    {
     "data": {
      "text/html": [
       "\n",
       "\n",
       "\n",
       "\n",
       "\n",
       "\n",
       "  <div class=\"bk-root\" id=\"39c2469c-95fc-4dd2-a5ff-fee2d09fa7e3\" data-root-id=\"13093\"></div>\n"
      ]
     },
     "metadata": {},
     "output_type": "display_data"
    },
    {
     "data": {
      "application/javascript": [
       "(function(root) {\n",
       "  function embed_document(root) {\n",
       "    \n",
       "  const docs_json = {\"d2ac6bc2-c963-466a-a16c-6d55a84798cc\":{\"defs\":[],\"roots\":{\"references\":[{\"attributes\":{\"background_fill_color\":\"#525151\",\"below\":[{\"id\":\"13102\"}],\"border_fill_color\":\"#525151\",\"center\":[{\"id\":\"13105\"},{\"id\":\"13109\"}],\"left\":[{\"id\":\"13106\"}],\"renderers\":[{\"id\":\"13130\"}],\"title\":{\"id\":\"13124\"},\"toolbar\":{\"id\":\"13117\"},\"x_range\":{\"id\":\"13094\"},\"x_scale\":{\"id\":\"13098\"},\"y_range\":{\"id\":\"13096\"},\"y_scale\":{\"id\":\"13100\"}},\"id\":\"13093\",\"subtype\":\"Figure\",\"type\":\"Plot\"},{\"attributes\":{},\"id\":\"13096\",\"type\":\"DataRange1d\"},{\"attributes\":{},\"id\":\"13110\",\"type\":\"PanTool\"},{\"attributes\":{\"coordinates\":null,\"data_source\":{\"id\":\"13126\"},\"glyph\":{\"id\":\"13127\"},\"group\":null,\"hover_glyph\":null,\"muted_glyph\":{\"id\":\"13129\"},\"nonselection_glyph\":{\"id\":\"13128\"},\"view\":{\"id\":\"13131\"}},\"id\":\"13130\",\"type\":\"GlyphRenderer\"},{\"attributes\":{\"source\":{\"id\":\"13126\"}},\"id\":\"13131\",\"type\":\"CDSView\"},{\"attributes\":{\"line_color\":\"cornflowerblue\",\"line_width\":2,\"x\":{\"field\":\"x\"},\"y\":{\"field\":\"y\"}},\"id\":\"13127\",\"type\":\"Line\"},{\"attributes\":{},\"id\":\"13094\",\"type\":\"DataRange1d\"},{\"attributes\":{\"axis\":{\"id\":\"13102\"},\"coordinates\":null,\"grid_line_alpha\":0.4,\"group\":null,\"ticker\":null},\"id\":\"13105\",\"type\":\"Grid\"},{\"attributes\":{},\"id\":\"13563\",\"type\":\"AllLabels\"},{\"attributes\":{\"coordinates\":null,\"group\":null,\"text\":\"Verstappen Lap Times (Imola 2022)\",\"text_color\":\"white\"},\"id\":\"13124\",\"type\":\"Title\"},{\"attributes\":{\"overlay\":{\"id\":\"13116\"}},\"id\":\"13112\",\"type\":\"BoxZoomTool\"},{\"attributes\":{},\"id\":\"13107\",\"type\":\"BasicTicker\"},{\"attributes\":{\"line_alpha\":0.2,\"line_color\":\"cornflowerblue\",\"line_width\":2,\"x\":{\"field\":\"x\"},\"y\":{\"field\":\"y\"}},\"id\":\"13129\",\"type\":\"Line\"},{\"attributes\":{},\"id\":\"13114\",\"type\":\"ResetTool\"},{\"attributes\":{},\"id\":\"13565\",\"type\":\"Selection\"},{\"attributes\":{\"data\":{\"x\":{\"__ndarray__\":\"AAAAAAAA8D8AAAAAAAAAQAAAAAAAAAhAAAAAAAAAEEAAAAAAAAAUQAAAAAAAABhAAAAAAAAAHEAAAAAAAAAgQAAAAAAAACJAAAAAAAAAJEAAAAAAAAAmQAAAAAAAAChAAAAAAAAAKkAAAAAAAAAsQAAAAAAAAC5AAAAAAAAAMEAAAAAAAAAxQAAAAAAAADJAAAAAAAAAM0AAAAAAAAA0QAAAAAAAADVAAAAAAAAANkAAAAAAAAA3QAAAAAAAADhAAAAAAAAAOUAAAAAAAAA6QAAAAAAAADtAAAAAAAAAPEAAAAAAAAA9QAAAAAAAAD5AAAAAAAAAP0AAAAAAAABAQAAAAAAAgEBAAAAAAAAAQUAAAAAAAIBBQAAAAAAAAEJAAAAAAACAQkAAAAAAAABDQAAAAAAAgENAAAAAAAAAREAAAAAAAIBEQAAAAAAAAEVAAAAAAACARUAAAAAAAABGQAAAAAAAgEZAAAAAAAAAR0AAAAAAAIBHQAAAAAAAAEhAAAAAAACASEAAAAAAAABJQAAAAAAAgElAAAAAAAAASkAAAAAAAIBKQAAAAAAAAEtAAAAAAACAS0AAAAAAAABMQAAAAAAAgExAAAAAAAAATUAAAAAAAIBNQAAAAAAAAE5AAAAAAACATkAAAAAAAABPQAAAAAAAgE9A\",\"dtype\":\"float64\",\"order\":\"little\",\"shape\":[63]},\"y\":{\"__ndarray__\":\"AAAAAAAA+H+kcD0K1z9iQAAAAAAAEGFAi2zn+6ltYkDNzMzMzNxWQCPb+X5qnFZAVg4tsp2HVkAX2c73U4tWQKabxCCwelZAWDm0yHaWVkAEVg4tspVWQLx0kxgEvlZAzczMzMzUVkA3iUFg5fhWQNEi2/l+AldA+FPjpZsEV0CTGARWDgVXQFyPwvUo3FZA/tR46SbRV0CsHFpkO69cQL6fGi/dXFVAiUFg5dDyVEBWDi2ynbdUQL6fGi/dnFRARIts5/uJVEBvEoPAymlUQK5H4XoURlRAPzVeukksVEASg8DKoS1UQO58PzVeOlRApHA9CtczVEAhsHJokSVUQDMzMzMzI1RApHA9CtcjVEACK4cW2SZUQJhuEoPAElRAyXa+nxoXVEBoke18PyVUQH9qvHSTMFRArkfhehRGVEDZzvdT4z1UQHWTGARWDlRAdZMYBFY+VEDP91PjpSNUQIGVQ4tsH1RAPzVeukkcVEAQWDm0yBZUQFyPwvUoLFRAi2zn+6kxVEDwp8ZLN0FUQNv5fmq8ZFVA2c73U+MVWkCyne+nxtNTQH0/NV66SVRABoGVQ4ucU0DVeOkmMeBTQGiR7Xw/JVRAvp8aL93UU0Dn+6nx0vVTQFYOLbKd91NA+FPjpZv8U0Dl0CLb+eZTQFK4HoXrCVRA\",\"dtype\":\"float64\",\"order\":\"little\",\"shape\":[63]}},\"selected\":{\"id\":\"13565\"},\"selection_policy\":{\"id\":\"13564\"}},\"id\":\"13126\",\"type\":\"ColumnDataSource\"},{\"attributes\":{},\"id\":\"13560\",\"type\":\"AllLabels\"},{\"attributes\":{\"line_alpha\":0.1,\"line_color\":\"cornflowerblue\",\"line_width\":2,\"x\":{\"field\":\"x\"},\"y\":{\"field\":\"y\"}},\"id\":\"13128\",\"type\":\"Line\"},{\"attributes\":{},\"id\":\"13113\",\"type\":\"SaveTool\"},{\"attributes\":{},\"id\":\"13100\",\"type\":\"LinearScale\"},{\"attributes\":{},\"id\":\"13098\",\"type\":\"LinearScale\"},{\"attributes\":{\"axis_label\":\"Lap #\",\"axis_label_text_color\":\"white\",\"axis_line_color\":\"white\",\"coordinates\":null,\"formatter\":{\"id\":\"13562\"},\"group\":null,\"major_label_policy\":{\"id\":\"13563\"},\"major_label_text_color\":\"white\",\"major_tick_line_color\":\"white\",\"minor_tick_line_color\":\"white\",\"ticker\":{\"id\":\"13103\"}},\"id\":\"13102\",\"type\":\"LinearAxis\"},{\"attributes\":{\"bottom_units\":\"screen\",\"coordinates\":null,\"fill_alpha\":0.5,\"fill_color\":\"lightgrey\",\"group\":null,\"left_units\":\"screen\",\"level\":\"overlay\",\"line_alpha\":1.0,\"line_color\":\"black\",\"line_dash\":[4,4],\"line_width\":2,\"right_units\":\"screen\",\"syncable\":false,\"top_units\":\"screen\"},\"id\":\"13116\",\"type\":\"BoxAnnotation\"},{\"attributes\":{},\"id\":\"13562\",\"type\":\"BasicTickFormatter\"},{\"attributes\":{},\"id\":\"13111\",\"type\":\"WheelZoomTool\"},{\"attributes\":{},\"id\":\"13103\",\"type\":\"BasicTicker\"},{\"attributes\":{\"axis\":{\"id\":\"13106\"},\"coordinates\":null,\"dimension\":1,\"grid_line_alpha\":0.4,\"group\":null,\"ticker\":null},\"id\":\"13109\",\"type\":\"Grid\"},{\"attributes\":{},\"id\":\"13115\",\"type\":\"HelpTool\"},{\"attributes\":{},\"id\":\"13564\",\"type\":\"UnionRenderers\"},{\"attributes\":{\"axis_label\":\"Lap time (s)\",\"axis_label_text_color\":\"white\",\"axis_line_color\":\"white\",\"coordinates\":null,\"formatter\":{\"id\":\"13559\"},\"group\":null,\"major_label_policy\":{\"id\":\"13560\"},\"major_label_text_color\":\"white\",\"major_tick_line_color\":\"white\",\"minor_tick_line_color\":\"white\",\"ticker\":{\"id\":\"13107\"}},\"id\":\"13106\",\"type\":\"LinearAxis\"},{\"attributes\":{},\"id\":\"13559\",\"type\":\"BasicTickFormatter\"},{\"attributes\":{\"tools\":[{\"id\":\"13110\"},{\"id\":\"13111\"},{\"id\":\"13112\"},{\"id\":\"13113\"},{\"id\":\"13114\"},{\"id\":\"13115\"}]},\"id\":\"13117\",\"type\":\"Toolbar\"}],\"root_ids\":[\"13093\"]},\"title\":\"Bokeh Application\",\"version\":\"2.4.2\"}};\n",
       "  const render_items = [{\"docid\":\"d2ac6bc2-c963-466a-a16c-6d55a84798cc\",\"root_ids\":[\"13093\"],\"roots\":{\"13093\":\"39c2469c-95fc-4dd2-a5ff-fee2d09fa7e3\"}}];\n",
       "  root.Bokeh.embed.embed_items_notebook(docs_json, render_items);\n",
       "\n",
       "  }\n",
       "  if (root.Bokeh !== undefined) {\n",
       "    embed_document(root);\n",
       "  } else {\n",
       "    let attempts = 0;\n",
       "    const timer = setInterval(function(root) {\n",
       "      if (root.Bokeh !== undefined) {\n",
       "        clearInterval(timer);\n",
       "        embed_document(root);\n",
       "      } else {\n",
       "        attempts++;\n",
       "        if (attempts > 100) {\n",
       "          clearInterval(timer);\n",
       "          console.log(\"Bokeh: ERROR: Unable to run BokehJS code because BokehJS library is missing\");\n",
       "        }\n",
       "      }\n",
       "    }, 10, root)\n",
       "  }\n",
       "})(window);"
      ],
      "application/vnd.bokehjs_exec.v0+json": ""
     },
     "metadata": {
      "application/vnd.bokehjs_exec.v0+json": {
       "id": "13093"
      }
     },
     "output_type": "display_data"
    },
    {
     "data": {
      "text/html": [
       "\n",
       "\n",
       "\n",
       "\n",
       "\n",
       "\n",
       "  <div class=\"bk-root\" id=\"ed821f9c-7602-4345-8223-0c83b3b64e15\" data-root-id=\"13622\"></div>\n"
      ]
     },
     "metadata": {},
     "output_type": "display_data"
    },
    {
     "data": {
      "application/javascript": [
       "(function(root) {\n",
       "  function embed_document(root) {\n",
       "    \n",
       "  const docs_json = {\"67745616-5b5a-4801-87af-a92de3d7eaf8\":{\"defs\":[],\"roots\":{\"references\":[{\"attributes\":{\"background_fill_color\":\"#525151\",\"below\":[{\"id\":\"13631\"}],\"border_fill_color\":\"#525151\",\"center\":[{\"id\":\"13634\"},{\"id\":\"13638\"}],\"left\":[{\"id\":\"13635\"}],\"renderers\":[{\"id\":\"13659\"}],\"title\":{\"id\":\"13653\"},\"toolbar\":{\"id\":\"13646\"},\"x_range\":{\"id\":\"13623\"},\"x_scale\":{\"id\":\"13627\"},\"y_range\":{\"id\":\"13625\"},\"y_scale\":{\"id\":\"13629\"}},\"id\":\"13622\",\"subtype\":\"Figure\",\"type\":\"Plot\"},{\"attributes\":{\"coordinates\":null,\"data_source\":{\"id\":\"13655\"},\"glyph\":{\"id\":\"13656\"},\"group\":null,\"hover_glyph\":null,\"muted_glyph\":{\"id\":\"13658\"},\"nonselection_glyph\":{\"id\":\"13657\"},\"view\":{\"id\":\"13660\"}},\"id\":\"13659\",\"type\":\"GlyphRenderer\"},{\"attributes\":{},\"id\":\"13625\",\"type\":\"DataRange1d\"},{\"attributes\":{\"source\":{\"id\":\"13655\"}},\"id\":\"13660\",\"type\":\"CDSView\"},{\"attributes\":{\"overlay\":{\"id\":\"13645\"}},\"id\":\"13641\",\"type\":\"BoxZoomTool\"},{\"attributes\":{\"fill_alpha\":{\"value\":0.1},\"fill_color\":{\"value\":\"cornflowerblue\"},\"hatch_alpha\":{\"value\":0.1},\"hatch_color\":{\"value\":\"cornflowerblue\"},\"line_alpha\":{\"value\":0.1},\"line_color\":{\"value\":\"cornflowerblue\"},\"top\":{\"field\":\"top\"},\"width\":{\"value\":0.5},\"x\":{\"field\":\"x\"}},\"id\":\"13657\",\"type\":\"VBar\"},{\"attributes\":{\"fill_color\":{\"value\":\"cornflowerblue\"},\"hatch_color\":{\"value\":\"cornflowerblue\"},\"line_color\":{\"value\":\"cornflowerblue\"},\"top\":{\"field\":\"top\"},\"width\":{\"value\":0.5},\"x\":{\"field\":\"x\"}},\"id\":\"13656\",\"type\":\"VBar\"},{\"attributes\":{\"axis_label\":\"Lap time (s)\",\"axis_label_text_color\":\"white\",\"axis_line_color\":\"white\",\"coordinates\":null,\"formatter\":{\"id\":\"14099\"},\"group\":null,\"major_label_policy\":{\"id\":\"14100\"},\"major_label_text_color\":\"white\",\"major_tick_line_color\":\"white\",\"minor_tick_line_color\":\"white\",\"ticker\":{\"id\":\"13636\"}},\"id\":\"13635\",\"type\":\"LinearAxis\"},{\"attributes\":{\"axis_label\":\"Lap #\",\"axis_label_text_color\":\"white\",\"axis_line_color\":\"white\",\"coordinates\":null,\"formatter\":{\"id\":\"14102\"},\"group\":null,\"major_label_policy\":{\"id\":\"14103\"},\"major_label_text_color\":\"white\",\"major_tick_line_color\":\"white\",\"minor_tick_line_color\":\"white\",\"ticker\":{\"id\":\"13632\"}},\"id\":\"13631\",\"type\":\"LinearAxis\"},{\"attributes\":{},\"id\":\"13643\",\"type\":\"ResetTool\"},{\"attributes\":{},\"id\":\"14104\",\"type\":\"UnionRenderers\"},{\"attributes\":{},\"id\":\"13636\",\"type\":\"BasicTicker\"},{\"attributes\":{},\"id\":\"13629\",\"type\":\"LinearScale\"},{\"attributes\":{},\"id\":\"13627\",\"type\":\"LinearScale\"},{\"attributes\":{},\"id\":\"14105\",\"type\":\"Selection\"},{\"attributes\":{},\"id\":\"13640\",\"type\":\"WheelZoomTool\"},{\"attributes\":{},\"id\":\"13639\",\"type\":\"PanTool\"},{\"attributes\":{},\"id\":\"13632\",\"type\":\"BasicTicker\"},{\"attributes\":{\"coordinates\":null,\"group\":null,\"text\":\"Verstappen Lap Times (Imola 2022)\",\"text_color\":\"white\"},\"id\":\"13653\",\"type\":\"Title\"},{\"attributes\":{\"tools\":[{\"id\":\"13639\"},{\"id\":\"13640\"},{\"id\":\"13641\"},{\"id\":\"13642\"},{\"id\":\"13643\"},{\"id\":\"13644\"}]},\"id\":\"13646\",\"type\":\"Toolbar\"},{\"attributes\":{},\"id\":\"13623\",\"type\":\"DataRange1d\"},{\"attributes\":{\"axis\":{\"id\":\"13635\"},\"coordinates\":null,\"dimension\":1,\"grid_line_alpha\":0.4,\"group\":null,\"ticker\":null},\"id\":\"13638\",\"type\":\"Grid\"},{\"attributes\":{},\"id\":\"13644\",\"type\":\"HelpTool\"},{\"attributes\":{},\"id\":\"13642\",\"type\":\"SaveTool\"},{\"attributes\":{\"bottom_units\":\"screen\",\"coordinates\":null,\"fill_alpha\":0.5,\"fill_color\":\"lightgrey\",\"group\":null,\"left_units\":\"screen\",\"level\":\"overlay\",\"line_alpha\":1.0,\"line_color\":\"black\",\"line_dash\":[4,4],\"line_width\":2,\"right_units\":\"screen\",\"syncable\":false,\"top_units\":\"screen\"},\"id\":\"13645\",\"type\":\"BoxAnnotation\"},{\"attributes\":{\"axis\":{\"id\":\"13631\"},\"coordinates\":null,\"grid_line_alpha\":0.4,\"group\":null,\"ticker\":null},\"id\":\"13634\",\"type\":\"Grid\"},{\"attributes\":{},\"id\":\"14103\",\"type\":\"AllLabels\"},{\"attributes\":{\"fill_alpha\":{\"value\":0.2},\"fill_color\":{\"value\":\"cornflowerblue\"},\"hatch_alpha\":{\"value\":0.2},\"hatch_color\":{\"value\":\"cornflowerblue\"},\"line_alpha\":{\"value\":0.2},\"line_color\":{\"value\":\"cornflowerblue\"},\"top\":{\"field\":\"top\"},\"width\":{\"value\":0.5},\"x\":{\"field\":\"x\"}},\"id\":\"13658\",\"type\":\"VBar\"},{\"attributes\":{},\"id\":\"14102\",\"type\":\"BasicTickFormatter\"},{\"attributes\":{},\"id\":\"14099\",\"type\":\"BasicTickFormatter\"},{\"attributes\":{},\"id\":\"14100\",\"type\":\"AllLabels\"},{\"attributes\":{\"data\":{\"top\":{\"__ndarray__\":\"AAAAAAAA+H+kcD0K1z9iQAAAAAAAEGFAi2zn+6ltYkDNzMzMzNxWQCPb+X5qnFZAVg4tsp2HVkAX2c73U4tWQKabxCCwelZAWDm0yHaWVkAEVg4tspVWQLx0kxgEvlZAzczMzMzUVkA3iUFg5fhWQNEi2/l+AldA+FPjpZsEV0CTGARWDgVXQFyPwvUo3FZA/tR46SbRV0CsHFpkO69cQL6fGi/dXFVAiUFg5dDyVEBWDi2ynbdUQL6fGi/dnFRARIts5/uJVEBvEoPAymlUQK5H4XoURlRAPzVeukksVEASg8DKoS1UQO58PzVeOlRApHA9CtczVEAhsHJokSVUQDMzMzMzI1RApHA9CtcjVEACK4cW2SZUQJhuEoPAElRAyXa+nxoXVEBoke18PyVUQH9qvHSTMFRArkfhehRGVEDZzvdT4z1UQHWTGARWDlRAdZMYBFY+VEDP91PjpSNUQIGVQ4tsH1RAPzVeukkcVEAQWDm0yBZUQFyPwvUoLFRAi2zn+6kxVEDwp8ZLN0FUQNv5fmq8ZFVA2c73U+MVWkCyne+nxtNTQH0/NV66SVRABoGVQ4ucU0DVeOkmMeBTQGiR7Xw/JVRAvp8aL93UU0Dn+6nx0vVTQFYOLbKd91NA+FPjpZv8U0Dl0CLb+eZTQFK4HoXrCVRA\",\"dtype\":\"float64\",\"order\":\"little\",\"shape\":[63]},\"x\":{\"__ndarray__\":\"AAAAAAAA8D8AAAAAAAAAQAAAAAAAAAhAAAAAAAAAEEAAAAAAAAAUQAAAAAAAABhAAAAAAAAAHEAAAAAAAAAgQAAAAAAAACJAAAAAAAAAJEAAAAAAAAAmQAAAAAAAAChAAAAAAAAAKkAAAAAAAAAsQAAAAAAAAC5AAAAAAAAAMEAAAAAAAAAxQAAAAAAAADJAAAAAAAAAM0AAAAAAAAA0QAAAAAAAADVAAAAAAAAANkAAAAAAAAA3QAAAAAAAADhAAAAAAAAAOUAAAAAAAAA6QAAAAAAAADtAAAAAAAAAPEAAAAAAAAA9QAAAAAAAAD5AAAAAAAAAP0AAAAAAAABAQAAAAAAAgEBAAAAAAAAAQUAAAAAAAIBBQAAAAAAAAEJAAAAAAACAQkAAAAAAAABDQAAAAAAAgENAAAAAAAAAREAAAAAAAIBEQAAAAAAAAEVAAAAAAACARUAAAAAAAABGQAAAAAAAgEZAAAAAAAAAR0AAAAAAAIBHQAAAAAAAAEhAAAAAAACASEAAAAAAAABJQAAAAAAAgElAAAAAAAAASkAAAAAAAIBKQAAAAAAAAEtAAAAAAACAS0AAAAAAAABMQAAAAAAAgExAAAAAAAAATUAAAAAAAIBNQAAAAAAAAE5AAAAAAACATkAAAAAAAABPQAAAAAAAgE9A\",\"dtype\":\"float64\",\"order\":\"little\",\"shape\":[63]}},\"selected\":{\"id\":\"14105\"},\"selection_policy\":{\"id\":\"14104\"}},\"id\":\"13655\",\"type\":\"ColumnDataSource\"}],\"root_ids\":[\"13622\"]},\"title\":\"Bokeh Application\",\"version\":\"2.4.2\"}};\n",
       "  const render_items = [{\"docid\":\"67745616-5b5a-4801-87af-a92de3d7eaf8\",\"root_ids\":[\"13622\"],\"roots\":{\"13622\":\"ed821f9c-7602-4345-8223-0c83b3b64e15\"}}];\n",
       "  root.Bokeh.embed.embed_items_notebook(docs_json, render_items);\n",
       "\n",
       "  }\n",
       "  if (root.Bokeh !== undefined) {\n",
       "    embed_document(root);\n",
       "  } else {\n",
       "    let attempts = 0;\n",
       "    const timer = setInterval(function(root) {\n",
       "      if (root.Bokeh !== undefined) {\n",
       "        clearInterval(timer);\n",
       "        embed_document(root);\n",
       "      } else {\n",
       "        attempts++;\n",
       "        if (attempts > 100) {\n",
       "          clearInterval(timer);\n",
       "          console.log(\"Bokeh: ERROR: Unable to run BokehJS code because BokehJS library is missing\");\n",
       "        }\n",
       "      }\n",
       "    }, 10, root)\n",
       "  }\n",
       "})(window);"
      ],
      "application/vnd.bokehjs_exec.v0+json": ""
     },
     "metadata": {
      "application/vnd.bokehjs_exec.v0+json": {
       "id": "13622"
      }
     },
     "output_type": "display_data"
    }
   ],
   "source": [
    "lap_number = verstappen.LapNumber\n",
    "lap_time = verstappen.LapTime\n",
    "    \n",
    "d1 = [{\n",
    "    'x': lap_number,\n",
    "    'y': lap_time,\n",
    "    'width': 0.5,\n",
    "}]\n",
    "ff1_helpers.line(d1, title=\"Verstappen Lap Times (Imola 2022)\", x_axis_label='Lap #', y_axis_label='Lap time (s)')\n",
    "ff1_helpers.bar(d1, title=\"Verstappen Lap Times (Imola 2022)\", x_axis_label='Lap #', y_axis_label='Lap time (s)')"
   ]
  },
  {
   "cell_type": "code",
   "execution_count": 48,
   "id": "4fc8a008-c973-440d-8d90-8ad0a7545a7f",
   "metadata": {},
   "outputs": [
    {
     "data": {
      "text/html": [
       "\n",
       "\n",
       "\n",
       "\n",
       "\n",
       "\n",
       "  <div class=\"bk-root\" id=\"86e5d95e-fc0a-4c19-8620-a00413b2a957\" data-root-id=\"12532\"></div>\n"
      ]
     },
     "metadata": {},
     "output_type": "display_data"
    },
    {
     "data": {
      "application/javascript": [
       "(function(root) {\n",
       "  function embed_document(root) {\n",
       "    \n",
       "  const docs_json = {\"3d437bdf-d3da-4785-adab-96000d9aaaa6\":{\"defs\":[],\"roots\":{\"references\":[{\"attributes\":{\"background_fill_color\":\"#525151\",\"below\":[{\"id\":\"12541\"}],\"border_fill_color\":\"#525151\",\"center\":[{\"id\":\"12544\"},{\"id\":\"12548\"},{\"id\":\"12582\"}],\"left\":[{\"id\":\"12545\"}],\"renderers\":[{\"id\":\"12569\"},{\"id\":\"12588\"}],\"title\":{\"id\":\"12563\"},\"toolbar\":{\"id\":\"12556\"},\"x_range\":{\"id\":\"12533\"},\"x_scale\":{\"id\":\"12537\"},\"y_range\":{\"id\":\"12535\"},\"y_scale\":{\"id\":\"12539\"}},\"id\":\"12532\",\"subtype\":\"Figure\",\"type\":\"Plot\"},{\"attributes\":{},\"id\":\"12537\",\"type\":\"LinearScale\"},{\"attributes\":{},\"id\":\"12552\",\"type\":\"SaveTool\"},{\"attributes\":{},\"id\":\"12601\",\"type\":\"Selection\"},{\"attributes\":{},\"id\":\"12546\",\"type\":\"BasicTicker\"},{\"attributes\":{},\"id\":\"12553\",\"type\":\"ResetTool\"},{\"attributes\":{\"line_alpha\":0.1,\"line_color\":\"red\",\"line_width\":2,\"x\":{\"field\":\"x\"},\"y\":{\"field\":\"y\"}},\"id\":\"12586\",\"type\":\"Line\"},{\"attributes\":{},\"id\":\"12574\",\"type\":\"BasicTickFormatter\"},{\"attributes\":{},\"id\":\"12549\",\"type\":\"PanTool\"},{\"attributes\":{},\"id\":\"12577\",\"type\":\"BasicTickFormatter\"},{\"attributes\":{\"label\":{\"value\":\"30\"},\"renderers\":[{\"id\":\"12588\"}]},\"id\":\"12603\",\"type\":\"LegendItem\"},{\"attributes\":{},\"id\":\"12600\",\"type\":\"UnionRenderers\"},{\"attributes\":{\"line_alpha\":0.2,\"line_color\":\"red\",\"line_width\":2,\"x\":{\"field\":\"x\"},\"y\":{\"field\":\"y\"}},\"id\":\"12587\",\"type\":\"Line\"},{\"attributes\":{\"overlay\":{\"id\":\"12555\"}},\"id\":\"12551\",\"type\":\"BoxZoomTool\"},{\"attributes\":{\"source\":{\"id\":\"12584\"}},\"id\":\"12589\",\"type\":\"CDSView\"},{\"attributes\":{},\"id\":\"12533\",\"type\":\"DataRange1d\"},{\"attributes\":{\"coordinates\":null,\"group\":null,\"text\":\"Verstappen Fastest Race Lap\",\"text_color\":\"white\"},\"id\":\"12563\",\"type\":\"Title\"},{\"attributes\":{\"coordinates\":null,\"data_source\":{\"id\":\"12584\"},\"glyph\":{\"id\":\"12585\"},\"group\":null,\"hover_glyph\":null,\"muted_glyph\":{\"id\":\"12587\"},\"nonselection_glyph\":{\"id\":\"12586\"},\"view\":{\"id\":\"12589\"}},\"id\":\"12588\",\"type\":\"GlyphRenderer\"},{\"attributes\":{\"axis_label\":\"Speed [km/h]\",\"axis_label_text_color\":\"white\",\"axis_line_color\":\"white\",\"coordinates\":null,\"formatter\":{\"id\":\"12574\"},\"group\":null,\"major_label_policy\":{\"id\":\"12575\"},\"major_label_text_color\":\"white\",\"major_tick_line_color\":\"white\",\"minor_tick_line_color\":\"white\",\"ticker\":{\"id\":\"12546\"}},\"id\":\"12545\",\"type\":\"LinearAxis\"},{\"attributes\":{},\"id\":\"12578\",\"type\":\"AllLabels\"},{\"attributes\":{\"data\":{\"x\":{\"__ndarray__\":\"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\",\"dtype\":\"float64\",\"order\":\"little\",\"shape\":[309]},\"y\":[281,281,284,287,289,292,294,294,296,297,298,299,300,301,301,301,302,303,304,305,306,306,307,308,308,308,308,308,308,308,308,308,307,308,308,307,285,243,221,202,194,173,164,156,151,149,150,155,168,168,165,166,172,185,189,204,208,220,225,230,231,236,241,244,246,251,254,257,263,266,269,271,273,276,275,275,275,275,274,273,262,239,231,223,221,189,177,168,162,156,157,156,159,166,174,178,187,193,206,209,218,220,222,223,226,203,186,161,148,128,121,116,111,103,101,100,101,106,112,125,133,142,152,160,168,177,187,194,204,210,218,228,231,234,238,242,245,248,253,256,258,259,261,264,267,270,269,269,269,269,270,267,237,213,207,200,195,200,205,211,214,221,226,234,240,244,251,257,261,262,264,265,266,266,267,262,255,248,240,200,184,174,146,136,129,128,122,124,129,133,146,156,167,173,187,196,198,198,214,219,223,229,233,236,240,244,249,252,254,257,257,257,258,257,258,220,200,168,149,134,125,120,117,112,109,100,99,99,112,120,133,148,162,178,185,196,202,207,213,219,227,233,234,243,249,252,255,259,261,265,270,272,273,278,279,279,285,288,290,292,292,292,271,228,217,192,177,152,147,130,122,118,114,125,132,136,149,163,168,166,155,152,141,134,139,142,155,162,169,181,188,192,201,209,214,222,227,233,241,248,251,253,257,260,265,269,273,276,278]},\"selected\":{\"id\":\"12601\"},\"selection_policy\":{\"id\":\"12600\"}},\"id\":\"12584\",\"type\":\"ColumnDataSource\"},{\"attributes\":{\"line_color\":\"red\",\"line_width\":2,\"x\":{\"field\":\"x\"},\"y\":{\"field\":\"y\"}},\"id\":\"12585\",\"type\":\"Line\"},{\"attributes\":{\"label\":{\"value\":\"Fastest\"},\"renderers\":[{\"id\":\"12569\"}]},\"id\":\"12583\",\"type\":\"LegendItem\"},{\"attributes\":{\"coordinates\":null,\"data_source\":{\"id\":\"12565\"},\"glyph\":{\"id\":\"12566\"},\"group\":null,\"hover_glyph\":null,\"muted_glyph\":{\"id\":\"12568\"},\"nonselection_glyph\":{\"id\":\"12567\"},\"view\":{\"id\":\"12570\"}},\"id\":\"12569\",\"type\":\"GlyphRenderer\"},{\"attributes\":{},\"id\":\"12550\",\"type\":\"WheelZoomTool\"},{\"attributes\":{\"coordinates\":null,\"group\":null,\"items\":[{\"id\":\"12583\"},{\"id\":\"12603\"}]},\"id\":\"12582\",\"type\":\"Legend\"},{\"attributes\":{\"data\":{\"x\":{\"__ndarray__\":\"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\",\"dtype\":\"float64\",\"order\":\"little\",\"shape\":[299]},\"y\":[286,287,289,291,292,294,294,295,297,298,299,300,302,303,304,305,306,306,307,308,309,308,308,309,309,310,309,309,309,309,310,310,310,310,309,289,263,238,205,182,167,161,158,160,168,178,182,180,184,193,197,206,216,220,226,232,237,241,248,252,255,261,263,267,269,275,280,283,286,286,289,289,262,254,240,233,217,193,180,173,170,164,166,168,181,186,196,200,209,220,224,229,236,239,210,200,164,158,141,137,124,117,114,108,104,105,108,112,123,129,141,158,166,171,187,193,199,202,214,216,224,231,238,244,249,255,260,263,264,266,268,271,271,275,277,280,282,268,259,237,226,217,213,205,206,212,218,229,230,236,237,241,246,253,256,259,262,268,271,276,278,281,281,275,263,261,246,229,187,155,142,138,134,134,128,130,139,146,159,166,177,183,194,196,202,210,224,232,239,243,247,249,254,258,262,266,268,270,257,235,196,178,165,140,135,126,116,114,107,107,107,105,110,123,130,134,149,164,172,185,202,207,214,217,230,234,236,241,248,252,256,260,261,265,267,270,274,276,278,280,280,280,286,289,289,292,293,294,294,295,270,245,211,193,176,168,156,141,131,127,121,119,122,127,131,139,155,164,174,162,155,150,143,148,155,161,173,185,187,203,215,218,228,234,238,242,244,248,251,257,261,264,267,268,273,276,278,280,280]},\"selected\":{\"id\":\"12580\"},\"selection_policy\":{\"id\":\"12579\"}},\"id\":\"12565\",\"type\":\"ColumnDataSource\"},{\"attributes\":{\"line_alpha\":0.1,\"line_color\":\"blue\",\"line_width\":5,\"x\":{\"field\":\"x\"},\"y\":{\"field\":\"y\"}},\"id\":\"12567\",\"type\":\"Line\"},{\"attributes\":{\"line_color\":\"blue\",\"line_width\":5,\"x\":{\"field\":\"x\"},\"y\":{\"field\":\"y\"}},\"id\":\"12566\",\"type\":\"Line\"},{\"attributes\":{\"axis\":{\"id\":\"12545\"},\"coordinates\":null,\"dimension\":1,\"grid_line_alpha\":0.4,\"group\":null,\"ticker\":null},\"id\":\"12548\",\"type\":\"Grid\"},{\"attributes\":{},\"id\":\"12579\",\"type\":\"UnionRenderers\"},{\"attributes\":{\"source\":{\"id\":\"12565\"}},\"id\":\"12570\",\"type\":\"CDSView\"},{\"attributes\":{\"tools\":[{\"id\":\"12549\"},{\"id\":\"12550\"},{\"id\":\"12551\"},{\"id\":\"12552\"},{\"id\":\"12553\"},{\"id\":\"12554\"}]},\"id\":\"12556\",\"type\":\"Toolbar\"},{\"attributes\":{\"line_alpha\":0.2,\"line_color\":\"blue\",\"line_width\":5,\"x\":{\"field\":\"x\"},\"y\":{\"field\":\"y\"}},\"id\":\"12568\",\"type\":\"Line\"},{\"attributes\":{\"bottom_units\":\"screen\",\"coordinates\":null,\"fill_alpha\":0.5,\"fill_color\":\"lightgrey\",\"group\":null,\"left_units\":\"screen\",\"level\":\"overlay\",\"line_alpha\":1.0,\"line_color\":\"black\",\"line_dash\":[4,4],\"line_width\":2,\"right_units\":\"screen\",\"syncable\":false,\"top_units\":\"screen\"},\"id\":\"12555\",\"type\":\"BoxAnnotation\"},{\"attributes\":{\"axis_label\":\"Time\",\"axis_label_text_color\":\"white\",\"axis_line_color\":\"white\",\"coordinates\":null,\"formatter\":{\"id\":\"12577\"},\"group\":null,\"major_label_policy\":{\"id\":\"12578\"},\"major_label_text_color\":\"white\",\"major_tick_line_color\":\"white\",\"minor_tick_line_color\":\"white\",\"ticker\":{\"id\":\"12542\"}},\"id\":\"12541\",\"type\":\"LinearAxis\"},{\"attributes\":{},\"id\":\"12554\",\"type\":\"HelpTool\"},{\"attributes\":{},\"id\":\"12580\",\"type\":\"Selection\"},{\"attributes\":{},\"id\":\"12539\",\"type\":\"LinearScale\"},{\"attributes\":{},\"id\":\"12535\",\"type\":\"DataRange1d\"},{\"attributes\":{},\"id\":\"12542\",\"type\":\"BasicTicker\"},{\"attributes\":{},\"id\":\"12575\",\"type\":\"AllLabels\"},{\"attributes\":{\"axis\":{\"id\":\"12541\"},\"coordinates\":null,\"grid_line_alpha\":0.4,\"group\":null,\"ticker\":null},\"id\":\"12544\",\"type\":\"Grid\"}],\"root_ids\":[\"12532\"]},\"title\":\"Bokeh Application\",\"version\":\"2.4.2\"}};\n",
       "  const render_items = [{\"docid\":\"3d437bdf-d3da-4785-adab-96000d9aaaa6\",\"root_ids\":[\"12532\"],\"roots\":{\"12532\":\"86e5d95e-fc0a-4c19-8620-a00413b2a957\"}}];\n",
       "  root.Bokeh.embed.embed_items_notebook(docs_json, render_items);\n",
       "\n",
       "  }\n",
       "  if (root.Bokeh !== undefined) {\n",
       "    embed_document(root);\n",
       "  } else {\n",
       "    let attempts = 0;\n",
       "    const timer = setInterval(function(root) {\n",
       "      if (root.Bokeh !== undefined) {\n",
       "        clearInterval(timer);\n",
       "        embed_document(root);\n",
       "      } else {\n",
       "        attempts++;\n",
       "        if (attempts > 100) {\n",
       "          clearInterval(timer);\n",
       "          console.log(\"Bokeh: ERROR: Unable to run BokehJS code because BokehJS library is missing\");\n",
       "        }\n",
       "      }\n",
       "    }, 10, root)\n",
       "  }\n",
       "})(window);"
      ],
      "application/vnd.bokehjs_exec.v0+json": ""
     },
     "metadata": {
      "application/vnd.bokehjs_exec.v0+json": {
       "id": "12532"
      }
     },
     "output_type": "display_data"
    }
   ],
   "source": [
    "verstappen_fastest = verstappen.pick_fastest()\n",
    "ver_car_data = verstappen_fastest.get_car_data()\n",
    "t = ver_car_data['Time']\n",
    "vCar = ver_car_data['Speed']\n",
    "\n",
    "verstappen_lap30 = ff1_helpers.pick_lap(verstappen, 30)\n",
    "ver30_car_data = verstappen_lap30.get_car_data()\n",
    "t30 = ver30_car_data['Time']\n",
    "vCar30 = ver30_car_data['Speed']\n",
    "\n",
    "\n",
    "# fig, ax = plt.subplots()\n",
    "# ax.plot(t, vCar)\n",
    "# ax.set_xlabel('Time')\n",
    "# ax.set_ylabel('Speed [Km/h]')\n",
    "# ax.set_title('Verstappen Fastest Race Lap')\n",
    "# # ax.legend()\n",
    "# plt.show()\n",
    "\n",
    "d2 = [\n",
    "    {\n",
    "        'x': t,\n",
    "        'y': vCar,\n",
    "        'color': 'blue',\n",
    "        'legend_label': 'Fastest',\n",
    "        'line_width': 5\n",
    "    },\n",
    "    {\n",
    "        'x': t30,\n",
    "        'y': vCar30,\n",
    "        'color': 'red',\n",
    "        'legend_label': '30'\n",
    "    }\n",
    "]\n",
    "\n",
    "ff1_helpers.line(d2, title='Verstappen Fastest Race Lap', x_axis_label='Time', y_axis_label='Speed [km/h]')"
   ]
  },
  {
   "cell_type": "code",
   "execution_count": 47,
   "id": "92b5e375-a765-4b58-b7c1-674008b75f14",
   "metadata": {},
   "outputs": [
    {
     "data": {
      "text/html": [
       "\n",
       "\n",
       "\n",
       "\n",
       "\n",
       "\n",
       "  <div class=\"bk-root\" id=\"bfd5b77a-613e-456f-b711-b391b86f8fd6\" data-root-id=\"11984\"></div>\n"
      ]
     },
     "metadata": {},
     "output_type": "display_data"
    },
    {
     "data": {
      "application/javascript": [
       "(function(root) {\n",
       "  function embed_document(root) {\n",
       "    \n",
       "  const docs_json = {\"d4ad4564-70f3-46fe-bd44-39dbf738f465\":{\"defs\":[],\"roots\":{\"references\":[{\"attributes\":{\"background_fill_color\":\"#525151\",\"below\":[{\"id\":\"11993\"}],\"border_fill_color\":\"#525151\",\"center\":[{\"id\":\"11996\"},{\"id\":\"12000\"},{\"id\":\"12034\"}],\"left\":[{\"id\":\"11997\"}],\"renderers\":[{\"id\":\"12021\"},{\"id\":\"12040\"}],\"title\":{\"id\":\"12015\"},\"toolbar\":{\"id\":\"12008\"},\"x_range\":{\"id\":\"11985\"},\"x_scale\":{\"id\":\"11989\"},\"y_range\":{\"id\":\"11987\"},\"y_scale\":{\"id\":\"11991\"}},\"id\":\"11984\",\"subtype\":\"Figure\",\"type\":\"Plot\"},{\"attributes\":{},\"id\":\"12053\",\"type\":\"Selection\"},{\"attributes\":{\"coordinates\":null,\"group\":null,\"text\":\"PER v. SAI Fastest Qualifying Lap\",\"text_color\":\"white\"},\"id\":\"12015\",\"type\":\"Title\"},{\"attributes\":{},\"id\":\"11991\",\"type\":\"LinearScale\"},{\"attributes\":{},\"id\":\"12002\",\"type\":\"WheelZoomTool\"},{\"attributes\":{\"axis\":{\"id\":\"11993\"},\"coordinates\":null,\"grid_line_alpha\":0.4,\"group\":null,\"ticker\":null},\"id\":\"11996\",\"type\":\"Grid\"},{\"attributes\":{},\"id\":\"12001\",\"type\":\"PanTool\"},{\"attributes\":{},\"id\":\"12004\",\"type\":\"SaveTool\"},{\"attributes\":{\"line_alpha\":0.1,\"line_color\":\"#dc0000\",\"line_width\":2,\"x\":{\"field\":\"x\"},\"y\":{\"field\":\"y\"}},\"id\":\"12038\",\"type\":\"Line\"},{\"attributes\":{\"overlay\":{\"id\":\"12007\"}},\"id\":\"12003\",\"type\":\"BoxZoomTool\"},{\"attributes\":{},\"id\":\"12006\",\"type\":\"HelpTool\"},{\"attributes\":{\"label\":{\"value\":\"SAI\"},\"renderers\":[{\"id\":\"12040\"}]},\"id\":\"12055\",\"type\":\"LegendItem\"},{\"attributes\":{},\"id\":\"12005\",\"type\":\"ResetTool\"},{\"attributes\":{},\"id\":\"12052\",\"type\":\"UnionRenderers\"},{\"attributes\":{\"line_alpha\":0.2,\"line_color\":\"#dc0000\",\"line_width\":2,\"x\":{\"field\":\"x\"},\"y\":{\"field\":\"y\"}},\"id\":\"12039\",\"type\":\"Line\"},{\"attributes\":{},\"id\":\"11994\",\"type\":\"BasicTicker\"},{\"attributes\":{},\"id\":\"11985\",\"type\":\"DataRange1d\"},{\"attributes\":{},\"id\":\"11989\",\"type\":\"LinearScale\"},{\"attributes\":{\"source\":{\"id\":\"12036\"}},\"id\":\"12041\",\"type\":\"CDSView\"},{\"attributes\":{},\"id\":\"11987\",\"type\":\"DataRange1d\"},{\"attributes\":{\"coordinates\":null,\"data_source\":{\"id\":\"12036\"},\"glyph\":{\"id\":\"12037\"},\"group\":null,\"hover_glyph\":null,\"muted_glyph\":{\"id\":\"12039\"},\"nonselection_glyph\":{\"id\":\"12038\"},\"view\":{\"id\":\"12041\"}},\"id\":\"12040\",\"type\":\"GlyphRenderer\"},{\"attributes\":{\"axis_label\":\"Speed [km/h]\",\"axis_label_text_color\":\"white\",\"axis_line_color\":\"white\",\"coordinates\":null,\"formatter\":{\"id\":\"12026\"},\"group\":null,\"major_label_policy\":{\"id\":\"12027\"},\"major_label_text_color\":\"white\",\"major_tick_line_color\":\"white\",\"minor_tick_line_color\":\"white\",\"ticker\":{\"id\":\"11998\"}},\"id\":\"11997\",\"type\":\"LinearAxis\"},{\"attributes\":{\"data\":{\"x\":{\"__ndarray__\":\"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\",\"dtype\":\"float64\",\"order\":\"little\",\"shape\":[306]},\"y\":[276,278,281,282,283,284,285,285,287,288,287,289,289,290,290,291,292,291,292,293,292,293,293,293,294,294,295,294,295,296,296,295,297,297,295,294,294,291,289,286,257,222,194,181,169,156,152,154,160,165,175,176,182,191,200,203,224,230,234,238,244,246,248,254,259,260,260,264,270,273,278,279,281,282,284,284,273,267,256,238,222,212,190,179,167,166,166,171,181,190,198,204,210,213,217,225,232,237,237,213,188,169,155,141,134,128,124,121,114,109,112,115,124,127,135,142,148,164,164,176,188,194,200,207,209,218,225,235,238,246,249,253,253,258,260,261,263,266,269,270,272,274,276,278,280,281,281,266,258,233,218,209,206,205,205,209,212,223,230,236,242,249,252,259,262,265,268,272,274,277,279,276,267,266,255,231,208,199,181,164,149,140,135,135,138,141,147,160,170,179,189,201,204,209,215,227,229,235,240,246,253,257,260,263,264,267,268,267,228,205,174,161,144,133,126,120,117,112,105,99,94,100,104,113,117,131,140,155,170,179,187,198,205,211,214,225,230,234,239,246,252,258,263,267,268,271,274,274,278,281,281,281,281,289,290,292,294,294,293,282,257,230,189,172,166,156,141,135,125,122,120,125,131,138,154,163,172,179,181,171,160,152,152,156,160,169,180,187,200,213,223,223,232,238,241,247,250,254,260,264,267,270,275,278,278,280]},\"selected\":{\"id\":\"12053\"},\"selection_policy\":{\"id\":\"12052\"}},\"id\":\"12036\",\"type\":\"ColumnDataSource\"},{\"attributes\":{\"axis\":{\"id\":\"11997\"},\"coordinates\":null,\"dimension\":1,\"grid_line_alpha\":0.4,\"group\":null,\"ticker\":null},\"id\":\"12000\",\"type\":\"Grid\"},{\"attributes\":{\"line_color\":\"#dc0000\",\"line_width\":2,\"x\":{\"field\":\"x\"},\"y\":{\"field\":\"y\"}},\"id\":\"12037\",\"type\":\"Line\"},{\"attributes\":{\"axis_label\":\"Time\",\"axis_label_text_color\":\"white\",\"axis_line_color\":\"white\",\"coordinates\":null,\"formatter\":{\"id\":\"12029\"},\"group\":null,\"major_label_policy\":{\"id\":\"12030\"},\"major_label_text_color\":\"white\",\"major_tick_line_color\":\"white\",\"minor_tick_line_color\":\"white\",\"ticker\":{\"id\":\"11994\"}},\"id\":\"11993\",\"type\":\"LinearAxis\"},{\"attributes\":{\"coordinates\":null,\"group\":null,\"items\":[{\"id\":\"12035\"},{\"id\":\"12055\"}]},\"id\":\"12034\",\"type\":\"Legend\"},{\"attributes\":{\"line_alpha\":0.1,\"line_color\":\"#0600ef\",\"line_width\":2,\"x\":{\"field\":\"x\"},\"y\":{\"field\":\"y\"}},\"id\":\"12019\",\"type\":\"Line\"},{\"attributes\":{\"data\":{\"x\":{\"__ndarray__\":\"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\",\"dtype\":\"float64\",\"order\":\"little\",\"shape\":[324]},\"y\":[272,274,277,279,280,281,283,283,285,287,287,289,289,291,292,293,293,293,294,294,295,295,295,296,296,297,297,297,298,298,299,299,299,300,300,301,276,231,205,192,172,149,141,139,132,125,124,121,125,131,135,133,135,137,145,152,165,176,188,194,205,212,223,232,235,239,247,248,256,260,264,267,267,271,275,277,280,281,283,261,244,230,213,201,190,172,167,154,149,144,141,142,145,152,164,174,184,198,208,214,219,228,230,202,168,147,139,131,116,109,102,98,93,88,86,90,94,99,110,112,123,140,150,163,171,179,190,197,203,214,217,224,231,235,239,245,248,251,256,259,263,265,267,270,271,274,277,279,273,251,223,209,199,191,181,186,195,200,202,211,213,221,227,232,236,242,246,251,254,261,267,270,272,272,256,232,225,218,200,187,174,146,143,140,120,112,102,96,92,89,88,87,86,87,88,90,95,98,104,106,109,111,121,130,136,145,152,167,175,182,196,206,208,214,234,240,246,248,245,236,236,202,162,149,138,127,112,102,95,94,89,88,83,81,84,88,94,103,110,121,138,158,171,179,191,202,202,219,222,231,236,246,250,253,256,260,263,266,271,273,274,277,278,286,287,287,289,280,264,229,213,197,169,150,144,134,125,119,112,108,105,102,100,98,95,95,98,103,108,114,116,121,123,118,114,111,110,110,109,113,116,126,137,155,163,176,183,191,201,204,214,222,227,233,238,247,251,253,259,261,264,265,267,270]},\"selected\":{\"id\":\"12032\"},\"selection_policy\":{\"id\":\"12031\"}},\"id\":\"12017\",\"type\":\"ColumnDataSource\"},{\"attributes\":{},\"id\":\"12032\",\"type\":\"Selection\"},{\"attributes\":{\"line_color\":\"#0600ef\",\"line_width\":2,\"x\":{\"field\":\"x\"},\"y\":{\"field\":\"y\"}},\"id\":\"12018\",\"type\":\"Line\"},{\"attributes\":{\"line_alpha\":0.2,\"line_color\":\"#0600ef\",\"line_width\":2,\"x\":{\"field\":\"x\"},\"y\":{\"field\":\"y\"}},\"id\":\"12020\",\"type\":\"Line\"},{\"attributes\":{\"source\":{\"id\":\"12017\"}},\"id\":\"12022\",\"type\":\"CDSView\"},{\"attributes\":{\"label\":{\"value\":\"PER\"},\"renderers\":[{\"id\":\"12021\"}]},\"id\":\"12035\",\"type\":\"LegendItem\"},{\"attributes\":{\"coordinates\":null,\"data_source\":{\"id\":\"12017\"},\"glyph\":{\"id\":\"12018\"},\"group\":null,\"hover_glyph\":null,\"muted_glyph\":{\"id\":\"12020\"},\"nonselection_glyph\":{\"id\":\"12019\"},\"view\":{\"id\":\"12022\"}},\"id\":\"12021\",\"type\":\"GlyphRenderer\"},{\"attributes\":{},\"id\":\"12027\",\"type\":\"AllLabels\"},{\"attributes\":{},\"id\":\"11998\",\"type\":\"BasicTicker\"},{\"attributes\":{},\"id\":\"12026\",\"type\":\"BasicTickFormatter\"},{\"attributes\":{},\"id\":\"12030\",\"type\":\"AllLabels\"},{\"attributes\":{\"tools\":[{\"id\":\"12001\"},{\"id\":\"12002\"},{\"id\":\"12003\"},{\"id\":\"12004\"},{\"id\":\"12005\"},{\"id\":\"12006\"}]},\"id\":\"12008\",\"type\":\"Toolbar\"},{\"attributes\":{},\"id\":\"12031\",\"type\":\"UnionRenderers\"},{\"attributes\":{},\"id\":\"12029\",\"type\":\"BasicTickFormatter\"},{\"attributes\":{\"bottom_units\":\"screen\",\"coordinates\":null,\"fill_alpha\":0.5,\"fill_color\":\"lightgrey\",\"group\":null,\"left_units\":\"screen\",\"level\":\"overlay\",\"line_alpha\":1.0,\"line_color\":\"black\",\"line_dash\":[4,4],\"line_width\":2,\"right_units\":\"screen\",\"syncable\":false,\"top_units\":\"screen\"},\"id\":\"12007\",\"type\":\"BoxAnnotation\"}],\"root_ids\":[\"11984\"]},\"title\":\"Bokeh Application\",\"version\":\"2.4.2\"}};\n",
       "  const render_items = [{\"docid\":\"d4ad4564-70f3-46fe-bd44-39dbf738f465\",\"root_ids\":[\"11984\"],\"roots\":{\"11984\":\"bfd5b77a-613e-456f-b711-b391b86f8fd6\"}}];\n",
       "  root.Bokeh.embed.embed_items_notebook(docs_json, render_items);\n",
       "\n",
       "  }\n",
       "  if (root.Bokeh !== undefined) {\n",
       "    embed_document(root);\n",
       "  } else {\n",
       "    let attempts = 0;\n",
       "    const timer = setInterval(function(root) {\n",
       "      if (root.Bokeh !== undefined) {\n",
       "        clearInterval(timer);\n",
       "        embed_document(root);\n",
       "      } else {\n",
       "        attempts++;\n",
       "        if (attempts > 100) {\n",
       "          clearInterval(timer);\n",
       "          console.log(\"Bokeh: ERROR: Unable to run BokehJS code because BokehJS library is missing\");\n",
       "        }\n",
       "      }\n",
       "    }, 10, root)\n",
       "  }\n",
       "})(window);"
      ],
      "application/vnd.bokehjs_exec.v0+json": ""
     },
     "metadata": {
      "application/vnd.bokehjs_exec.v0+json": {
       "id": "11984"
      }
     },
     "output_type": "display_data"
    }
   ],
   "source": [
    "ff1_helpers.compare_session_bests(q_session, 'PER', 'SAI')"
   ]
  },
  {
   "cell_type": "code",
   "execution_count": 74,
   "id": "0e80e6b1-e9af-4031-a2dc-87ce8b088e01",
   "metadata": {},
   "outputs": [
    {
     "data": {
      "text/html": [
       "\n",
       "\n",
       "\n",
       "\n",
       "\n",
       "\n",
       "  <div class=\"bk-root\" id=\"54f9b3d0-84df-4585-a4b7-c97aacf8f3a4\" data-root-id=\"10694\"></div>\n"
      ]
     },
     "metadata": {},
     "output_type": "display_data"
    },
    {
     "data": {
      "application/javascript": [
       "(function(root) {\n",
       "  function embed_document(root) {\n",
       "    \n",
       "  const docs_json = {\"76818b79-76a8-49b1-9fd5-101161677432\":{\"defs\":[],\"roots\":{\"references\":[{\"attributes\":{\"background_fill_color\":\"#525151\",\"below\":[{\"id\":\"10705\"}],\"border_fill_color\":\"#525151\",\"center\":[{\"id\":\"10708\"},{\"id\":\"10712\"},{\"id\":\"10743\"}],\"left\":[{\"id\":\"10709\"}],\"renderers\":[{\"id\":\"10731\"},{\"id\":\"10749\"}],\"title\":{\"id\":\"10695\"},\"toolbar\":{\"id\":\"10720\"},\"x_range\":{\"id\":\"10697\"},\"x_scale\":{\"id\":\"10701\"},\"y_range\":{\"id\":\"10699\"},\"y_scale\":{\"id\":\"10703\"}},\"id\":\"10694\",\"subtype\":\"Figure\",\"type\":\"Plot\"},{\"attributes\":{\"axis_label\":\"Time\",\"axis_label_text_color\":\"white\",\"axis_line_color\":\"white\",\"coordinates\":null,\"formatter\":{\"id\":\"10738\"},\"group\":null,\"major_label_policy\":{\"id\":\"10739\"},\"major_label_text_color\":\"white\",\"major_tick_line_color\":\"white\",\"minor_tick_line_color\":\"white\",\"ticker\":{\"id\":\"10706\"}},\"id\":\"10705\",\"type\":\"LinearAxis\"},{\"attributes\":{\"axis_label\":\"Speed [km/h]\",\"axis_label_text_color\":\"white\",\"axis_line_color\":\"white\",\"coordinates\":null,\"formatter\":{\"id\":\"10735\"},\"group\":null,\"major_label_policy\":{\"id\":\"10736\"},\"major_label_text_color\":\"white\",\"major_tick_line_color\":\"white\",\"minor_tick_line_color\":\"white\",\"ticker\":{\"id\":\"10710\"}},\"id\":\"10709\",\"type\":\"LinearAxis\"},{\"attributes\":{},\"id\":\"10710\",\"type\":\"BasicTicker\"},{\"attributes\":{},\"id\":\"10738\",\"type\":\"BasicTickFormatter\"},{\"attributes\":{\"line_alpha\":0.2,\"line_color\":\"#dc0000\",\"line_width\":2,\"x\":{\"field\":\"x\"},\"y\":{\"field\":\"y\"}},\"id\":\"10748\",\"type\":\"Line\"},{\"attributes\":{},\"id\":\"10718\",\"type\":\"HelpTool\"},{\"attributes\":{},\"id\":\"10713\",\"type\":\"PanTool\"},{\"attributes\":{},\"id\":\"10735\",\"type\":\"BasicTickFormatter\"},{\"attributes\":{},\"id\":\"10740\",\"type\":\"UnionRenderers\"},{\"attributes\":{},\"id\":\"10760\",\"type\":\"UnionRenderers\"},{\"attributes\":{\"line_color\":\"#dc0000\",\"line_width\":2,\"x\":{\"field\":\"x\"},\"y\":{\"field\":\"y\"}},\"id\":\"10746\",\"type\":\"Line\"},{\"attributes\":{\"source\":{\"id\":\"10727\"}},\"id\":\"10732\",\"type\":\"CDSView\"},{\"attributes\":{\"axis\":{\"id\":\"10709\"},\"coordinates\":null,\"dimension\":1,\"grid_line_alpha\":0.4,\"group\":null,\"ticker\":null},\"id\":\"10712\",\"type\":\"Grid\"},{\"attributes\":{},\"id\":\"10697\",\"type\":\"DataRange1d\"},{\"attributes\":{},\"id\":\"10717\",\"type\":\"ResetTool\"},{\"attributes\":{},\"id\":\"10761\",\"type\":\"Selection\"},{\"attributes\":{\"line_alpha\":0.1,\"line_color\":\"#0600ef\",\"line_width\":2,\"x\":{\"field\":\"x\"},\"y\":{\"field\":\"y\"}},\"id\":\"10729\",\"type\":\"Line\"},{\"attributes\":{},\"id\":\"10741\",\"type\":\"Selection\"},{\"attributes\":{\"coordinates\":null,\"data_source\":{\"id\":\"10745\"},\"glyph\":{\"id\":\"10746\"},\"group\":null,\"hover_glyph\":null,\"muted_glyph\":{\"id\":\"10748\"},\"nonselection_glyph\":{\"id\":\"10747\"},\"view\":{\"id\":\"10750\"}},\"id\":\"10749\",\"type\":\"GlyphRenderer\"},{\"attributes\":{\"data\":{\"x\":{\"__ndarray__\":\"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\",\"dtype\":\"float64\",\"order\":\"little\",\"shape\":[323]},\"y\":[295,299,304,308,312,314,316,317,317,321,323,292,260,216,180,163,143,132,118,113,103,102,96,101,111,121,132,152,160,162,169,180,195,198,203,206,205,212,219,221,232,235,241,246,251,255,260,262,267,271,273,276,278,279,282,284,284,287,288,291,287,273,267,260,258,252,251,252,252,240,228,227,224,228,230,234,239,242,241,236,233,233,232,223,204,193,175,162,146,140,138,132,129,128,132,138,147,152,167,179,195,199,215,221,230,238,242,248,253,258,261,264,271,276,280,284,287,290,293,295,297,300,301,303,304,305,306,308,312,315,317,319,321,323,324,325,328,329,330,331,332,333,335,335,338,339,340,341,341,342,342,342,342,307,276,244,220,191,164,138,138,119,108,102,93,90,85,90,95,106,106,132,135,131,123,120,116,110,108,106,104,103,106,110,117,125,134,145,150,164,176,173,167,159,148,135,124,109,104,84,77,70,69,79,75,75,77,83,89,92,99,117,119,99,87,80,73,70,73,85,117,128,140,151,170,179,194,204,204,223,230,234,241,246,252,258,261,265,270,274,277,279,283,285,287,287,290,292,294,296,299,302,304,308,309,312,315,317,319,320,321,322,324,326,326,326,329,330,332,332,333,333,334,334,334,211,184,152,131,124,108,99,93,84,79,76,74,70,67,70,74,76,84,90,100,108,116,124,141,151,170,175,183,194,206,217,222,227,232,240,247,249,256,259,263,267,270,274,276,280,283,287,291]},\"selected\":{\"id\":\"10741\"},\"selection_policy\":{\"id\":\"10740\"}},\"id\":\"10727\",\"type\":\"ColumnDataSource\"},{\"attributes\":{\"overlay\":{\"id\":\"10719\"}},\"id\":\"10715\",\"type\":\"BoxZoomTool\"},{\"attributes\":{\"line_color\":\"#0600ef\",\"line_width\":2,\"x\":{\"field\":\"x\"},\"y\":{\"field\":\"y\"}},\"id\":\"10728\",\"type\":\"Line\"},{\"attributes\":{},\"id\":\"10701\",\"type\":\"LinearScale\"},{\"attributes\":{},\"id\":\"10714\",\"type\":\"WheelZoomTool\"},{\"attributes\":{\"data\":{\"x\":{\"__ndarray__\":\"MzMzMzMz0z8fhetRuB7lPxSuR+F6FO4/mpmZmZmZ8T9cj8L1KFz3P3sUrkfhevw/CtejcD0K/z9xPQrXo3ABQLgehetRuAJAPQrXo3A9BkCF61G4HoUHQHE9CtejcAlAAAAAAAAADECamZmZmZkNQP7UeOkmMQ9Anu+nxku3EEBCYOXQIlsRQA4tsp3vJxJABFYOLbIdE0D6fmq8dBMUQAAAAAAAABZA9ihcj8L1FkBmZmZmZmYYQArXo3A9ChlArkfhehSuGUCkcD0K16MaQBSuR+F6FBxA4XoUrkfhHEApXI/C9SgeQPYoXI/C9R5AmpmZmZmZH0BI4XoUrkcgQK5H4XoUriBAj8L1KFyPIUAK16NwPQoiQHE9CtejcCJAw/UoXI/CIkAUrkfhehQjQHsUrkfheiNAzczMzMzMI0BxPQrXo3AkQIcW2c73EyVAAiuHFtmOJUBU46WbxOAlQPhT46WbhCZAc2iR7Xz/JkBSuB6F61EnQM3MzMzMzCdAhetRuB6FKEDsUbgehesoQD0K16NwPSlAuB6F61G4KUAfhetRuB4qQHE9CtejcCpAFK5H4XoUK0CPwvUoXI8rQHE9CtejcCxAAAAAAAAALUB7FK5H4XotQM3MzMzMzC1AMzMzMzMzLkDXo3A9CtcuQClcj8L1KC9ApHA9CtejL0CPwvUoXA8wQM3MzMzMTDBAFK5H4XqUMEBxPQrXo/AwQAaBlUOLTDFARIts5/uJMUCgGi/dJOYxQOf7qfHSLTJA4XoUrkdhMkAK16NwPYoyQD0K16NwvTJAhetRuB4FM0DXo3A9ClczQArXo3A9ijNASOF6FK7HM0BxPQrXo/AzQKRwPQrXIzRA16NwPQpXNEAAAAAAAIA0QFK4HoXr0TRApHA9CtcjNUDhehSuR2E1QClcj8L1qDVAZmZmZmbmNUDNzMzMzEw2QB+F61G4njZAXI/C9SjcNkCamZmZmRk3QOxRuB6FazdAPQrXo3C9N0CgGi/dJOY3QOf7qfHSLThARIts5/uJOEBt5/up8bI4QHE9Ctej8DhArkfhehQuOUDXo3A9Clc5QFyPwvUo3DlAhetRuB4FOkC4HoXrUTg6QOxRuB6FazpAUrgehevROkB7FK5H4fo6QK5H4XoULjtA7FG4HoVrO0AfhetRuJ47QArXo3A9ijxASOF6FK7HPEC4HoXrUTg9QPYoXI/CdT1APQrXo3C9PUCamZmZmRk+QOF6FK5HYT5ATmIQWDmUPkCBlUOLbMc+QL6fGi/dBD9AEFg5tMhWP0AK16NwPYo/QD0K16NwvT9AexSuR+H6P0BxPQrXozBAQB+F61G4XkBAPQrXo3B9QEBSuB6F65FAQPYoXI/CtUBAFK5H4XrUQEC4HoXrUfhAQM3MzMzMDEFA7FG4HoUrQUCPwvUoXE9BQK5H4XoUbkFAZmZmZmamQUCF61G4HsVBQK5H4XoU7kFASOF6FK4HQkBmZmZmZiZCQAAAAAAAQEJApHA9CtdjQkDXo3A9CpdCQI2XbhKDsEJAJzEIrBzKQkBQjZduEvNCQFyPwvUoHENAj8L1KFxPQ0C4HoXrUXhDQM3MzMzMjENAexSuR+G6Q0CkcD0K1+NDQMP1KFyPAkRAXI/C9SgcRECF61G4HkVEQClcj8L1aERAXI/C9SicREB7FK5H4bpEQJqZmZmZ2URASOF6FK4HRUDsUbgehStFQIXrUbgeRUVAH4XrUbheRUBSuB6F65FFQOxRuB6Fq0VAhetRuB7FRUCkcD0K1+NFQN9PjZduAkZA/tR46SYhRkASg8DKoTVGQK5H4XoUbkZASOF6FK6HRkB7FK5H4bpGQKRwPQrX40ZASOF6FK4HR0Bcj8L1KBxHQHsUrkfhOkdAFK5H4XpUR0AzMzMzM3NHQEjhehSuh0dA7FG4HoWrR0CF61G4HsVHQB+F61G43kdAPQrXo3D9R0DhehSuRyFIQHsUrkfhOkhAH4XrUbheSEBI4XoUrodIQOF6FK5HoUhAhetRuB7FSECuR+F6FO5IQFyPwvUoHElAhetRuB5FSUDVeOkmMXhJQM3MzMzMjElA7FG4HoWrSUCkcD0K1+NJQNejcD0KF0pACtejcD1KSkCkcD0K12NKQFK4HoXrkUpAAAAAAADASkCkcD0K1+NKQEjhehSuB0tAXI/C9SgcS0CF61G4HkVLQClcj8L1aEtASOF6FK6HS0Bcj8L1KJxLQPYoXI/CtUtAH4XrUbjeS0A9CtejcP1LQPYoXI/CNUxAj8L1KFxPTECkcD0K12NMQLgehetReExA16NwPQqXTEAUrkfhetRMQK5H4XoU7kxAzczMzMwMTUBmZmZmZiZNQArXo3A9Sk1AMzMzMzNzTUBmZmZmZqZNQArXo3A9yk1APQrXo3D9TUDXo3A9ChdOQHE9CtejME5AhetRuB5FTkApXI/C9WhOQArXo3A9yk5AH4XrUbjeTkBI4XoUrgdPQHsUrkfhOk9ArkfhehRuT0DNzMzMzIxPQHsUrkfhuk9AH4XrUbjeT0DhehSuRwFQQPYoXI/CFVBACtejcD0qUECamZmZmTlQQHE9CtejUFBAAAAAAABgUEAUrkfhenRQQGZmZmZmhlBAPQrXo3CdUEDXo3A9CrdQQClcj8L1yFBAAAAAAADgUEAK16NwPepQQKRwPQrXA1FAMzMzMzMTUUCPwvUoXC9RQB+F61G4PlFArkfhehROUUAAAAAAAGBRQJqZmZmZeVFApHA9CteDUUCuR+F6FI5RQAAAAAAAoFFAUrgeheuxUUCkcD0K18NRQK5H4XoUzlFAPQrXo3DdUUDNzMzMzOxRQNejcD0K91FA7FG4HoULUkC4HoXrURhSQFK4HoXrMVJAH4XrUbg+UkApXI/C9UhSQDMzMzMzU1JACtejcD1qUkBmZmZmZoZSQHE9CtejkFJAzczMzMysUkDhehSuR8FSQK5H4XoUzlJAexSuR+HaUkCF61G4HuVSQJqZmZmZ+VJAKVyPwvUIU0C4HoXrURhTQI/C9ShcL1NAXI/C9Sg8U0ApXI/C9UhTQG3n+6nxWlNAhetRuB5lU0CPwvUoXG9TQB+F61G4flNAcT0K16OQU0DD9Shcj6JTQNejcD0Kt1NA7FG4HoXLU0AAAAAAAOBTQI/C9Shc71NAH4XrUbj+U0CuR+F6FA5UQAAAAAAAIFRACtejcD0qVEAfhetRuD5UQLgehetRWFRAw/UoXI9iVECPwvUoXG9UQB+F61G4flRAcT0K16OQVEBI4XoUrqdUQB+F61G4vlRAexSuR+HaVEBI4XoUrudUQFK4HoXr8VRAEFg5tMj+VEBxPQrXoxBVQMP1KFyPIlVA16NwPQo3VUAzMzMzM1NVQAAAAAAAYFVACtejcD1qVUApXI/C9YhVQMP1KFyPolVAmpmZmZm5VUDsUbgehctVQPYoXI/C1VVAw/UoXI/iVUAUrkfhevRVQB+F61G4/lVA7FG4HoULVkAAAAAAACBWQArXo3A9KlZA\",\"dtype\":\"float64\",\"order\":\"little\",\"shape\":[330]},\"y\":[294,300,302,304,308,310,310,312,312,314,314,308,261,230,201,167,157,150,128,120,107,101,95,95,95,100,109,117,132,143,150,155,160,169,181,187,193,197,204,207,209,212,217,221,230,233,238,238,247,249,251,255,257,259,262,266,272,275,277,279,279,282,284,285,286,287,288,287,276,271,267,263,259,259,258,256,245,238,233,230,231,228,228,230,235,245,246,247,241,234,234,235,233,209,195,189,167,163,160,148,145,132,131,130,133,142,146,150,162,171,207,217,228,234,242,251,257,259,264,268,273,276,279,281,286,290,293,293,296,299,300,301,302,303,304,308,309,312,314,315,316,319,321,321,322,325,326,326,327,328,329,329,331,331,332,332,334,335,335,335,335,336,336,333,332,287,252,209,172,162,127,118,102,92,86,86,88,91,96,99,110,120,130,142,140,135,130,114,109,105,103,102,106,112,116,123,139,159,173,177,173,149,136,113,108,95,86,77,76,73,75,77,75,75,77,78,85,103,111,121,116,103,90,77,71,74,77,81,84,90,136,143,159,179,198,205,218,224,232,239,247,251,258,261,265,269,274,278,280,283,284,288,290,293,297,298,301,304,306,306,308,310,311,312,313,313,315,316,317,318,319,319,320,321,321,321,322,322,323,323,324,323,323,317,282,228,200,167,144,134,115,99,90,76,71,67,65,66,69,73,77,83,93,101,108,120,134,149,164,185,193,198,198,214,219,231,241,246,251,256,262,268,272,274,276,279,281,283,287,288]},\"selected\":{\"id\":\"10761\"},\"selection_policy\":{\"id\":\"10760\"}},\"id\":\"10745\",\"type\":\"ColumnDataSource\"},{\"attributes\":{},\"id\":\"10699\",\"type\":\"DataRange1d\"},{\"attributes\":{\"label\":{\"value\":\"LEC\"},\"renderers\":[{\"id\":\"10749\"}]},\"id\":\"10763\",\"type\":\"LegendItem\"},{\"attributes\":{\"line_alpha\":0.2,\"line_color\":\"#0600ef\",\"line_width\":2,\"x\":{\"field\":\"x\"},\"y\":{\"field\":\"y\"}},\"id\":\"10730\",\"type\":\"Line\"},{\"attributes\":{\"source\":{\"id\":\"10745\"}},\"id\":\"10750\",\"type\":\"CDSView\"},{\"attributes\":{},\"id\":\"10736\",\"type\":\"AllLabels\"},{\"attributes\":{},\"id\":\"10716\",\"type\":\"SaveTool\"},{\"attributes\":{\"axis\":{\"id\":\"10705\"},\"coordinates\":null,\"grid_line_alpha\":0.4,\"group\":null,\"ticker\":null},\"id\":\"10708\",\"type\":\"Grid\"},{\"attributes\":{\"bottom_units\":\"screen\",\"coordinates\":null,\"fill_alpha\":0.5,\"fill_color\":\"lightgrey\",\"group\":null,\"left_units\":\"screen\",\"level\":\"overlay\",\"line_alpha\":1.0,\"line_color\":\"black\",\"line_dash\":[4,4],\"line_width\":2,\"right_units\":\"screen\",\"syncable\":false,\"top_units\":\"screen\"},\"id\":\"10719\",\"type\":\"BoxAnnotation\"},{\"attributes\":{},\"id\":\"10706\",\"type\":\"BasicTicker\"},{\"attributes\":{\"coordinates\":null,\"group\":null,\"items\":[{\"id\":\"10744\"},{\"id\":\"10763\"}]},\"id\":\"10743\",\"type\":\"Legend\"},{\"attributes\":{},\"id\":\"10703\",\"type\":\"LinearScale\"},{\"attributes\":{\"tools\":[{\"id\":\"10713\"},{\"id\":\"10714\"},{\"id\":\"10715\"},{\"id\":\"10716\"},{\"id\":\"10717\"},{\"id\":\"10718\"}]},\"id\":\"10720\",\"type\":\"Toolbar\"},{\"attributes\":{\"label\":{\"value\":\"VER\"},\"renderers\":[{\"id\":\"10731\"}]},\"id\":\"10744\",\"type\":\"LegendItem\"},{\"attributes\":{\"coordinates\":null,\"group\":null,\"text\":\"VER v. LEC Fastest Qualifying Lap\",\"text_color\":\"white\"},\"id\":\"10695\",\"type\":\"Title\"},{\"attributes\":{\"coordinates\":null,\"data_source\":{\"id\":\"10727\"},\"glyph\":{\"id\":\"10728\"},\"group\":null,\"hover_glyph\":null,\"muted_glyph\":{\"id\":\"10730\"},\"nonselection_glyph\":{\"id\":\"10729\"},\"view\":{\"id\":\"10732\"}},\"id\":\"10731\",\"type\":\"GlyphRenderer\"},{\"attributes\":{},\"id\":\"10739\",\"type\":\"AllLabels\"},{\"attributes\":{\"line_alpha\":0.1,\"line_color\":\"#dc0000\",\"line_width\":2,\"x\":{\"field\":\"x\"},\"y\":{\"field\":\"y\"}},\"id\":\"10747\",\"type\":\"Line\"}],\"root_ids\":[\"10694\"]},\"title\":\"Bokeh Application\",\"version\":\"2.4.2\"}};\n",
       "  const render_items = [{\"docid\":\"76818b79-76a8-49b1-9fd5-101161677432\",\"root_ids\":[\"10694\"],\"roots\":{\"10694\":\"54f9b3d0-84df-4585-a4b7-c97aacf8f3a4\"}}];\n",
       "  root.Bokeh.embed.embed_items_notebook(docs_json, render_items);\n",
       "\n",
       "  }\n",
       "  if (root.Bokeh !== undefined) {\n",
       "    embed_document(root);\n",
       "  } else {\n",
       "    let attempts = 0;\n",
       "    const timer = setInterval(function(root) {\n",
       "      if (root.Bokeh !== undefined) {\n",
       "        clearInterval(timer);\n",
       "        embed_document(root);\n",
       "      } else {\n",
       "        attempts++;\n",
       "        if (attempts > 100) {\n",
       "          clearInterval(timer);\n",
       "          console.log(\"Bokeh: ERROR: Unable to run BokehJS code because BokehJS library is missing\");\n",
       "        }\n",
       "      }\n",
       "    }, 10, root)\n",
       "  }\n",
       "})(window);"
      ],
      "application/vnd.bokehjs_exec.v0+json": ""
     },
     "metadata": {
      "application/vnd.bokehjs_exec.v0+json": {
       "id": "10694"
      }
     },
     "output_type": "display_data"
    }
   ],
   "source": [
    "# miami_q_session = fastf1.get_session(2022, 'Miami', 'Q')\n",
    "# miami_q_session.load()\n",
    "\n",
    "ff1_helpers.compare_session_bests(miami_q_session, 'VER', 'LEC')"
   ]
  },
  {
   "cell_type": "code",
   "execution_count": 13,
   "id": "0b7484ed-60e2-4c8c-b109-b6d5bb647840",
   "metadata": {},
   "outputs": [
    {
     "data": {
      "text/html": [
       "\n",
       "\n",
       "\n",
       "\n",
       "\n",
       "\n",
       "  <div class=\"bk-root\" id=\"c5cf42d7-0e3d-4fe8-b42f-74af48628116\" data-root-id=\"1153\"></div>\n"
      ]
     },
     "metadata": {},
     "output_type": "display_data"
    },
    {
     "data": {
      "application/javascript": [
       "(function(root) {\n",
       "  function embed_document(root) {\n",
       "    \n",
       "  const docs_json = {\"c105d2f5-bd6a-4c3f-bede-6d27cafa5c9d\":{\"defs\":[],\"roots\":{\"references\":[{\"attributes\":{\"background_fill_color\":\"#525151\",\"below\":[{\"id\":\"1162\"}],\"border_fill_color\":\"#525151\",\"center\":[{\"id\":\"1165\"},{\"id\":\"1169\"},{\"id\":\"1203\"}],\"left\":[{\"id\":\"1166\"}],\"renderers\":[{\"id\":\"1190\"},{\"id\":\"1209\"}],\"title\":{\"id\":\"1184\"},\"toolbar\":{\"id\":\"1177\"},\"x_range\":{\"id\":\"1154\"},\"x_scale\":{\"id\":\"1158\"},\"y_range\":{\"id\":\"1156\"},\"y_scale\":{\"id\":\"1160\"}},\"id\":\"1153\",\"subtype\":\"Figure\",\"type\":\"Plot\"},{\"attributes\":{},\"id\":\"1196\",\"type\":\"AllLabels\"},{\"attributes\":{\"coordinates\":null,\"data_source\":{\"id\":\"1186\"},\"glyph\":{\"id\":\"1187\"},\"group\":null,\"hover_glyph\":null,\"muted_glyph\":{\"id\":\"1189\"},\"nonselection_glyph\":{\"id\":\"1188\"},\"view\":{\"id\":\"1191\"}},\"id\":\"1190\",\"type\":\"GlyphRenderer\"},{\"attributes\":{\"coordinates\":null,\"data_source\":{\"id\":\"1205\"},\"glyph\":{\"id\":\"1206\"},\"group\":null,\"hover_glyph\":null,\"muted_glyph\":{\"id\":\"1208\"},\"nonselection_glyph\":{\"id\":\"1207\"},\"view\":{\"id\":\"1210\"}},\"id\":\"1209\",\"type\":\"GlyphRenderer\"},{\"attributes\":{},\"id\":\"1174\",\"type\":\"ResetTool\"},{\"attributes\":{},\"id\":\"1198\",\"type\":\"BasicTickFormatter\"},{\"attributes\":{},\"id\":\"1221\",\"type\":\"UnionRenderers\"},{\"attributes\":{\"line_alpha\":0.2,\"line_color\":\"#dc0000\",\"line_width\":2,\"x\":{\"field\":\"x\"},\"y\":{\"field\":\"y\"}},\"id\":\"1208\",\"type\":\"Line\"},{\"attributes\":{},\"id\":\"1167\",\"type\":\"BasicTicker\"},{\"attributes\":{\"line_color\":\"#0600ef\",\"line_width\":2,\"x\":{\"field\":\"x\"},\"y\":{\"field\":\"y\"}},\"id\":\"1187\",\"type\":\"Line\"},{\"attributes\":{\"data\":{\"x\":[1,2,3,4,5,6,7,8,9,10,11,12,13,14,15,16,17,18,19,20,21,22,23,24,25,26,27,28,29,30,31,32,33,34,35,36,37,38,39,40,41,42,43,44,45,46,47,48,49,50,51,52,53,54,55,56,57],\"y\":{\"__ndarray__\":\"AAAAAAAA+H+mm8QgsKJXQDMzMzMzo1dA7nw/NV6SV0AUrkfhepRXQEoMAiuHjldADAIrhxaRV0AxCKwcWpRXQMP1KFyP2ldAAiuHFtmGV0Dn+6nx0p1XQIGVQ4tsf1dA9ihcj8KFV0CBlUOLbHdXQHE9CtejYFdAZmZmZmaOV0BzaJHtfG9XQAaBlUOLfFdAsp3vp8ZrV0AOLbKd709XQJHtfD81VldAMQisHFpMV0CamZmZmVFXQLpJDAIrX1dA/Knx0k1SV0C4HoXrUaBYQF66SQwCA1tAcT0K16NIV0Bg5dAi2zFXQOf7qfHSTVdAJzEIrBxCV0BzaJHtfC9XQHnpJjEINFdABFYOLbItV0AGgZVDiyxXQKAaL90kJldAzczMzMwUV0Cmm8QgsBpXQMP1KFyPGldAI9v5fmocV0AEVg4tstVbQAAAAAAAAPh/AAAAAAAA+H8AAAAAAAD4f1g5tMh2wmFAAAAAAAAA+H9MN4lBYH1XQMUgsHJoGVdAppvEILASV0DVeOkmMfhWQDMzMzMzA1dA7nw/NV4CV0B3vp8aL91WQMl2vp8a11ZAAAAAAADwVkCPwvUoXO9WQFpkO99P3VZA\",\"dtype\":\"float64\",\"order\":\"little\",\"shape\":[57]}},\"selected\":{\"id\":\"1201\"},\"selection_policy\":{\"id\":\"1200\"}},\"id\":\"1186\",\"type\":\"ColumnDataSource\"},{\"attributes\":{\"line_alpha\":0.2,\"line_color\":\"#0600ef\",\"line_width\":2,\"x\":{\"field\":\"x\"},\"y\":{\"field\":\"y\"}},\"id\":\"1189\",\"type\":\"Line\"},{\"attributes\":{\"axis\":{\"id\":\"1162\"},\"coordinates\":null,\"grid_line_alpha\":0.4,\"group\":null,\"ticker\":null},\"id\":\"1165\",\"type\":\"Grid\"},{\"attributes\":{},\"id\":\"1163\",\"type\":\"BasicTicker\"},{\"attributes\":{},\"id\":\"1171\",\"type\":\"WheelZoomTool\"},{\"attributes\":{},\"id\":\"1158\",\"type\":\"LinearScale\"},{\"attributes\":{},\"id\":\"1175\",\"type\":\"HelpTool\"},{\"attributes\":{\"line_alpha\":0.1,\"line_color\":\"#0600ef\",\"line_width\":2,\"x\":{\"field\":\"x\"},\"y\":{\"field\":\"y\"}},\"id\":\"1188\",\"type\":\"Line\"},{\"attributes\":{\"line_alpha\":0.1,\"line_color\":\"#dc0000\",\"line_width\":2,\"x\":{\"field\":\"x\"},\"y\":{\"field\":\"y\"}},\"id\":\"1207\",\"type\":\"Line\"},{\"attributes\":{\"coordinates\":null,\"group\":null,\"text\":\"VER v. LEC Race Laps\",\"text_color\":\"white\"},\"id\":\"1184\",\"type\":\"Title\"},{\"attributes\":{\"bottom_units\":\"screen\",\"coordinates\":null,\"fill_alpha\":0.5,\"fill_color\":\"lightgrey\",\"group\":null,\"left_units\":\"screen\",\"level\":\"overlay\",\"line_alpha\":1.0,\"line_color\":\"black\",\"line_dash\":[4,4],\"line_width\":2,\"right_units\":\"screen\",\"syncable\":false,\"top_units\":\"screen\"},\"id\":\"1176\",\"type\":\"BoxAnnotation\"},{\"attributes\":{\"coordinates\":null,\"group\":null,\"items\":[{\"id\":\"1204\"},{\"id\":\"1224\"}]},\"id\":\"1203\",\"type\":\"Legend\"},{\"attributes\":{\"label\":{\"value\":\"LEC\"},\"renderers\":[{\"id\":\"1209\"}]},\"id\":\"1224\",\"type\":\"LegendItem\"},{\"attributes\":{},\"id\":\"1195\",\"type\":\"BasicTickFormatter\"},{\"attributes\":{\"line_color\":\"#dc0000\",\"line_width\":2,\"x\":{\"field\":\"x\"},\"y\":{\"field\":\"y\"}},\"id\":\"1206\",\"type\":\"Line\"},{\"attributes\":{\"source\":{\"id\":\"1186\"}},\"id\":\"1191\",\"type\":\"CDSView\"},{\"attributes\":{\"data\":{\"x\":[1,2,3,4,5,6,7,8,9,10,11,12,13,14,15,16,17,18,19,20,21,22,23,24,25,26,27,28,29,30,31,32,33,34,35,36,37,38,39,40,41,42,43,44,45,46,47,48,49,50,51,52,53,54,55,56,57],\"y\":{\"__ndarray__\":\"AAAAAAAA+H83iUFg5ZhXQPYoXI/CnVdA6SYxCKyUV0ASg8DKoX1XQNnO91PjnVdAbef7qfGiV0Dl0CLb+cZXQOf7qfHSBVhAvp8aL920V0DsUbgehatXQKAaL90kxldAzczMzMyMV0BzaJHtfHdXQNNNYhBYiVdA9ihcj8KVV0BOYhBYOXRXQC2yne+nbldAiUFg5dBqV0CkcD0K12NXQCuHFtnOf1dAkxgEVg5lV0AbL90kBklXQJMYBFYOtVhA1XjpJjHIW0D0/dR46VZXQPp+arx0Q1dAzczMzMw8V0BSuB6F60lXQMHKoUW2Q1dAQmDl0CJDV0AAAAAAAEhXQIGVQ4tsF1dA1XjpJjE4V0CJQWDl0CJXQG8Sg8DKIVdAKVyPwvUoV0DJdr6fGh9XQKAaL90kBldA7FG4HoUbV0AhsHJokaVcQAAAAAAAAPh/AAAAAAAA+H/Xo3A9CpdiQEjhehSum2FAAAAAAAAA+H8QWDm0yHZXQGiR7Xw/LVdAZmZmZmb2VkCamZmZmQlXQBBYObTI/lZAcT0K16MQV0CsHFpkO99WQESLbOf78VZAvHSTGAT2VkAj2/l+ahxXQJ7vp8ZLR1dA\",\"dtype\":\"float64\",\"order\":\"little\",\"shape\":[57]}},\"selected\":{\"id\":\"1222\"},\"selection_policy\":{\"id\":\"1221\"}},\"id\":\"1205\",\"type\":\"ColumnDataSource\"},{\"attributes\":{},\"id\":\"1199\",\"type\":\"AllLabels\"},{\"attributes\":{\"source\":{\"id\":\"1205\"}},\"id\":\"1210\",\"type\":\"CDSView\"},{\"attributes\":{},\"id\":\"1201\",\"type\":\"Selection\"},{\"attributes\":{\"axis\":{\"id\":\"1166\"},\"coordinates\":null,\"dimension\":1,\"grid_line_alpha\":0.4,\"group\":null,\"ticker\":null},\"id\":\"1169\",\"type\":\"Grid\"},{\"attributes\":{},\"id\":\"1200\",\"type\":\"UnionRenderers\"},{\"attributes\":{},\"id\":\"1222\",\"type\":\"Selection\"},{\"attributes\":{},\"id\":\"1154\",\"type\":\"DataRange1d\"},{\"attributes\":{},\"id\":\"1156\",\"type\":\"DataRange1d\"},{\"attributes\":{\"overlay\":{\"id\":\"1176\"}},\"id\":\"1172\",\"type\":\"BoxZoomTool\"},{\"attributes\":{},\"id\":\"1170\",\"type\":\"PanTool\"},{\"attributes\":{\"tools\":[{\"id\":\"1170\"},{\"id\":\"1171\"},{\"id\":\"1172\"},{\"id\":\"1173\"},{\"id\":\"1174\"},{\"id\":\"1175\"}]},\"id\":\"1177\",\"type\":\"Toolbar\"},{\"attributes\":{\"axis_label\":\"Lap time [s]\",\"axis_label_text_color\":\"white\",\"axis_line_color\":\"white\",\"coordinates\":null,\"formatter\":{\"id\":\"1195\"},\"group\":null,\"major_label_policy\":{\"id\":\"1196\"},\"major_label_text_color\":\"white\",\"major_tick_line_color\":\"white\",\"minor_tick_line_color\":\"white\",\"ticker\":{\"id\":\"1167\"}},\"id\":\"1166\",\"type\":\"LinearAxis\"},{\"attributes\":{},\"id\":\"1160\",\"type\":\"LinearScale\"},{\"attributes\":{},\"id\":\"1173\",\"type\":\"SaveTool\"},{\"attributes\":{\"label\":{\"value\":\"VER\"},\"renderers\":[{\"id\":\"1190\"}]},\"id\":\"1204\",\"type\":\"LegendItem\"},{\"attributes\":{\"axis_label\":\"Lap #\",\"axis_label_text_color\":\"white\",\"axis_line_color\":\"white\",\"coordinates\":null,\"formatter\":{\"id\":\"1198\"},\"group\":null,\"major_label_policy\":{\"id\":\"1199\"},\"major_label_text_color\":\"white\",\"major_tick_line_color\":\"white\",\"minor_tick_line_color\":\"white\",\"ticker\":{\"id\":\"1163\"}},\"id\":\"1162\",\"type\":\"LinearAxis\"}],\"root_ids\":[\"1153\"]},\"title\":\"Bokeh Application\",\"version\":\"2.4.2\"}};\n",
       "  const render_items = [{\"docid\":\"c105d2f5-bd6a-4c3f-bede-6d27cafa5c9d\",\"root_ids\":[\"1153\"],\"roots\":{\"1153\":\"c5cf42d7-0e3d-4fe8-b42f-74af48628116\"}}];\n",
       "  root.Bokeh.embed.embed_items_notebook(docs_json, render_items);\n",
       "\n",
       "  }\n",
       "  if (root.Bokeh !== undefined) {\n",
       "    embed_document(root);\n",
       "  } else {\n",
       "    let attempts = 0;\n",
       "    const timer = setInterval(function(root) {\n",
       "      if (root.Bokeh !== undefined) {\n",
       "        clearInterval(timer);\n",
       "        embed_document(root);\n",
       "      } else {\n",
       "        attempts++;\n",
       "        if (attempts > 100) {\n",
       "          clearInterval(timer);\n",
       "          console.log(\"Bokeh: ERROR: Unable to run BokehJS code because BokehJS library is missing\");\n",
       "        }\n",
       "      }\n",
       "    }, 10, root)\n",
       "  }\n",
       "})(window);"
      ],
      "application/vnd.bokehjs_exec.v0+json": ""
     },
     "metadata": {
      "application/vnd.bokehjs_exec.v0+json": {
       "id": "1153"
      }
     },
     "output_type": "display_data"
    }
   ],
   "source": [
    "# miami_r_session = fastf1.get_session(2022, 'Miami', 'R')\n",
    "# miami_r_session.load()\n",
    "\n",
    "ff1_helpers.compare_session_laps(miami_r_session, 'VER', 'LEC')"
   ]
  },
  {
   "cell_type": "code",
   "execution_count": 79,
   "id": "09be5ab8-d5be-4cc8-ae8e-b31b5dc7e46e",
   "metadata": {},
   "outputs": [
    {
     "data": {
      "text/html": [
       "\n",
       "\n",
       "\n",
       "\n",
       "\n",
       "\n",
       "  <div class=\"bk-root\" id=\"9d79d19e-d973-400e-a7d4-0913d20c9616\" data-root-id=\"13098\"></div>\n"
      ]
     },
     "metadata": {},
     "output_type": "display_data"
    },
    {
     "data": {
      "application/javascript": [
       "(function(root) {\n",
       "  function embed_document(root) {\n",
       "    \n",
       "  const docs_json = {\"0d45f88f-21eb-4cab-bf2f-729bfc223b24\":{\"defs\":[],\"roots\":{\"references\":[{\"attributes\":{\"background_fill_color\":\"#525151\",\"below\":[{\"id\":\"13109\"}],\"border_fill_color\":\"#525151\",\"center\":[{\"id\":\"13112\"},{\"id\":\"13116\"},{\"id\":\"13152\"}],\"left\":[{\"id\":\"13113\"}],\"renderers\":[{\"id\":\"13140\"},{\"id\":\"13158\"}],\"title\":{\"id\":\"13099\"},\"toolbar\":{\"id\":\"13124\"},\"x_range\":{\"id\":\"13101\"},\"x_scale\":{\"id\":\"13105\"},\"y_range\":{\"id\":\"13103\"},\"y_scale\":{\"id\":\"13107\"}},\"id\":\"13098\",\"subtype\":\"Figure\",\"type\":\"Plot\"},{\"attributes\":{\"coordinates\":null,\"group\":null,\"text\":\"VER Race Laps\",\"text_color\":\"white\"},\"id\":\"13099\",\"type\":\"Title\"},{\"attributes\":{\"bottom\":{\"expr\":{\"id\":\"13134\"}},\"fill_alpha\":{\"value\":0.1},\"fill_color\":{\"value\":\"white\"},\"hatch_alpha\":{\"value\":0.1},\"hatch_color\":{\"value\":\"white\"},\"line_alpha\":{\"value\":0.1},\"line_color\":{\"value\":\"white\"},\"top\":{\"expr\":{\"id\":\"13135\"}},\"width\":{\"value\":0.7},\"x\":{\"field\":\"lap_number\"}},\"id\":\"13156\",\"type\":\"VBar\"},{\"attributes\":{},\"id\":\"13110\",\"type\":\"BasicTicker\"},{\"attributes\":{},\"id\":\"13105\",\"type\":\"LinearScale\"},{\"attributes\":{\"bottom\":{\"expr\":{\"id\":\"13134\"}},\"fill_alpha\":{\"value\":0.2},\"fill_color\":{\"value\":\"white\"},\"hatch_alpha\":{\"value\":0.2},\"hatch_color\":{\"value\":\"white\"},\"line_alpha\":{\"value\":0.2},\"line_color\":{\"value\":\"white\"},\"top\":{\"expr\":{\"id\":\"13135\"}},\"width\":{\"value\":0.7},\"x\":{\"field\":\"lap_number\"}},\"id\":\"13157\",\"type\":\"VBar\"},{\"attributes\":{\"axis_label\":\"Lap #\",\"axis_label_text_color\":\"white\",\"axis_line_color\":\"white\",\"coordinates\":null,\"formatter\":{\"id\":\"13147\"},\"group\":null,\"major_label_policy\":{\"id\":\"13148\"},\"major_label_text_color\":\"white\",\"major_tick_line_color\":\"white\",\"minor_tick_line_color\":\"white\",\"ticker\":{\"id\":\"13110\"}},\"id\":\"13109\",\"type\":\"LinearAxis\"},{\"attributes\":{\"bottom\":{\"expr\":{\"id\":\"13134\"}},\"fill_color\":{\"value\":\"white\"},\"hatch_color\":{\"value\":\"white\"},\"line_color\":{\"value\":\"white\"},\"top\":{\"expr\":{\"id\":\"13135\"}},\"width\":{\"value\":0.7},\"x\":{\"field\":\"lap_number\"}},\"id\":\"13155\",\"type\":\"VBar\"},{\"attributes\":{},\"id\":\"13118\",\"type\":\"WheelZoomTool\"},{\"attributes\":{\"coordinates\":null,\"data_source\":{\"id\":\"13131\"},\"glyph\":{\"id\":\"13155\"},\"group\":null,\"hover_glyph\":null,\"muted_glyph\":{\"id\":\"13157\"},\"name\":\"MEDIUM\",\"nonselection_glyph\":{\"id\":\"13156\"},\"view\":{\"id\":\"13159\"}},\"id\":\"13158\",\"type\":\"GlyphRenderer\"},{\"attributes\":{},\"id\":\"13149\",\"type\":\"UnionRenderers\"},{\"attributes\":{\"label\":{\"value\":\"HARD\"},\"renderers\":[{\"id\":\"13140\"}]},\"id\":\"13153\",\"type\":\"LegendItem\"},{\"attributes\":{\"axis_label\":\"Lap time [s]\",\"axis_label_text_color\":\"white\",\"axis_line_color\":\"white\",\"coordinates\":null,\"formatter\":{\"id\":\"13144\"},\"group\":null,\"major_label_policy\":{\"id\":\"13145\"},\"major_label_text_color\":\"white\",\"major_tick_line_color\":\"white\",\"minor_tick_line_color\":\"white\",\"ticker\":{\"id\":\"13114\"}},\"id\":\"13113\",\"type\":\"LinearAxis\"},{\"attributes\":{\"fields\":[]},\"id\":\"13132\",\"type\":\"Stack\"},{\"attributes\":{\"axis\":{\"id\":\"13113\"},\"coordinates\":null,\"dimension\":1,\"grid_line_alpha\":0.4,\"group\":null,\"ticker\":null},\"id\":\"13116\",\"type\":\"Grid\"},{\"attributes\":{},\"id\":\"13114\",\"type\":\"BasicTicker\"},{\"attributes\":{\"bottom\":{\"expr\":{\"id\":\"13132\"}},\"fill_alpha\":{\"value\":0.1},\"fill_color\":{\"value\":\"#e8d402\"},\"hatch_alpha\":{\"value\":0.1},\"hatch_color\":{\"value\":\"#e8d402\"},\"line_alpha\":{\"value\":0.1},\"line_color\":{\"value\":\"#e8d402\"},\"top\":{\"expr\":{\"id\":\"13133\"}},\"width\":{\"value\":0.7},\"x\":{\"field\":\"lap_number\"}},\"id\":\"13138\",\"type\":\"VBar\"},{\"attributes\":{\"bottom\":{\"expr\":{\"id\":\"13132\"}},\"fill_alpha\":{\"value\":0.2},\"fill_color\":{\"value\":\"#e8d402\"},\"hatch_alpha\":{\"value\":0.2},\"hatch_color\":{\"value\":\"#e8d402\"},\"line_alpha\":{\"value\":0.2},\"line_color\":{\"value\":\"#e8d402\"},\"top\":{\"expr\":{\"id\":\"13133\"}},\"width\":{\"value\":0.7},\"x\":{\"field\":\"lap_number\"}},\"id\":\"13139\",\"type\":\"VBar\"},{\"attributes\":{},\"id\":\"13122\",\"type\":\"HelpTool\"},{\"attributes\":{},\"id\":\"13117\",\"type\":\"PanTool\"},{\"attributes\":{\"bottom\":{\"expr\":{\"id\":\"13132\"}},\"fill_color\":{\"value\":\"#e8d402\"},\"hatch_color\":{\"value\":\"#e8d402\"},\"line_color\":{\"value\":\"#e8d402\"},\"top\":{\"expr\":{\"id\":\"13133\"}},\"width\":{\"value\":0.7},\"x\":{\"field\":\"lap_number\"}},\"id\":\"13137\",\"type\":\"VBar\"},{\"attributes\":{\"overlay\":{\"id\":\"13123\"}},\"id\":\"13119\",\"type\":\"BoxZoomTool\"},{\"attributes\":{\"fields\":[\"HARD\",\"MEDIUM\"]},\"id\":\"13135\",\"type\":\"Stack\"},{\"attributes\":{},\"id\":\"13120\",\"type\":\"SaveTool\"},{\"attributes\":{},\"id\":\"13121\",\"type\":\"ResetTool\"},{\"attributes\":{},\"id\":\"13150\",\"type\":\"Selection\"},{\"attributes\":{\"bottom_units\":\"screen\",\"coordinates\":null,\"fill_alpha\":0.5,\"fill_color\":\"lightgrey\",\"group\":null,\"left_units\":\"screen\",\"level\":\"overlay\",\"line_alpha\":1.0,\"line_color\":\"black\",\"line_dash\":[4,4],\"line_width\":2,\"right_units\":\"screen\",\"syncable\":false,\"top_units\":\"screen\"},\"id\":\"13123\",\"type\":\"BoxAnnotation\"},{\"attributes\":{\"fields\":[\"HARD\"]},\"id\":\"13133\",\"type\":\"Stack\"},{\"attributes\":{},\"id\":\"13145\",\"type\":\"AllLabels\"},{\"attributes\":{\"coordinates\":null,\"data_source\":{\"id\":\"13131\"},\"glyph\":{\"id\":\"13137\"},\"group\":null,\"hover_glyph\":null,\"muted_glyph\":{\"id\":\"13139\"},\"name\":\"HARD\",\"nonselection_glyph\":{\"id\":\"13138\"},\"view\":{\"id\":\"13141\"}},\"id\":\"13140\",\"type\":\"GlyphRenderer\"},{\"attributes\":{},\"id\":\"13101\",\"type\":\"DataRange1d\"},{\"attributes\":{},\"id\":\"13144\",\"type\":\"BasicTickFormatter\"},{\"attributes\":{},\"id\":\"13103\",\"type\":\"DataRange1d\"},{\"attributes\":{\"tools\":[{\"id\":\"13117\"},{\"id\":\"13118\"},{\"id\":\"13119\"},{\"id\":\"13120\"},{\"id\":\"13121\"},{\"id\":\"13122\"}]},\"id\":\"13124\",\"type\":\"Toolbar\"},{\"attributes\":{},\"id\":\"13147\",\"type\":\"BasicTickFormatter\"},{\"attributes\":{\"fields\":[\"HARD\"]},\"id\":\"13134\",\"type\":\"Stack\"},{\"attributes\":{\"data\":{\"HARD\":[null,null,null,null,null,null,null,null,null,null,null,null,null,null,null,null,null,null,null,null,null,null,null,null,null,null,108.047,93.135,92.779,93.216,93.033,92.742,92.813,92.714,92.696,92.596,92.325,92.417,92.415,92.444,111.339,\"NaN\",\"NaN\",\"NaN\",142.077,\"NaN\",93.959,92.397,92.292,91.878,92.05,92.037,91.456,91.361,91.75,91.74,91.458],\"MEDIUM\":[\"NaN\",94.542,94.55,94.287,94.32,94.227,94.267,94.318,95.415,94.107,94.466,93.991,94.09,93.866,93.51,94.225,93.742,93.946,93.684,93.249,93.347,93.193,93.275,93.487,93.286,98.505,null,null,null,null,null,null,null,null,null,null,null,null,null,null,null,null,null,null,null,null,null,null,null,null,null,null,null,null,null,null,null],\"lap_number\":[1,2,3,4,5,6,7,8,9,10,11,12,13,14,15,16,17,18,19,20,21,22,23,24,25,26,27,28,29,30,31,32,33,34,35,36,37,38,39,40,41,42,43,44,45,46,47,48,49,50,51,52,53,54,55,56,57]},\"selected\":{\"id\":\"13150\"},\"selection_policy\":{\"id\":\"13149\"}},\"id\":\"13131\",\"type\":\"ColumnDataSource\"},{\"attributes\":{\"source\":{\"id\":\"13131\"}},\"id\":\"13141\",\"type\":\"CDSView\"},{\"attributes\":{},\"id\":\"13148\",\"type\":\"AllLabels\"},{\"attributes\":{\"label\":{\"value\":\"MEDIUM\"},\"renderers\":[{\"id\":\"13158\"}]},\"id\":\"13170\",\"type\":\"LegendItem\"},{\"attributes\":{\"source\":{\"id\":\"13131\"}},\"id\":\"13159\",\"type\":\"CDSView\"},{\"attributes\":{\"axis\":{\"id\":\"13109\"},\"coordinates\":null,\"grid_line_alpha\":0.4,\"group\":null,\"ticker\":null},\"id\":\"13112\",\"type\":\"Grid\"},{\"attributes\":{\"background_fill_alpha\":0.4,\"background_fill_color\":\"#525151\",\"border_line_width\":0,\"coordinates\":null,\"group\":null,\"items\":[{\"id\":\"13153\"},{\"id\":\"13170\"}],\"label_text_color\":\"white\"},\"id\":\"13152\",\"type\":\"Legend\"},{\"attributes\":{},\"id\":\"13107\",\"type\":\"LinearScale\"}],\"root_ids\":[\"13098\"]},\"title\":\"Bokeh Application\",\"version\":\"2.4.2\"}};\n",
       "  const render_items = [{\"docid\":\"0d45f88f-21eb-4cab-bf2f-729bfc223b24\",\"root_ids\":[\"13098\"],\"roots\":{\"13098\":\"9d79d19e-d973-400e-a7d4-0913d20c9616\"}}];\n",
       "  root.Bokeh.embed.embed_items_notebook(docs_json, render_items);\n",
       "\n",
       "  }\n",
       "  if (root.Bokeh !== undefined) {\n",
       "    embed_document(root);\n",
       "  } else {\n",
       "    let attempts = 0;\n",
       "    const timer = setInterval(function(root) {\n",
       "      if (root.Bokeh !== undefined) {\n",
       "        clearInterval(timer);\n",
       "        embed_document(root);\n",
       "      } else {\n",
       "        attempts++;\n",
       "        if (attempts > 100) {\n",
       "          clearInterval(timer);\n",
       "          console.log(\"Bokeh: ERROR: Unable to run BokehJS code because BokehJS library is missing\");\n",
       "        }\n",
       "      }\n",
       "    }, 10, root)\n",
       "  }\n",
       "})(window);"
      ],
      "application/vnd.bokehjs_exec.v0+json": ""
     },
     "metadata": {
      "application/vnd.bokehjs_exec.v0+json": {
       "id": "13098"
      }
     },
     "output_type": "display_data"
    }
   ],
   "source": [
    "ff1_helpers.compare_tire_lap_times(miami_r_session, 'VER')"
   ]
  },
  {
   "cell_type": "code",
   "execution_count": null,
   "id": "02f2dd90-2928-43c2-bcf6-5f7175b88ae7",
   "metadata": {},
   "outputs": [],
   "source": []
  }
 ],
 "metadata": {
  "kernelspec": {
   "display_name": "f1",
   "language": "python",
   "name": "f1"
  },
  "language_info": {
   "codemirror_mode": {
    "name": "ipython",
    "version": 3
   },
   "file_extension": ".py",
   "mimetype": "text/x-python",
   "name": "python",
   "nbconvert_exporter": "python",
   "pygments_lexer": "ipython3",
   "version": "3.10.2"
  }
 },
 "nbformat": 4,
 "nbformat_minor": 5
}
